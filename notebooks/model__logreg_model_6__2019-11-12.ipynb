{
 "cells": [
  {
   "cell_type": "markdown",
   "metadata": {},
   "source": [
    "# Model: Gender Only"
   ]
  },
  {
   "cell_type": "markdown",
   "metadata": {},
   "source": [
    "https://www.kaggle.com/c/titanic/overview"
   ]
  },
  {
   "cell_type": "markdown",
   "metadata": {},
   "source": [
    "Features included in this model are:\n",
    "    \n",
    "* age \n",
    "* sibsp \n",
    "* parch \n",
    "* fare\n",
    "\n",
    "\n",
    "* pclass\n",
    "* sex\n",
    "* ticket\n",
    "* embarked"
   ]
  },
  {
   "cell_type": "markdown",
   "metadata": {},
   "source": [
    "The numerical features are scaled.  "
   ]
  },
  {
   "cell_type": "markdown",
   "metadata": {},
   "source": [
    "# Initialization"
   ]
  },
  {
   "cell_type": "code",
   "execution_count": 1,
   "metadata": {},
   "outputs": [
    {
     "data": {
      "text/html": [
       "<style>.container { width:80% !important; }</style>"
      ],
      "text/plain": [
       "<IPython.core.display.HTML object>"
      ]
     },
     "metadata": {},
     "output_type": "display_data"
    }
   ],
   "source": [
    "%run init.ipynb"
   ]
  },
  {
   "cell_type": "code",
   "execution_count": 2,
   "metadata": {},
   "outputs": [],
   "source": [
    "from sklearn.impute import SimpleImputer\n",
    "from sklearn.linear_model import LogisticRegression \n",
    "\n",
    "from sklearn.preprocessing import PolynomialFeatures\n",
    "from sklearn.pipeline import make_pipeline\n",
    "\n",
    "from sklearn.preprocessing import scale\n",
    "\n",
    "import great_expectations as ge\n",
    "from progressbar import ProgressBar\n",
    "\n",
    "RANDOM_STATE = 42"
   ]
  },
  {
   "cell_type": "code",
   "execution_count": 3,
   "metadata": {},
   "outputs": [],
   "source": [
    "from data.data import (transform_X_numerical, \n",
    "                       transform_X_categorical, \n",
    "                       transform_X)"
   ]
  },
  {
   "cell_type": "markdown",
   "metadata": {},
   "source": [
    "## Extract Clean Data"
   ]
  },
  {
   "cell_type": "markdown",
   "metadata": {},
   "source": [
    "**Separate data into X (features) and y (label)**"
   ]
  },
  {
   "cell_type": "code",
   "execution_count": 4,
   "metadata": {},
   "outputs": [
    {
     "data": {
      "text/html": [
       "<div>\n",
       "<style scoped>\n",
       "    .dataframe tbody tr th:only-of-type {\n",
       "        vertical-align: middle;\n",
       "    }\n",
       "\n",
       "    .dataframe tbody tr th {\n",
       "        vertical-align: top;\n",
       "    }\n",
       "\n",
       "    .dataframe thead th {\n",
       "        text-align: right;\n",
       "    }\n",
       "</style>\n",
       "<table border=\"1\" class=\"dataframe\">\n",
       "  <thead>\n",
       "    <tr style=\"text-align: right;\">\n",
       "      <th></th>\n",
       "      <th>survived</th>\n",
       "      <th>pclass</th>\n",
       "      <th>name</th>\n",
       "      <th>sex</th>\n",
       "      <th>sibsp</th>\n",
       "      <th>parch</th>\n",
       "      <th>ticket</th>\n",
       "      <th>embarked</th>\n",
       "      <th>title</th>\n",
       "      <th>last_name</th>\n",
       "      <th>cabin_number</th>\n",
       "      <th>family_size</th>\n",
       "      <th>fare</th>\n",
       "      <th>fare_bin</th>\n",
       "      <th>age</th>\n",
       "      <th>age_bin</th>\n",
       "      <th>is_child</th>\n",
       "      <th>is_traveling_alone</th>\n",
       "    </tr>\n",
       "    <tr>\n",
       "      <th>passengerid</th>\n",
       "      <th></th>\n",
       "      <th></th>\n",
       "      <th></th>\n",
       "      <th></th>\n",
       "      <th></th>\n",
       "      <th></th>\n",
       "      <th></th>\n",
       "      <th></th>\n",
       "      <th></th>\n",
       "      <th></th>\n",
       "      <th></th>\n",
       "      <th></th>\n",
       "      <th></th>\n",
       "      <th></th>\n",
       "      <th></th>\n",
       "      <th></th>\n",
       "      <th></th>\n",
       "      <th></th>\n",
       "    </tr>\n",
       "  </thead>\n",
       "  <tbody>\n",
       "    <tr>\n",
       "      <td>1</td>\n",
       "      <td>0</td>\n",
       "      <td>3</td>\n",
       "      <td>Braund, Mr. Owen Harris</td>\n",
       "      <td>male</td>\n",
       "      <td>1</td>\n",
       "      <td>0</td>\n",
       "      <td>A/5 21171</td>\n",
       "      <td>S</td>\n",
       "      <td>Mr</td>\n",
       "      <td>Braund</td>\n",
       "      <td>21171.0</td>\n",
       "      <td>2</td>\n",
       "      <td>7.2500</td>\n",
       "      <td>q1</td>\n",
       "      <td>22.0</td>\n",
       "      <td>student</td>\n",
       "      <td>0</td>\n",
       "      <td>0</td>\n",
       "    </tr>\n",
       "    <tr>\n",
       "      <td>2</td>\n",
       "      <td>1</td>\n",
       "      <td>1</td>\n",
       "      <td>Cumings, Mrs. John Bradley (Florence Briggs Th...</td>\n",
       "      <td>female</td>\n",
       "      <td>1</td>\n",
       "      <td>0</td>\n",
       "      <td>PC 17599</td>\n",
       "      <td>C</td>\n",
       "      <td>Mrs</td>\n",
       "      <td>Cumings</td>\n",
       "      <td>17599.0</td>\n",
       "      <td>2</td>\n",
       "      <td>71.2833</td>\n",
       "      <td>q4</td>\n",
       "      <td>38.0</td>\n",
       "      <td>adult</td>\n",
       "      <td>0</td>\n",
       "      <td>0</td>\n",
       "    </tr>\n",
       "    <tr>\n",
       "      <td>3</td>\n",
       "      <td>1</td>\n",
       "      <td>3</td>\n",
       "      <td>Heikkinen, Miss. Laina</td>\n",
       "      <td>female</td>\n",
       "      <td>0</td>\n",
       "      <td>0</td>\n",
       "      <td>STON/O2. 3101282</td>\n",
       "      <td>S</td>\n",
       "      <td>Miss</td>\n",
       "      <td>Heikkinen</td>\n",
       "      <td>3101282.0</td>\n",
       "      <td>1</td>\n",
       "      <td>7.9250</td>\n",
       "      <td>q1</td>\n",
       "      <td>26.0</td>\n",
       "      <td>young_adult</td>\n",
       "      <td>0</td>\n",
       "      <td>1</td>\n",
       "    </tr>\n",
       "    <tr>\n",
       "      <td>4</td>\n",
       "      <td>1</td>\n",
       "      <td>1</td>\n",
       "      <td>Futrelle, Mrs. Jacques Heath (Lily May Peel)</td>\n",
       "      <td>female</td>\n",
       "      <td>1</td>\n",
       "      <td>0</td>\n",
       "      <td>113803</td>\n",
       "      <td>S</td>\n",
       "      <td>Mrs</td>\n",
       "      <td>Futrelle</td>\n",
       "      <td>113803.0</td>\n",
       "      <td>2</td>\n",
       "      <td>53.1000</td>\n",
       "      <td>q4</td>\n",
       "      <td>35.0</td>\n",
       "      <td>young_adult</td>\n",
       "      <td>0</td>\n",
       "      <td>0</td>\n",
       "    </tr>\n",
       "    <tr>\n",
       "      <td>5</td>\n",
       "      <td>0</td>\n",
       "      <td>3</td>\n",
       "      <td>Allen, Mr. William Henry</td>\n",
       "      <td>male</td>\n",
       "      <td>0</td>\n",
       "      <td>0</td>\n",
       "      <td>373450</td>\n",
       "      <td>S</td>\n",
       "      <td>Mr</td>\n",
       "      <td>Allen</td>\n",
       "      <td>373450.0</td>\n",
       "      <td>1</td>\n",
       "      <td>8.0500</td>\n",
       "      <td>q2</td>\n",
       "      <td>35.0</td>\n",
       "      <td>young_adult</td>\n",
       "      <td>0</td>\n",
       "      <td>1</td>\n",
       "    </tr>\n",
       "    <tr>\n",
       "      <td>...</td>\n",
       "      <td>...</td>\n",
       "      <td>...</td>\n",
       "      <td>...</td>\n",
       "      <td>...</td>\n",
       "      <td>...</td>\n",
       "      <td>...</td>\n",
       "      <td>...</td>\n",
       "      <td>...</td>\n",
       "      <td>...</td>\n",
       "      <td>...</td>\n",
       "      <td>...</td>\n",
       "      <td>...</td>\n",
       "      <td>...</td>\n",
       "      <td>...</td>\n",
       "      <td>...</td>\n",
       "      <td>...</td>\n",
       "      <td>...</td>\n",
       "      <td>...</td>\n",
       "    </tr>\n",
       "    <tr>\n",
       "      <td>887</td>\n",
       "      <td>0</td>\n",
       "      <td>2</td>\n",
       "      <td>Montvila, Rev. Juozas</td>\n",
       "      <td>male</td>\n",
       "      <td>0</td>\n",
       "      <td>0</td>\n",
       "      <td>211536</td>\n",
       "      <td>S</td>\n",
       "      <td>Mr</td>\n",
       "      <td>Montvila</td>\n",
       "      <td>211536.0</td>\n",
       "      <td>1</td>\n",
       "      <td>13.0000</td>\n",
       "      <td>q2</td>\n",
       "      <td>27.0</td>\n",
       "      <td>young_adult</td>\n",
       "      <td>0</td>\n",
       "      <td>1</td>\n",
       "    </tr>\n",
       "    <tr>\n",
       "      <td>888</td>\n",
       "      <td>1</td>\n",
       "      <td>1</td>\n",
       "      <td>Graham, Miss. Margaret Edith</td>\n",
       "      <td>female</td>\n",
       "      <td>0</td>\n",
       "      <td>0</td>\n",
       "      <td>112053</td>\n",
       "      <td>S</td>\n",
       "      <td>Miss</td>\n",
       "      <td>Graham</td>\n",
       "      <td>112053.0</td>\n",
       "      <td>1</td>\n",
       "      <td>30.0000</td>\n",
       "      <td>q3</td>\n",
       "      <td>19.0</td>\n",
       "      <td>student</td>\n",
       "      <td>0</td>\n",
       "      <td>1</td>\n",
       "    </tr>\n",
       "    <tr>\n",
       "      <td>889</td>\n",
       "      <td>0</td>\n",
       "      <td>3</td>\n",
       "      <td>Johnston, Miss. Catherine Helen \"Carrie\"</td>\n",
       "      <td>female</td>\n",
       "      <td>1</td>\n",
       "      <td>2</td>\n",
       "      <td>W./C. 6607</td>\n",
       "      <td>S</td>\n",
       "      <td>Miss</td>\n",
       "      <td>Johnston</td>\n",
       "      <td>6607.0</td>\n",
       "      <td>4</td>\n",
       "      <td>23.4500</td>\n",
       "      <td>q3</td>\n",
       "      <td>22.0</td>\n",
       "      <td>student</td>\n",
       "      <td>0</td>\n",
       "      <td>0</td>\n",
       "    </tr>\n",
       "    <tr>\n",
       "      <td>890</td>\n",
       "      <td>1</td>\n",
       "      <td>1</td>\n",
       "      <td>Behr, Mr. Karl Howell</td>\n",
       "      <td>male</td>\n",
       "      <td>0</td>\n",
       "      <td>0</td>\n",
       "      <td>111369</td>\n",
       "      <td>C</td>\n",
       "      <td>Mr</td>\n",
       "      <td>Behr</td>\n",
       "      <td>111369.0</td>\n",
       "      <td>1</td>\n",
       "      <td>30.0000</td>\n",
       "      <td>q3</td>\n",
       "      <td>26.0</td>\n",
       "      <td>young_adult</td>\n",
       "      <td>0</td>\n",
       "      <td>1</td>\n",
       "    </tr>\n",
       "    <tr>\n",
       "      <td>891</td>\n",
       "      <td>0</td>\n",
       "      <td>3</td>\n",
       "      <td>Dooley, Mr. Patrick</td>\n",
       "      <td>male</td>\n",
       "      <td>0</td>\n",
       "      <td>0</td>\n",
       "      <td>370376</td>\n",
       "      <td>Q</td>\n",
       "      <td>Mr</td>\n",
       "      <td>Dooley</td>\n",
       "      <td>370376.0</td>\n",
       "      <td>1</td>\n",
       "      <td>7.7500</td>\n",
       "      <td>q1</td>\n",
       "      <td>32.0</td>\n",
       "      <td>young_adult</td>\n",
       "      <td>0</td>\n",
       "      <td>1</td>\n",
       "    </tr>\n",
       "  </tbody>\n",
       "</table>\n",
       "<p>891 rows × 18 columns</p>\n",
       "</div>"
      ],
      "text/plain": [
       "             survived pclass  \\\n",
       "passengerid                    \n",
       "1                   0      3   \n",
       "2                   1      1   \n",
       "3                   1      3   \n",
       "4                   1      1   \n",
       "5                   0      3   \n",
       "...               ...    ...   \n",
       "887                 0      2   \n",
       "888                 1      1   \n",
       "889                 0      3   \n",
       "890                 1      1   \n",
       "891                 0      3   \n",
       "\n",
       "                                                          name     sex  sibsp  \\\n",
       "passengerid                                                                     \n",
       "1                                      Braund, Mr. Owen Harris    male      1   \n",
       "2            Cumings, Mrs. John Bradley (Florence Briggs Th...  female      1   \n",
       "3                                       Heikkinen, Miss. Laina  female      0   \n",
       "4                 Futrelle, Mrs. Jacques Heath (Lily May Peel)  female      1   \n",
       "5                                     Allen, Mr. William Henry    male      0   \n",
       "...                                                        ...     ...    ...   \n",
       "887                                      Montvila, Rev. Juozas    male      0   \n",
       "888                               Graham, Miss. Margaret Edith  female      0   \n",
       "889                   Johnston, Miss. Catherine Helen \"Carrie\"  female      1   \n",
       "890                                      Behr, Mr. Karl Howell    male      0   \n",
       "891                                        Dooley, Mr. Patrick    male      0   \n",
       "\n",
       "             parch            ticket embarked title  last_name  cabin_number  \\\n",
       "passengerid                                                                    \n",
       "1                0         A/5 21171        S    Mr     Braund       21171.0   \n",
       "2                0          PC 17599        C   Mrs    Cumings       17599.0   \n",
       "3                0  STON/O2. 3101282        S  Miss  Heikkinen     3101282.0   \n",
       "4                0            113803        S   Mrs   Futrelle      113803.0   \n",
       "5                0            373450        S    Mr      Allen      373450.0   \n",
       "...            ...               ...      ...   ...        ...           ...   \n",
       "887              0            211536        S    Mr   Montvila      211536.0   \n",
       "888              0            112053        S  Miss     Graham      112053.0   \n",
       "889              2        W./C. 6607        S  Miss   Johnston        6607.0   \n",
       "890              0            111369        C    Mr       Behr      111369.0   \n",
       "891              0            370376        Q    Mr     Dooley      370376.0   \n",
       "\n",
       "             family_size     fare fare_bin   age      age_bin  is_child  \\\n",
       "passengerid                                                               \n",
       "1                      2   7.2500       q1  22.0      student         0   \n",
       "2                      2  71.2833       q4  38.0        adult         0   \n",
       "3                      1   7.9250       q1  26.0  young_adult         0   \n",
       "4                      2  53.1000       q4  35.0  young_adult         0   \n",
       "5                      1   8.0500       q2  35.0  young_adult         0   \n",
       "...                  ...      ...      ...   ...          ...       ...   \n",
       "887                    1  13.0000       q2  27.0  young_adult         0   \n",
       "888                    1  30.0000       q3  19.0      student         0   \n",
       "889                    4  23.4500       q3  22.0      student         0   \n",
       "890                    1  30.0000       q3  26.0  young_adult         0   \n",
       "891                    1   7.7500       q1  32.0  young_adult         0   \n",
       "\n",
       "             is_traveling_alone  \n",
       "passengerid                      \n",
       "1                             0  \n",
       "2                             0  \n",
       "3                             1  \n",
       "4                             0  \n",
       "5                             1  \n",
       "...                         ...  \n",
       "887                           1  \n",
       "888                           1  \n",
       "889                           0  \n",
       "890                           1  \n",
       "891                           1  \n",
       "\n",
       "[891 rows x 18 columns]"
      ]
     },
     "execution_count": 4,
     "metadata": {},
     "output_type": "execute_result"
    }
   ],
   "source": [
    "Xy = pd.read_csv('../data/processed/train_v4.csv', index_col='passengerid', dtype={'pclass':str, 'is_child':int, 'is_traveling_alone':int})\n",
    "Xy"
   ]
  },
  {
   "cell_type": "markdown",
   "metadata": {},
   "source": [
    "## Train Test Split Data"
   ]
  },
  {
   "cell_type": "code",
   "execution_count": 5,
   "metadata": {},
   "outputs": [],
   "source": [
    "all_columns =['age', 'fare', 'family_size', 'is_child', 'is_traveling_alone',\n",
    "              'sex_male', 'embarked_Q', 'embarked_S', 'title_Miss', 'title_Mr',\n",
    "              'title_Mrs', 'title_Officer', 'title_Royalty', 'age_bin_baby',\n",
    "              'age_bin_child', 'age_bin_senior', 'age_bin_student', 'age_bin_teen',\n",
    "              'age_bin_young_adult', 'fare_bin_q2', 'fare_bin_q3', 'fare_bin_q4',\n",
    "              'pclass_2', 'pclass_3'],"
   ]
  },
  {
   "cell_type": "code",
   "execution_count": 6,
   "metadata": {},
   "outputs": [],
   "source": [
    "#important_features = all_columns\n",
    "\n",
    "important_features = ['title_Mr', 'title_Mrs', 'family_size', 'is_child', 'pclass_2', 'pclass_3'] # Model 6\n",
    "# important_features = ['title_Mr', 'title_Mrs',  'is_child', 'pclass_2', 'pclass_3'] # Model 6b\n",
    "\n"
   ]
  },
  {
   "cell_type": "code",
   "execution_count": 7,
   "metadata": {},
   "outputs": [
    {
     "data": {
      "text/plain": [
       "(891, 6)"
      ]
     },
     "execution_count": 7,
     "metadata": {},
     "output_type": "execute_result"
    },
    {
     "data": {
      "text/html": [
       "<div>\n",
       "<style scoped>\n",
       "    .dataframe tbody tr th:only-of-type {\n",
       "        vertical-align: middle;\n",
       "    }\n",
       "\n",
       "    .dataframe tbody tr th {\n",
       "        vertical-align: top;\n",
       "    }\n",
       "\n",
       "    .dataframe thead th {\n",
       "        text-align: right;\n",
       "    }\n",
       "</style>\n",
       "<table border=\"1\" class=\"dataframe\">\n",
       "  <thead>\n",
       "    <tr style=\"text-align: right;\">\n",
       "      <th></th>\n",
       "      <th>title_Mr</th>\n",
       "      <th>title_Mrs</th>\n",
       "      <th>family_size</th>\n",
       "      <th>is_child</th>\n",
       "      <th>pclass_2</th>\n",
       "      <th>pclass_3</th>\n",
       "    </tr>\n",
       "    <tr>\n",
       "      <th>passengerid</th>\n",
       "      <th></th>\n",
       "      <th></th>\n",
       "      <th></th>\n",
       "      <th></th>\n",
       "      <th></th>\n",
       "      <th></th>\n",
       "    </tr>\n",
       "  </thead>\n",
       "  <tbody>\n",
       "    <tr>\n",
       "      <td>1</td>\n",
       "      <td>1</td>\n",
       "      <td>0</td>\n",
       "      <td>2</td>\n",
       "      <td>0</td>\n",
       "      <td>0</td>\n",
       "      <td>1</td>\n",
       "    </tr>\n",
       "    <tr>\n",
       "      <td>2</td>\n",
       "      <td>0</td>\n",
       "      <td>1</td>\n",
       "      <td>2</td>\n",
       "      <td>0</td>\n",
       "      <td>0</td>\n",
       "      <td>0</td>\n",
       "    </tr>\n",
       "    <tr>\n",
       "      <td>3</td>\n",
       "      <td>0</td>\n",
       "      <td>0</td>\n",
       "      <td>1</td>\n",
       "      <td>0</td>\n",
       "      <td>0</td>\n",
       "      <td>1</td>\n",
       "    </tr>\n",
       "    <tr>\n",
       "      <td>4</td>\n",
       "      <td>0</td>\n",
       "      <td>1</td>\n",
       "      <td>2</td>\n",
       "      <td>0</td>\n",
       "      <td>0</td>\n",
       "      <td>0</td>\n",
       "    </tr>\n",
       "    <tr>\n",
       "      <td>5</td>\n",
       "      <td>1</td>\n",
       "      <td>0</td>\n",
       "      <td>1</td>\n",
       "      <td>0</td>\n",
       "      <td>0</td>\n",
       "      <td>1</td>\n",
       "    </tr>\n",
       "    <tr>\n",
       "      <td>...</td>\n",
       "      <td>...</td>\n",
       "      <td>...</td>\n",
       "      <td>...</td>\n",
       "      <td>...</td>\n",
       "      <td>...</td>\n",
       "      <td>...</td>\n",
       "    </tr>\n",
       "    <tr>\n",
       "      <td>887</td>\n",
       "      <td>1</td>\n",
       "      <td>0</td>\n",
       "      <td>1</td>\n",
       "      <td>0</td>\n",
       "      <td>1</td>\n",
       "      <td>0</td>\n",
       "    </tr>\n",
       "    <tr>\n",
       "      <td>888</td>\n",
       "      <td>0</td>\n",
       "      <td>0</td>\n",
       "      <td>1</td>\n",
       "      <td>0</td>\n",
       "      <td>0</td>\n",
       "      <td>0</td>\n",
       "    </tr>\n",
       "    <tr>\n",
       "      <td>889</td>\n",
       "      <td>0</td>\n",
       "      <td>0</td>\n",
       "      <td>4</td>\n",
       "      <td>0</td>\n",
       "      <td>0</td>\n",
       "      <td>1</td>\n",
       "    </tr>\n",
       "    <tr>\n",
       "      <td>890</td>\n",
       "      <td>1</td>\n",
       "      <td>0</td>\n",
       "      <td>1</td>\n",
       "      <td>0</td>\n",
       "      <td>0</td>\n",
       "      <td>0</td>\n",
       "    </tr>\n",
       "    <tr>\n",
       "      <td>891</td>\n",
       "      <td>1</td>\n",
       "      <td>0</td>\n",
       "      <td>1</td>\n",
       "      <td>0</td>\n",
       "      <td>0</td>\n",
       "      <td>1</td>\n",
       "    </tr>\n",
       "  </tbody>\n",
       "</table>\n",
       "<p>891 rows × 6 columns</p>\n",
       "</div>"
      ],
      "text/plain": [
       "             title_Mr  title_Mrs  family_size  is_child  pclass_2  pclass_3\n",
       "passengerid                                                                \n",
       "1                   1          0            2         0         0         1\n",
       "2                   0          1            2         0         0         0\n",
       "3                   0          0            1         0         0         1\n",
       "4                   0          1            2         0         0         0\n",
       "5                   1          0            1         0         0         1\n",
       "...               ...        ...          ...       ...       ...       ...\n",
       "887                 1          0            1         0         1         0\n",
       "888                 0          0            1         0         0         0\n",
       "889                 0          0            4         0         0         1\n",
       "890                 1          0            1         0         0         0\n",
       "891                 1          0            1         0         0         1\n",
       "\n",
       "[891 rows x 6 columns]"
      ]
     },
     "execution_count": 7,
     "metadata": {},
     "output_type": "execute_result"
    }
   ],
   "source": [
    "X_all = transform_X(Xy.drop(['name'], axis=1), \n",
    "                    numerical_columns=[\"age\", \"fare\"],\n",
    "                    categorical_columns=[\n",
    "                        \"sex\",\n",
    "                         \"family_size\",\n",
    "                        \"embarked\",\n",
    "                        \"title\",\n",
    "                        \"age_bin\",\n",
    "                        \"fare_bin\",\n",
    "                        \"is_child\",\n",
    "                        \"is_traveling_alone\",\n",
    "                        \"pclass\"])\n",
    "                        \n",
    "X = X_all[important_features]\n",
    "y = Xy['survived']\n",
    "X.shape\n",
    "\n",
    "X"
   ]
  },
  {
   "cell_type": "markdown",
   "metadata": {},
   "source": [
    "### Split data into train and test. "
   ]
  },
  {
   "cell_type": "code",
   "execution_count": 8,
   "metadata": {},
   "outputs": [
    {
     "name": "stdout",
     "output_type": "stream",
     "text": [
      "Number of sample in training data = 712\n",
      "Number of sample in test data = 179\n"
     ]
    }
   ],
   "source": [
    "X_train, X_test, y_train, y_test = train_test_split(X, y, test_size=0.2, random_state=RANDOM_STATE)\n",
    "y_test = y_test.to_frame()\n",
    "\n",
    "print(f'Number of sample in training data = {len(X_train)}')\n",
    "print(f'Number of sample in test data = {len(X_test)}')"
   ]
  },
  {
   "cell_type": "markdown",
   "metadata": {},
   "source": [
    "### Logistic Regression with Age"
   ]
  },
  {
   "cell_type": "code",
   "execution_count": 16,
   "metadata": {},
   "outputs": [
    {
     "data": {
      "text/plain": [
       "Index(['title_Mr', 'title_Mrs', 'family_size', 'is_child', 'pclass_2',\n",
       "       'pclass_3'],\n",
       "      dtype='object')"
      ]
     },
     "execution_count": 16,
     "metadata": {},
     "output_type": "execute_result"
    },
    {
     "data": {
      "text/plain": [
       "LogisticRegression(C=1.0, class_weight=None, dual=False, fit_intercept=True,\n",
       "                   intercept_scaling=1, l1_ratio=1, max_iter=500,\n",
       "                   multi_class='warn', n_jobs=None, penalty='l2',\n",
       "                   random_state=42, solver='warn', tol=0.0001, verbose=0,\n",
       "                   warm_start=False)"
      ]
     },
     "execution_count": 16,
     "metadata": {},
     "output_type": "execute_result"
    },
    {
     "name": "stdout",
     "output_type": "stream",
     "text": [
      "\n",
      "Accuracy Score on X_test,y_test:  0.8268\n",
      "\n",
      "\n",
      "Cross Validation Scores:\n",
      "\tAccuracy \t: 0.8384 (+/- 0.0352)\n",
      "\tRecall\t\t: 0.7162 (+/- 0.0677)\n",
      "\tPrecision\t: 0.8306 (+/- 0.0424)\n",
      "\tF1\t\t: 0.7691 (+/- 0.0571)\n",
      "\n",
      "\n",
      "11/12/19, logreg_model_3b,  <kaggle_accuracy>, 0.8384, 0.7162,0.8306,0.7691\n"
     ]
    }
   ],
   "source": [
    "X.columns\n",
    "\n",
    "model = LogisticRegression(random_state=RANDOM_STATE, max_iter=500, fit_intercept=True,\n",
    "                          penalty='l2', l1_ratio=1)\n",
    "\n",
    "model.fit(X_train, y_train) \n",
    "\n",
    "y_pred, predicted_accuracy_score, cv_scores = pm.calc_model_rst_table_metrics(model, X_train, y_train, X_test, y_test, \n",
    "                                                      model_name='logreg_model_3b', cv=5, verbose=True)\n",
    "    "
   ]
  },
  {
   "cell_type": "markdown",
   "metadata": {},
   "source": [
    "# Feature Selection"
   ]
  },
  {
   "cell_type": "code",
   "execution_count": 17,
   "metadata": {},
   "outputs": [],
   "source": [
    "from yellowbrick.model_selection import FeatureImportances"
   ]
  },
  {
   "cell_type": "code",
   "execution_count": 18,
   "metadata": {},
   "outputs": [
    {
     "data": {
      "image/png": "[encoded data removed]",
      "text/plain": [
       "<Figure size 1080x720 with 1 Axes>"
      ]
     },
     "metadata": {
      "needs_background": "light"
     },
     "output_type": "display_data"
    }
   ],
   "source": [
    "viz = FeatureImportances(model, stack=False, relative=True, absolute=True,  size=(1080, 720))\n",
    "viz.fit(X, y);\n",
    "viz.show();"
   ]
  },
  {
   "cell_type": "code",
   "execution_count": 76,
   "metadata": {},
   "outputs": [
    {
     "data": {
      "text/plain": [
       "['title_Mr', 'pclass_3', 'title_Mrs', 'pclass_2', 'is_child']"
      ]
     },
     "execution_count": 76,
     "metadata": {},
     "output_type": "execute_result"
    },
    {
     "data": {
      "text/html": [
       "<div>\n",
       "<style scoped>\n",
       "    .dataframe tbody tr th:only-of-type {\n",
       "        vertical-align: middle;\n",
       "    }\n",
       "\n",
       "    .dataframe tbody tr th {\n",
       "        vertical-align: top;\n",
       "    }\n",
       "\n",
       "    .dataframe thead th {\n",
       "        text-align: right;\n",
       "    }\n",
       "</style>\n",
       "<table border=\"1\" class=\"dataframe\">\n",
       "  <thead>\n",
       "    <tr style=\"text-align: right;\">\n",
       "      <th></th>\n",
       "      <th>index</th>\n",
       "      <th>Feature Importance</th>\n",
       "    </tr>\n",
       "  </thead>\n",
       "  <tbody>\n",
       "    <tr>\n",
       "      <td>0</td>\n",
       "      <td>title_Mr</td>\n",
       "      <td>100.000000</td>\n",
       "    </tr>\n",
       "    <tr>\n",
       "      <td>1</td>\n",
       "      <td>pclass_3</td>\n",
       "      <td>69.746316</td>\n",
       "    </tr>\n",
       "    <tr>\n",
       "      <td>2</td>\n",
       "      <td>title_Mrs</td>\n",
       "      <td>29.355846</td>\n",
       "    </tr>\n",
       "    <tr>\n",
       "      <td>3</td>\n",
       "      <td>pclass_2</td>\n",
       "      <td>24.044784</td>\n",
       "    </tr>\n",
       "    <tr>\n",
       "      <td>4</td>\n",
       "      <td>is_child</td>\n",
       "      <td>7.137983</td>\n",
       "    </tr>\n",
       "  </tbody>\n",
       "</table>\n",
       "</div>"
      ],
      "text/plain": [
       "       index  Feature Importance\n",
       "0   title_Mr          100.000000\n",
       "1   pclass_3           69.746316\n",
       "2  title_Mrs           29.355846\n",
       "3   pclass_2           24.044784\n",
       "4   is_child            7.137983"
      ]
     },
     "execution_count": 76,
     "metadata": {},
     "output_type": "execute_result"
    }
   ],
   "source": [
    "fi = (pd.DataFrame(data = viz.feature_importances_,\n",
    "             index = viz.features_,\n",
    "             columns=['Feature Importance']\n",
    "            )\n",
    "      .sort_values(by='Feature Importance', ascending=False)\n",
    "     )\n",
    "\n",
    "fi.iloc[0:10].index.tolist()\n",
    "\n",
    "with pd.option_context('display.max_rows', 20):\n",
    "\tfi.reset_index()"
   ]
  },
  {
   "cell_type": "markdown",
   "metadata": {},
   "source": [
    "# Prepare Submission"
   ]
  },
  {
   "cell_type": "code",
   "execution_count": 77,
   "metadata": {},
   "outputs": [],
   "source": [
    "from models import kaggle"
   ]
  },
  {
   "cell_type": "code",
   "execution_count": 78,
   "metadata": {},
   "outputs": [],
   "source": [
    "filename = 'logres_model_6b.csv'"
   ]
  },
  {
   "cell_type": "code",
   "execution_count": 79,
   "metadata": {},
   "outputs": [
    {
     "data": {
      "text/html": [
       "<div>\n",
       "<style scoped>\n",
       "    .dataframe tbody tr th:only-of-type {\n",
       "        vertical-align: middle;\n",
       "    }\n",
       "\n",
       "    .dataframe tbody tr th {\n",
       "        vertical-align: top;\n",
       "    }\n",
       "\n",
       "    .dataframe thead th {\n",
       "        text-align: right;\n",
       "    }\n",
       "</style>\n",
       "<table border=\"1\" class=\"dataframe\">\n",
       "  <thead>\n",
       "    <tr style=\"text-align: right;\">\n",
       "      <th></th>\n",
       "      <th>title_Mr</th>\n",
       "      <th>title_Mrs</th>\n",
       "      <th>is_child</th>\n",
       "      <th>pclass_2</th>\n",
       "      <th>pclass_3</th>\n",
       "    </tr>\n",
       "  </thead>\n",
       "  <tbody>\n",
       "    <tr>\n",
       "      <td>count</td>\n",
       "      <td>418.000000</td>\n",
       "      <td>418.000000</td>\n",
       "      <td>418.000000</td>\n",
       "      <td>418.000000</td>\n",
       "      <td>418.000000</td>\n",
       "    </tr>\n",
       "    <tr>\n",
       "      <td>mean</td>\n",
       "      <td>0.574163</td>\n",
       "      <td>0.177033</td>\n",
       "      <td>0.069378</td>\n",
       "      <td>0.222488</td>\n",
       "      <td>0.521531</td>\n",
       "    </tr>\n",
       "    <tr>\n",
       "      <td>std</td>\n",
       "      <td>0.495062</td>\n",
       "      <td>0.382154</td>\n",
       "      <td>0.254400</td>\n",
       "      <td>0.416416</td>\n",
       "      <td>0.500135</td>\n",
       "    </tr>\n",
       "    <tr>\n",
       "      <td>min</td>\n",
       "      <td>0.000000</td>\n",
       "      <td>0.000000</td>\n",
       "      <td>0.000000</td>\n",
       "      <td>0.000000</td>\n",
       "      <td>0.000000</td>\n",
       "    </tr>\n",
       "    <tr>\n",
       "      <td>25%</td>\n",
       "      <td>0.000000</td>\n",
       "      <td>0.000000</td>\n",
       "      <td>0.000000</td>\n",
       "      <td>0.000000</td>\n",
       "      <td>0.000000</td>\n",
       "    </tr>\n",
       "    <tr>\n",
       "      <td>50%</td>\n",
       "      <td>1.000000</td>\n",
       "      <td>0.000000</td>\n",
       "      <td>0.000000</td>\n",
       "      <td>0.000000</td>\n",
       "      <td>1.000000</td>\n",
       "    </tr>\n",
       "    <tr>\n",
       "      <td>75%</td>\n",
       "      <td>1.000000</td>\n",
       "      <td>0.000000</td>\n",
       "      <td>0.000000</td>\n",
       "      <td>0.000000</td>\n",
       "      <td>1.000000</td>\n",
       "    </tr>\n",
       "    <tr>\n",
       "      <td>max</td>\n",
       "      <td>1.000000</td>\n",
       "      <td>1.000000</td>\n",
       "      <td>1.000000</td>\n",
       "      <td>1.000000</td>\n",
       "      <td>1.000000</td>\n",
       "    </tr>\n",
       "  </tbody>\n",
       "</table>\n",
       "</div>"
      ],
      "text/plain": [
       "         title_Mr   title_Mrs    is_child    pclass_2    pclass_3\n",
       "count  418.000000  418.000000  418.000000  418.000000  418.000000\n",
       "mean     0.574163    0.177033    0.069378    0.222488    0.521531\n",
       "std      0.495062    0.382154    0.254400    0.416416    0.500135\n",
       "min      0.000000    0.000000    0.000000    0.000000    0.000000\n",
       "25%      0.000000    0.000000    0.000000    0.000000    0.000000\n",
       "50%      1.000000    0.000000    0.000000    0.000000    1.000000\n",
       "75%      1.000000    0.000000    0.000000    0.000000    1.000000\n",
       "max      1.000000    1.000000    1.000000    1.000000    1.000000"
      ]
     },
     "execution_count": 79,
     "metadata": {},
     "output_type": "execute_result"
    }
   ],
   "source": [
    "X_holdout = pd.read_csv('../data/processed/holdout_v3.csv', \n",
    "                        index_col='passengerid', \n",
    "                        dtype={'pclass':str, 'is_child':int, 'is_traveling_alone':int})\n",
    "\n",
    "X_test_kaggle_public = transform_X(X_holdout).reindex(X_test.columns, axis=1)\n",
    "\n",
    "X_test_kaggle_public.describe()"
   ]
  },
  {
   "cell_type": "code",
   "execution_count": 80,
   "metadata": {},
   "outputs": [
    {
     "name": "stdout",
     "output_type": "stream",
     "text": [
      "logres_model_6b.csv \n",
      "\n",
      "This is a submission test via the Kaggle API. \n",
      "\n",
      "LogisticRegression(C=1.0, class_weight=None, dual=False, fit_intercept=True,\n",
      "                   intercept_scaling=1, l1_ratio=1, max_iter=500,\n",
      "                   multi_class='warn', n_jobs=None, penalty='l2',\n",
      "                   random_state=42, solver='warn', tol=0.0001, verbose=0,\n",
      "                   warm_start=False) \n",
      "\n",
      "Index(['title_Mr', 'title_Mrs', 'is_child', 'pclass_2', 'pclass_3'], dtype='object') \n",
      "\n",
      "\n"
     ]
    }
   ],
   "source": [
    "y_pred = (pd.Series(model.predict(X_test_kaggle_public), \n",
    "                   index=X_test_kaggle_public.index, name='Survived').to_frame().sort_index()\n",
    "         )\n",
    "\n",
    "y_pred.index.names = ['PassengerId']\n",
    "\n",
    "y_pred.to_csv(filename)\n",
    "\n",
    "message = (f'{filename} \\n\\n'\n",
    "           f'This is a submission test via the Kaggle API. \\n\\n'\n",
    "           f'{model} \\n\\n'\n",
    "           f'{X_test_kaggle_public.columns} \\n\\n'\n",
    "          )\n",
    "\n",
    "print(message)"
   ]
  },
  {
   "cell_type": "code",
   "execution_count": 81,
   "metadata": {},
   "outputs": [
    {
     "name": "stdout",
     "output_type": "stream",
     "text": [
      "logres_model_6b.csv\n",
      "logres_model_6b.csv \n",
      "\n",
      "This is a submission test via the Kaggle API. \n",
      "\n",
      "LogisticRegression(C=1.0, class_weight=None, dual=False, fit_intercept=True,\n",
      "                   intercept_scaling=1, l1_ratio=1, max_iter=500,\n",
      "                   multi_class='warn', n_jobs=None, penalty='l2',\n",
      "                   random_state=42, solver='warn', tol=0.0001, verbose=0,\n",
      "                   warm_start=False) \n",
      "\n",
      "Index(['title_Mr', 'title_Mrs', 'is_child', 'pclass_2', 'pclass_3'], dtype='object') \n",
      "\n",
      "\n",
      "b'Successfully submitted to Titanic: Machine Learning from Disaster'\n",
      "b'\\r  0%|          | 0.00/2.77k [00:00<?, ?B/s]\\r100%|\\xe2\\x96\\x88\\xe2\\x96\\x88\\xe2\\x96\\x88\\xe2\\x96\\x88\\xe2\\x96\\x88\\xe2\\x96\\x88\\xe2\\x96\\x88\\xe2\\x96\\x88\\xe2\\x96\\x88\\xe2\\x96\\x88| 2.77k/2.77k [00:00<00:00, 18.5kB/s]\\r100%|\\xe2\\x96\\x88\\xe2\\x96\\x88\\xe2\\x96\\x88\\xe2\\x96\\x88\\xe2\\x96\\x88\\xe2\\x96\\x88\\xe2\\x96\\x88\\xe2\\x96\\x88\\xe2\\x96\\x88\\xe2\\x96\\x88| 2.77k/2.77k [00:00<00:00, 3.81kB/s]\\n'\n"
     ]
    }
   ],
   "source": [
    "kaggle.submit_to_kaggle_titanic_competition(filename, message);"
   ]
  },
  {
   "cell_type": "code",
   "execution_count": 56,
   "metadata": {},
   "outputs": [
    {
     "data": {
      "text/plain": [
       "b\"fileName                                date                 description                                                                                                                                                                                                                                                                                                                                                                                                                                                                                                                                                                                                                                                                                                                                                                                       status    publicScore  privateScore  \\n--------------------------------------  -------------------  ------------------------------------------------------------------------------------------------------------------------------------------------------------------------------------------------------------------------------------------------------------------------------------------------------------------------------------------------------------------------------------------------------------------------------------------------------------------------------------------------------------------------------------------------------------------------------------------------------------------------------------------------------------------------------------------------------------------------------------------------------------------------------------------------  --------  -----------  ------------  \\nlogres_model_6.csv                      2019-11-12 16:28:28  logres_model_6.csv \\n\\nThis is a submission test via the Kaggle API. \\n\\nLogisticRegression(C=1.0, class_weight=None, dual=False, fit_intercept=True,\\n                   intercept_scaling=1, l1_ratio=1, max_iter=500,\\n                   multi_class='warn', n_jobs=None, penalty='l2',\\n                   random_state=42, solver='warn', tol=0.0001, verbose=0,\\n                   warm_start=False) \\n\\nIndex(['title_Mr', 'title_Mrs', 'family_size', 'is_child', 'pclass_2',\\n       'pclass_3'],\\n      dtype='object') \\n\\n                                                                                                                                                                                                                                                                        complete  0.78947      None          \\nlogres_model_3e.csv                     2019-11-12 15:45:26  logres_model_3e.csv \\n\\nThis is a submission test via the Kaggle API. \\n\\nLogisticRegression(C=1.0, class_weight=None, dual=False, fit_intercept=True,\\n                   intercept_scaling=1, l1_ratio=1, max_iter=500,\\n                   multi_class='warn', n_jobs=None, penalty='l2',\\n                   random_state=42, solver='warn', tol=0.0001, verbose=0,\\n                   warm_start=False) \\n\\nIndex(['title_Mr', 'title_Mrs', 'family_size', 'is_child', 'pclass_2',\\n       'pclass_3'],\\n      dtype='object') \\n\\n                                                                                                                                                                                                                                                                       complete  0.77990      None          \\nlogres_model_3d.csv                     2019-11-12 15:20:00  logres_model_3d.csv \\n\\nThis is a submission test via the Kaggle API. \\n\\nLogisticRegression(C=1.0, class_weight=None, dual=False, fit_intercept=True,\\n                   intercept_scaling=1, l1_ratio=1, max_iter=500,\\n                   multi_class='warn', n_jobs=None, penalty='l2',\\n                   random_state=42, solver='warn', tol=0.0001, verbose=0,\\n                   warm_start=False) \\n\\nIndex(['title_Mr', 'title_Mrs', 'family_size', 'is_child', 'pclass_2',\\n       'pclass_3'],\\n      dtype='object') \\n\\n                                                                                                                                                                                                                                                                       complete  0.77990      None          \\nlogres_model_3c.csv                     2019-11-12 15:13:09  logres_model_3c.csv \\n\\nThis is a submission test via the Kaggle API. \\n\\nLogisticRegression(C=1.0, class_weight=None, dual=False, fit_intercept=True,\\n                   intercept_scaling=1, l1_ratio=1, max_iter=500,\\n                   multi_class='warn', n_jobs=None, penalty='l2',\\n                   random_state=42, solver='warn', tol=0.0001, verbose=0,\\n                   warm_start=False) \\n\\nIndex(['title_Mr', 'title_Mrs', 'family_size', 'is_child', 'pclass_2',\\n       'pclass_3'],\\n      dtype='object') \\n\\n                                                                                                                                                                                                                                                                       complete  0.77990      None          \\nlogreg_model_3.2b_resubmit.csv          2019-11-11 19:08:54  Index(['title_Mr', 'title_Mrs', 'family_size', 'is_child', 'pclass_2',\\n       'pclass_3'],\\n      dtype='object')\\n\\nLogisticRegression(C=1.0, class_weight=None, dual=False, fit_intercept=True,\\n                   intercept_scaling=1, l1_ratio=1, max_iter=500,\\n                   multi_class='warn', n_jobs=None, penalty='l2',\\n                   random_state=42, solver='warn', tol=0.0001, verbose=0,\\n                   warm_start=False)\\n\\nAccuracy Score on X_test,y_test:  0.7989\\n\\n\\nCross Validation Scores:\\n\\tAccuracy \\t: 0.8301 (+/- 0.0332)\\n\\tRecall\\t\\t: 0.7201 (+/- 0.0546)\\n\\tPrecision\\t: 0.8079 (+/- 0.0526)\\n\\tF1\\t\\t: 0.7612 (+/- 0.0477)\\n\\n\\n11/11/19, <model>,  <kaggle_accuracy>, 0.8301, 0.7201,0.8079,0.7612                                                                          complete  0.77990      None          \\nlogreg_model_3.2_resubmit.csv           2019-11-11 19:05:52  Index(['title_Mr', 'title_Mrs', 'family_size', 'is_child', 'pclass_2',\\n       'pclass_3'],\\n      dtype='object')\\n\\nLogisticRegression(C=1.0, class_weight=None, dual=False, fit_intercept=True,\\n                   intercept_scaling=1, l1_ratio=1, max_iter=500,\\n                   multi_class='warn', n_jobs=None, penalty='l2',\\n                   random_state=42, solver='warn', tol=0.0001, verbose=0,\\n                   warm_start=False)\\n\\nAccuracy Score on X_test,y_test:  0.8268\\n\\n\\nCross Validation Scores:\\n\\tAccuracy \\t: 0.8384 (+/- 0.0352)\\n\\tRecall\\t\\t: 0.7162 (+/- 0.0677)\\n\\tPrecision\\t: 0.8306 (+/- 0.0424)\\n\\tF1\\t\\t: 0.7691 (+/- 0.0571)\\n\\n\\n11/11/19, <model>,  <kaggle_accuracy>, 0.8384, 0.7162,0.8306,0.7691                                                                          complete  0.79425      None          \\nlogreg_model_3_resubmit.csv             2019-11-11 19:01:13  11/11/19, logres_model_3_resubmit  <kaggle_accuracy>, 0.8273, 0.7164,0.8036,0.7570\\n\\nLogisticRegression(C=1.0, class_weight=None, dual=False, fit_intercept=True,\\n                   intercept_scaling=1, l1_ratio=1, max_iter=500,\\n                   multi_class='warn', n_jobs=None, penalty='l2',\\n                   random_state=176, solver='warn', tol=0.0001, verbose=0,\\n                   warm_start=False)\\n\\nIndex(['title_Mr', 'title_Mrs', 'family_size', 'is_child', 'pclass_2',\\n       'pclass_2'],\\n      dtype='object')                                                                                                                                                                                                                                                            complete  0.77511      None          \\nlogres_model_3b.csv                     2019-11-11 18:54:32  11/11/19, logres_model_3b,  <kaggle_accuracy>, 0.8301, 0.7201,0.8079,0.761\\n\\nLogisticRegression(C=1.0, class_weight=None, dual=False, fit_intercept=True,\\n                   intercept_scaling=1, l1_ratio=1, max_iter=500,\\n                   multi_class='warn', n_jobs=None, penalty='l2',\\n                   random_state=42, solver='warn', tol=0.0001, verbose=0,\\n                   warm_start=False)\\n\\nIndex(['title_Mr', 'title_Mrs', 'family_size', 'is_child', 'pclass_2',\\n       'pclass_3'],\\n      dtype='object'                                                                                                                                                                                                                                                                      complete  0.77990      None          \\nxgb_model_5.csv                         2019-11-11 18:22:06  11/11/19, xgb_5,  <kaggle_accuracy>, 0.8215, 0.6672,0.8284,0.7349\\n\\nXGBClassifier(base_score=0.5, booster='gbtree', colsample_bylevel=1,\\n              colsample_bynode=1, colsample_bytree=0.3, gamma=0,\\n              learning_rate=0.01, max_delta_step=0, max_depth=3,\\n              max_features='sqrt', min_child_weight=1, missing=None,\\n              n_estimators=1000, n_jobs=1, nthread=None,\\n              objective='binary:logistic', random_state=42, reg_alpha=0,\\n              reg_lambda=1, scale_pos_weight=1, seed=123, silent=None,\\n              subsample=0.2, verbosity=1)\\n\\nIndex(['is_child', 'fare_bin_q4', 'age_bin_baby', 'title_Miss', 'family_size',\\n       'title_Officer', 'pclass_3', 'title_Mrs', 'title_Mr', 'sex_male'],\\n      dtype='object')                 complete  0.78468      None          \\nxgb_model_4.csv                         2019-11-11 18:15:58  11/11/19, xgb_4,  <kaggle_accuracy>, 0.8217, 0.7127,0.7930,0.7499\\n\\nXGBClassifier(base_score=0.5, booster='gbtree', colsample_bylevel=1,\\n              colsample_bynode=1, colsample_bytree=0.3, gamma=0,\\n              learning_rate=0.01, max_delta_step=0, max_depth=3,\\n              max_features='sqrt', min_child_weight=1, missing=None,\\n              n_estimators=1000, n_jobs=1, nthread=None,\\n              objective='binary:logistic', random_state=42, reg_alpha=0,\\n              reg_lambda=1, scale_pos_weight=1, seed=123, silent=None,\\n              subsample=0.2, verbosity=1)\\n\\n\\nIndex(['family_size', 'is_child', 'is_traveling_alone', 'sex_male',\\n       'embarked_Q', 'embarked_S', 'title_Miss', 'title_Mr', 'title_Mrs',\\n       'title_Officer'],\\n      dtype='object')  complete  0.78468      None          \\nxgb_model_3.csv                         2019-11-07 16:39:38  XGBClassifier(base_score=0.5, booster='gbtree', colsample_bylevel=1,\\n              colsample_bynode=1, colsample_bytree=0.3, gamma=0,\\n              learning_rate=0.01, max_delta_step=0, max_depth=3,\\n              max_features='sqrt', min_child_weight=1, missing=None,\\n              n_estimators=1000, n_jobs=1, nthread=None,\\n              objective='binary:logistic', random_state=42, reg_alpha=0,\\n              reg_lambda=1, scale_pos_weight=1, seed=123, silent=None,\\n              subsample=0.2, verbosity=1)\\n\\nIndex(['sex_male', 'title_Mr', 'pclass_3', 'title_Mrs', 'title_Miss',\\n       'title_Officer', 'family_size', 'age_bin_baby', 'fare_bin_q4',\\n       'age_bin_child', 'embarked_S', 'fare_bin_q2'],\\n      dtype='object')                                           complete  0.77990      None          \\nlogreg_model_4.csv                      2019-11-06 21:30:33  LogisticRegression(C=1.0, class_weight=None, dual=False, fit_intercept=True,\\n                   intercept_scaling=1, l1_ratio=1, max_iter=500,\\n                   multi_class='warn', n_jobs=None, penalty='l2',\\n                   random_state=60, solver='warn', tol=0.0001, verbose=0,\\n                   warm_start=False)\\n\\nIndex(['title_Mr', 'title_Mrs', 'family_size', 'is_child', 'pclass_1',\\n       'pclass_2'],\\n      dtype='object')                                                                                                                                                                                                                                                                                                                                                 complete  0.79425      None          \\nxgb_model_2.csv                         2019-11-06 21:26:21  XGB Model 2\\n\\nXGBClassifier(base_score=0.5, booster='gbtree', colsample_bylevel=1,\\n              colsample_bynode=1, colsample_bytree=0.3, gamma=0,\\n              learning_rate=0.01, max_delta_step=0, max_depth=3,\\n              max_features='sqrt', min_child_weight=1, missing=None,\\n              n_estimators=1000, n_jobs=1, nthread=None,\\n              objective='binary:logistic', random_state=42, reg_alpha=0,\\n              reg_lambda=1, scale_pos_weight=1, seed=123, silent=None,\\n              subsample=0.2, verbosity=1)\\n\\nIndex(['title_Mr', 'pclass_2', 'pclass_3', 'family_size', 'fare', 'age'], dtype='object')                                                                                                                                                            complete  0.74641      None          \\nxgb_model_1.csv                         2019-11-06 21:22:50  XGB Model\\nImportant Features ['title_Mr', 'pclass_1', 'pclass_2', 'family_size']                                                                                                                                                                                                                                                                                                                                                                                                                                                                                                                                                                                                                                                                                                                  complete  0.78947      None          \\ndtree_model_2.csv                       2019-11-05 16:44:48  Decision Tree Model 2. Features were selected based upon YellowBrick feature selection.\\n\\nimportant_features = ['title_Mr', 'family_size',  'pclass']    \\n\\n                                                                                                                                                                                                                                                                                                                                                                                                                                                                                                                                                                                                                                        complete  0.78468      None          \\ndtree_model_1.csv                       2019-11-05 16:36:18  Decision Tree with the same features as logistic regression model. \\n\\nimportant_features = ['title_Mr', 'title_Mrs', 'family_size', 'is_child', 'pclass']        # 11/05/19, Decision Tree, 0.8173, 0.6486,0.8310,0.7251, NS\\n                                                                                                                                                                                                                                                                                                                                                                                                                                                                                                                                                                      complete  0.77990      None          \\nmodel__dtree_model_1__2019-11-05.ipynb  2019-11-05 16:35:54  Decision Tree with the same features as logistic regression model. \\n\\nimportant_features = ['title_Mr', 'title_Mrs', 'family_size', 'is_child', 'pclass']        # 11/05/19, Decision Tree, 0.8173, 0.6486,0.8310,0.7251, NS\\n\\n                                                                                                                                                                                                                                                                                                                                                                                                                                                                                                                                                                     error     None         None          \\nlogreg_model_3.csv                      2019-10-28 19:07:52  logreg_model_3\\n\\nIndex(['title_Mr', 'title_Mrs', 'family_size', 'is_child', 'pclass'], dtype='object')\\n\\nLogisticRegression(C=1.0, class_weight=None, dual=False, fit_intercept=True,\\n                   intercept_scaling=1, l1_ratio=None, max_iter=100,\\n                   multi_class='warn', n_jobs=None, penalty='l2',\\n                   random_state=None, solver='warn', tol=0.0001, verbose=0,\\n                   warm_start=False)                                                                                                                                                                                                                                                                                                                                                       complete  0.79425      None          \\nlogreg_model_2.csv                      2019-10-28 18:44:33  logreg_model_2\\n\\nIndex(['title_Mr', 'title_Mrs', 'family_size', 'is_child', 'fare'], dtype='object')\\n\\nLogisticRegression(C=1.0, class_weight=None, dual=False, fit_intercept=True,\\n                   intercept_scaling=1, l1_ratio=None, max_iter=100,\\n                   multi_class='warn', n_jobs=None, penalty='l2',\\n                   random_state=None, solver='warn', tol=0.0001, verbose=0,\\n                   warm_start=False)                                                                                                                                                                                                                                                                                                                                                         complete  0.78468      None          \\nlogreg_model_1.csv                      2019-10-28 16:38:41  Index(['age', 'fare', 'family_size', 'is_child', 'is_travelling_alone',\\n       'sex_male', 'embarked_Q', 'embarked_S', 'title_Miss', 'title_Mr',\\n       'title_Mrs', 'age_bin_(10.0, 20.0]', 'age_bin_(20.0, 30.0]',\\n       'age_bin_(30.0, 40.0]', 'age_bin_(40.0, 50.0]', 'age_bin_(50.0, 60.0]',\\n       'age_bin_(60.0, inf]'],\\n      dtype='object')\\n\\nLogisticRegression(C=1.0, class_weight=None, dual=False, fit_intercept=True,\\n                   intercept_scaling=1, l1_ratio=None, max_iter=100,\\n                   multi_class='warn', n_jobs=None, penalty='l2',\\n                   random_state=None, solver='warn', tol=0.0001, verbose=0,\\n                   warm_start=False)                                                                                                    complete  0.77990      None          \\n\""
      ]
     },
     "execution_count": 56,
     "metadata": {},
     "output_type": "execute_result"
    }
   ],
   "source": [
    "import subprocess\n",
    "from subprocess import check_output\n",
    "\n",
    "command = ['kaggle', 'competitions', 'submissions', 'titanic']\n",
    "\n",
    "check_output(command)"
   ]
  },
  {
   "cell_type": "code",
   "execution_count": 58,
   "metadata": {},
   "outputs": [
    {
     "name": "stdout",
     "output_type": "stream",
     "text": [
      "ls: j*: No such file or directory\n"
     ]
    }
   ],
   "source": [
    "!ls j*"
   ]
  },
  {
   "cell_type": "code",
   "execution_count": 50,
   "metadata": {},
   "outputs": [],
   "source": [
    "process = subprocess.Popen(,\n",
    "                    stdout=subprocess.PIPE,\n",
    "                    stderr=subprocess.PIPE)\n",
    "\n",
    "out = check_output([\"ntpq\", \"-p\"])"
   ]
  },
  {
   "cell_type": "code",
   "execution_count": 61,
   "metadata": {},
   "outputs": [
    {
     "ename": "ParserError",
     "evalue": "Error tokenizing data. C error: Expected 1 fields in line 7, saw 5\n",
     "output_type": "error",
     "traceback": [
      "\u001b[0;31m---------------------------------------------------------------------------\u001b[0m",
      "\u001b[0;31mParserError\u001b[0m                               Traceback (most recent call last)",
      "\u001b[0;32m<ipython-input-61-4a0c9a3cdb81>\u001b[0m in \u001b[0;36m<module>\u001b[0;34m\u001b[0m\n\u001b[0;32m----> 1\u001b[0;31m \u001b[0mpd\u001b[0m\u001b[0;34m.\u001b[0m\u001b[0mread_csv\u001b[0m\u001b[0;34m(\u001b[0m\u001b[0;34m'junk.csv'\u001b[0m\u001b[0;34m,\u001b[0m \u001b[0msep\u001b[0m\u001b[0;34m=\u001b[0m\u001b[0;34m','\u001b[0m\u001b[0;34m)\u001b[0m\u001b[0;34m\u001b[0m\u001b[0;34m\u001b[0m\u001b[0m\n\u001b[0m",
      "\u001b[0;32m/Applications/anaconda3/envs/kaggle_titanic/lib/python3.7/site-packages/pandas/io/parsers.py\u001b[0m in \u001b[0;36mparser_f\u001b[0;34m(filepath_or_buffer, sep, delimiter, header, names, index_col, usecols, squeeze, prefix, mangle_dupe_cols, dtype, engine, converters, true_values, false_values, skipinitialspace, skiprows, skipfooter, nrows, na_values, keep_default_na, na_filter, verbose, skip_blank_lines, parse_dates, infer_datetime_format, keep_date_col, date_parser, dayfirst, cache_dates, iterator, chunksize, compression, thousands, decimal, lineterminator, quotechar, quoting, doublequote, escapechar, comment, encoding, dialect, error_bad_lines, warn_bad_lines, delim_whitespace, low_memory, memory_map, float_precision)\u001b[0m\n\u001b[1;32m    683\u001b[0m         )\n\u001b[1;32m    684\u001b[0m \u001b[0;34m\u001b[0m\u001b[0m\n\u001b[0;32m--> 685\u001b[0;31m         \u001b[0;32mreturn\u001b[0m \u001b[0m_read\u001b[0m\u001b[0;34m(\u001b[0m\u001b[0mfilepath_or_buffer\u001b[0m\u001b[0;34m,\u001b[0m \u001b[0mkwds\u001b[0m\u001b[0;34m)\u001b[0m\u001b[0;34m\u001b[0m\u001b[0;34m\u001b[0m\u001b[0m\n\u001b[0m\u001b[1;32m    686\u001b[0m \u001b[0;34m\u001b[0m\u001b[0m\n\u001b[1;32m    687\u001b[0m     \u001b[0mparser_f\u001b[0m\u001b[0;34m.\u001b[0m\u001b[0m__name__\u001b[0m \u001b[0;34m=\u001b[0m \u001b[0mname\u001b[0m\u001b[0;34m\u001b[0m\u001b[0;34m\u001b[0m\u001b[0m\n",
      "\u001b[0;32m/Applications/anaconda3/envs/kaggle_titanic/lib/python3.7/site-packages/pandas/io/parsers.py\u001b[0m in \u001b[0;36m_read\u001b[0;34m(filepath_or_buffer, kwds)\u001b[0m\n\u001b[1;32m    461\u001b[0m \u001b[0;34m\u001b[0m\u001b[0m\n\u001b[1;32m    462\u001b[0m     \u001b[0;32mtry\u001b[0m\u001b[0;34m:\u001b[0m\u001b[0;34m\u001b[0m\u001b[0;34m\u001b[0m\u001b[0m\n\u001b[0;32m--> 463\u001b[0;31m         \u001b[0mdata\u001b[0m \u001b[0;34m=\u001b[0m \u001b[0mparser\u001b[0m\u001b[0;34m.\u001b[0m\u001b[0mread\u001b[0m\u001b[0;34m(\u001b[0m\u001b[0mnrows\u001b[0m\u001b[0;34m)\u001b[0m\u001b[0;34m\u001b[0m\u001b[0;34m\u001b[0m\u001b[0m\n\u001b[0m\u001b[1;32m    464\u001b[0m     \u001b[0;32mfinally\u001b[0m\u001b[0;34m:\u001b[0m\u001b[0;34m\u001b[0m\u001b[0;34m\u001b[0m\u001b[0m\n\u001b[1;32m    465\u001b[0m         \u001b[0mparser\u001b[0m\u001b[0;34m.\u001b[0m\u001b[0mclose\u001b[0m\u001b[0;34m(\u001b[0m\u001b[0;34m)\u001b[0m\u001b[0;34m\u001b[0m\u001b[0;34m\u001b[0m\u001b[0m\n",
      "\u001b[0;32m/Applications/anaconda3/envs/kaggle_titanic/lib/python3.7/site-packages/pandas/io/parsers.py\u001b[0m in \u001b[0;36mread\u001b[0;34m(self, nrows)\u001b[0m\n\u001b[1;32m   1152\u001b[0m     \u001b[0;32mdef\u001b[0m \u001b[0mread\u001b[0m\u001b[0;34m(\u001b[0m\u001b[0mself\u001b[0m\u001b[0;34m,\u001b[0m \u001b[0mnrows\u001b[0m\u001b[0;34m=\u001b[0m\u001b[0;32mNone\u001b[0m\u001b[0;34m)\u001b[0m\u001b[0;34m:\u001b[0m\u001b[0;34m\u001b[0m\u001b[0;34m\u001b[0m\u001b[0m\n\u001b[1;32m   1153\u001b[0m         \u001b[0mnrows\u001b[0m \u001b[0;34m=\u001b[0m \u001b[0m_validate_integer\u001b[0m\u001b[0;34m(\u001b[0m\u001b[0;34m\"nrows\"\u001b[0m\u001b[0;34m,\u001b[0m \u001b[0mnrows\u001b[0m\u001b[0;34m)\u001b[0m\u001b[0;34m\u001b[0m\u001b[0;34m\u001b[0m\u001b[0m\n\u001b[0;32m-> 1154\u001b[0;31m         \u001b[0mret\u001b[0m \u001b[0;34m=\u001b[0m \u001b[0mself\u001b[0m\u001b[0;34m.\u001b[0m\u001b[0m_engine\u001b[0m\u001b[0;34m.\u001b[0m\u001b[0mread\u001b[0m\u001b[0;34m(\u001b[0m\u001b[0mnrows\u001b[0m\u001b[0;34m)\u001b[0m\u001b[0;34m\u001b[0m\u001b[0;34m\u001b[0m\u001b[0m\n\u001b[0m\u001b[1;32m   1155\u001b[0m \u001b[0;34m\u001b[0m\u001b[0m\n\u001b[1;32m   1156\u001b[0m         \u001b[0;31m# May alter columns / col_dict\u001b[0m\u001b[0;34m\u001b[0m\u001b[0;34m\u001b[0m\u001b[0;34m\u001b[0m\u001b[0m\n",
      "\u001b[0;32m/Applications/anaconda3/envs/kaggle_titanic/lib/python3.7/site-packages/pandas/io/parsers.py\u001b[0m in \u001b[0;36mread\u001b[0;34m(self, nrows)\u001b[0m\n\u001b[1;32m   2057\u001b[0m     \u001b[0;32mdef\u001b[0m \u001b[0mread\u001b[0m\u001b[0;34m(\u001b[0m\u001b[0mself\u001b[0m\u001b[0;34m,\u001b[0m \u001b[0mnrows\u001b[0m\u001b[0;34m=\u001b[0m\u001b[0;32mNone\u001b[0m\u001b[0;34m)\u001b[0m\u001b[0;34m:\u001b[0m\u001b[0;34m\u001b[0m\u001b[0;34m\u001b[0m\u001b[0m\n\u001b[1;32m   2058\u001b[0m         \u001b[0;32mtry\u001b[0m\u001b[0;34m:\u001b[0m\u001b[0;34m\u001b[0m\u001b[0;34m\u001b[0m\u001b[0m\n\u001b[0;32m-> 2059\u001b[0;31m             \u001b[0mdata\u001b[0m \u001b[0;34m=\u001b[0m \u001b[0mself\u001b[0m\u001b[0;34m.\u001b[0m\u001b[0m_reader\u001b[0m\u001b[0;34m.\u001b[0m\u001b[0mread\u001b[0m\u001b[0;34m(\u001b[0m\u001b[0mnrows\u001b[0m\u001b[0;34m)\u001b[0m\u001b[0;34m\u001b[0m\u001b[0;34m\u001b[0m\u001b[0m\n\u001b[0m\u001b[1;32m   2060\u001b[0m         \u001b[0;32mexcept\u001b[0m \u001b[0mStopIteration\u001b[0m\u001b[0;34m:\u001b[0m\u001b[0;34m\u001b[0m\u001b[0;34m\u001b[0m\u001b[0m\n\u001b[1;32m   2061\u001b[0m             \u001b[0;32mif\u001b[0m \u001b[0mself\u001b[0m\u001b[0;34m.\u001b[0m\u001b[0m_first_chunk\u001b[0m\u001b[0;34m:\u001b[0m\u001b[0;34m\u001b[0m\u001b[0;34m\u001b[0m\u001b[0m\n",
      "\u001b[0;32mpandas/_libs/parsers.pyx\u001b[0m in \u001b[0;36mpandas._libs.parsers.TextReader.read\u001b[0;34m()\u001b[0m\n",
      "\u001b[0;32mpandas/_libs/parsers.pyx\u001b[0m in \u001b[0;36mpandas._libs.parsers.TextReader._read_low_memory\u001b[0;34m()\u001b[0m\n",
      "\u001b[0;32mpandas/_libs/parsers.pyx\u001b[0m in \u001b[0;36mpandas._libs.parsers.TextReader._read_rows\u001b[0;34m()\u001b[0m\n",
      "\u001b[0;32mpandas/_libs/parsers.pyx\u001b[0m in \u001b[0;36mpandas._libs.parsers.TextReader._tokenize_rows\u001b[0;34m()\u001b[0m\n",
      "\u001b[0;32mpandas/_libs/parsers.pyx\u001b[0m in \u001b[0;36mpandas._libs.parsers.raise_parser_error\u001b[0;34m()\u001b[0m\n",
      "\u001b[0;31mParserError\u001b[0m: Error tokenizing data. C error: Expected 1 fields in line 7, saw 5\n"
     ]
    }
   ],
   "source": [
    "pd.read_csv('junk.csv', sep=',')"
   ]
  },
  {
   "cell_type": "code",
   "execution_count": 38,
   "metadata": {},
   "outputs": [],
   "source": [
    "from io import StringIO"
   ]
  },
  {
   "cell_type": "code",
   "execution_count": 51,
   "metadata": {},
   "outputs": [
    {
     "name": "stdout",
     "output_type": "stream",
     "text": [
      "b\"fileName                                date                 description                                                                                                                                                                                                                                                                                                                                                                                                                                                                                                                                                                                                                                                                                                                                                                                       status    publicScore  privateScore  \\n--------------------------------------  -------------------  ------------------------------------------------------------------------------------------------------------------------------------------------------------------------------------------------------------------------------------------------------------------------------------------------------------------------------------------------------------------------------------------------------------------------------------------------------------------------------------------------------------------------------------------------------------------------------------------------------------------------------------------------------------------------------------------------------------------------------------------------------------------------------------------------  --------  -----------  ------------  \\nlogres_model_6.csv                      2019-11-12 16:28:28  logres_model_6.csv \\n\\nThis is a submission test via the Kaggle API. \\n\\nLogisticRegression(C=1.0, class_weight=None, dual=False, fit_intercept=True,\\n                   intercept_scaling=1, l1_ratio=1, max_iter=500,\\n                   multi_class='warn', n_jobs=None, penalty='l2',\\n                   random_state=42, solver='warn', tol=0.0001, verbose=0,\\n                   warm_start=False) \\n\\nIndex(['title_Mr', 'title_Mrs', 'family_size', 'is_child', 'pclass_2',\\n       'pclass_3'],\\n      dtype='object') \\n\\n                                                                                                                                                                                                                                                                        complete  0.78947      None          \\nlogres_model_3e.csv                     2019-11-12 15:45:26  logres_model_3e.csv \\n\\nThis is a submission test via the Kaggle API. \\n\\nLogisticRegression(C=1.0, class_weight=None, dual=False, fit_intercept=True,\\n                   intercept_scaling=1, l1_ratio=1, max_iter=500,\\n                   multi_class='warn', n_jobs=None, penalty='l2',\\n                   random_state=42, solver='warn', tol=0.0001, verbose=0,\\n                   warm_start=False) \\n\\nIndex(['title_Mr', 'title_Mrs', 'family_size', 'is_child', 'pclass_2',\\n       'pclass_3'],\\n      dtype='object') \\n\\n                                                                                                                                                                                                                                                                       complete  0.77990      None          \\nlogres_model_3d.csv                     2019-11-12 15:20:00  logres_model_3d.csv \\n\\nThis is a submission test via the Kaggle API. \\n\\nLogisticRegression(C=1.0, class_weight=None, dual=False, fit_intercept=True,\\n                   intercept_scaling=1, l1_ratio=1, max_iter=500,\\n                   multi_class='warn', n_jobs=None, penalty='l2',\\n                   random_state=42, solver='warn', tol=0.0001, verbose=0,\\n                   warm_start=False) \\n\\nIndex(['title_Mr', 'title_Mrs', 'family_size', 'is_child', 'pclass_2',\\n       'pclass_3'],\\n      dtype='object') \\n\\n                                                                                                                                                                                                                                                                       complete  0.77990      None          \\nlogres_model_3c.csv                     2019-11-12 15:13:09  logres_model_3c.csv \\n\\nThis is a submission test via the Kaggle API. \\n\\nLogisticRegression(C=1.0, class_weight=None, dual=False, fit_intercept=True,\\n                   intercept_scaling=1, l1_ratio=1, max_iter=500,\\n                   multi_class='warn', n_jobs=None, penalty='l2',\\n                   random_state=42, solver='warn', tol=0.0001, verbose=0,\\n                   warm_start=False) \\n\\nIndex(['title_Mr', 'title_Mrs', 'family_size', 'is_child', 'pclass_2',\\n       'pclass_3'],\\n      dtype='object') \\n\\n                                                                                                                                                                                                                                                                       complete  0.77990      None          \\nlogreg_model_3.2b_resubmit.csv          2019-11-11 19:08:54  Index(['title_Mr', 'title_Mrs', 'family_size', 'is_child', 'pclass_2',\\n       'pclass_3'],\\n      dtype='object')\\n\\nLogisticRegression(C=1.0, class_weight=None, dual=False, fit_intercept=True,\\n                   intercept_scaling=1, l1_ratio=1, max_iter=500,\\n                   multi_class='warn', n_jobs=None, penalty='l2',\\n                   random_state=42, solver='warn', tol=0.0001, verbose=0,\\n                   warm_start=False)\\n\\nAccuracy Score on X_test,y_test:  0.7989\\n\\n\\nCross Validation Scores:\\n\\tAccuracy \\t: 0.8301 (+/- 0.0332)\\n\\tRecall\\t\\t: 0.7201 (+/- 0.0546)\\n\\tPrecision\\t: 0.8079 (+/- 0.0526)\\n\\tF1\\t\\t: 0.7612 (+/- 0.0477)\\n\\n\\n11/11/19, <model>,  <kaggle_accuracy>, 0.8301, 0.7201,0.8079,0.7612                                                                          complete  0.77990      None          \\nlogreg_model_3.2_resubmit.csv           2019-11-11 19:05:52  Index(['title_Mr', 'title_Mrs', 'family_size', 'is_child', 'pclass_2',\\n       'pclass_3'],\\n      dtype='object')\\n\\nLogisticRegression(C=1.0, class_weight=None, dual=False, fit_intercept=True,\\n                   intercept_scaling=1, l1_ratio=1, max_iter=500,\\n                   multi_class='warn', n_jobs=None, penalty='l2',\\n                   random_state=42, solver='warn', tol=0.0001, verbose=0,\\n                   warm_start=False)\\n\\nAccuracy Score on X_test,y_test:  0.8268\\n\\n\\nCross Validation Scores:\\n\\tAccuracy \\t: 0.8384 (+/- 0.0352)\\n\\tRecall\\t\\t: 0.7162 (+/- 0.0677)\\n\\tPrecision\\t: 0.8306 (+/- 0.0424)\\n\\tF1\\t\\t: 0.7691 (+/- 0.0571)\\n\\n\\n11/11/19, <model>,  <kaggle_accuracy>, 0.8384, 0.7162,0.8306,0.7691                                                                          complete  0.79425      None          \\nlogreg_model_3_resubmit.csv             2019-11-11 19:01:13  11/11/19, logres_model_3_resubmit  <kaggle_accuracy>, 0.8273, 0.7164,0.8036,0.7570\\n\\nLogisticRegression(C=1.0, class_weight=None, dual=False, fit_intercept=True,\\n                   intercept_scaling=1, l1_ratio=1, max_iter=500,\\n                   multi_class='warn', n_jobs=None, penalty='l2',\\n                   random_state=176, solver='warn', tol=0.0001, verbose=0,\\n                   warm_start=False)\\n\\nIndex(['title_Mr', 'title_Mrs', 'family_size', 'is_child', 'pclass_2',\\n       'pclass_2'],\\n      dtype='object')                                                                                                                                                                                                                                                            complete  0.77511      None          \\nlogres_model_3b.csv                     2019-11-11 18:54:32  11/11/19, logres_model_3b,  <kaggle_accuracy>, 0.8301, 0.7201,0.8079,0.761\\n\\nLogisticRegression(C=1.0, class_weight=None, dual=False, fit_intercept=True,\\n                   intercept_scaling=1, l1_ratio=1, max_iter=500,\\n                   multi_class='warn', n_jobs=None, penalty='l2',\\n                   random_state=42, solver='warn', tol=0.0001, verbose=0,\\n                   warm_start=False)\\n\\nIndex(['title_Mr', 'title_Mrs', 'family_size', 'is_child', 'pclass_2',\\n       'pclass_3'],\\n      dtype='object'                                                                                                                                                                                                                                                                      complete  0.77990      None          \\nxgb_model_5.csv                         2019-11-11 18:22:06  11/11/19, xgb_5,  <kaggle_accuracy>, 0.8215, 0.6672,0.8284,0.7349\\n\\nXGBClassifier(base_score=0.5, booster='gbtree', colsample_bylevel=1,\\n              colsample_bynode=1, colsample_bytree=0.3, gamma=0,\\n              learning_rate=0.01, max_delta_step=0, max_depth=3,\\n              max_features='sqrt', min_child_weight=1, missing=None,\\n              n_estimators=1000, n_jobs=1, nthread=None,\\n              objective='binary:logistic', random_state=42, reg_alpha=0,\\n              reg_lambda=1, scale_pos_weight=1, seed=123, silent=None,\\n              subsample=0.2, verbosity=1)\\n\\nIndex(['is_child', 'fare_bin_q4', 'age_bin_baby', 'title_Miss', 'family_size',\\n       'title_Officer', 'pclass_3', 'title_Mrs', 'title_Mr', 'sex_male'],\\n      dtype='object')                 complete  0.78468      None          \\nxgb_model_4.csv                         2019-11-11 18:15:58  11/11/19, xgb_4,  <kaggle_accuracy>, 0.8217, 0.7127,0.7930,0.7499\\n\\nXGBClassifier(base_score=0.5, booster='gbtree', colsample_bylevel=1,\\n              colsample_bynode=1, colsample_bytree=0.3, gamma=0,\\n              learning_rate=0.01, max_delta_step=0, max_depth=3,\\n              max_features='sqrt', min_child_weight=1, missing=None,\\n              n_estimators=1000, n_jobs=1, nthread=None,\\n              objective='binary:logistic', random_state=42, reg_alpha=0,\\n              reg_lambda=1, scale_pos_weight=1, seed=123, silent=None,\\n              subsample=0.2, verbosity=1)\\n\\n\\nIndex(['family_size', 'is_child', 'is_traveling_alone', 'sex_male',\\n       'embarked_Q', 'embarked_S', 'title_Miss', 'title_Mr', 'title_Mrs',\\n       'title_Officer'],\\n      dtype='object')  complete  0.78468      None          \\nxgb_model_3.csv                         2019-11-07 16:39:38  XGBClassifier(base_score=0.5, booster='gbtree', colsample_bylevel=1,\\n              colsample_bynode=1, colsample_bytree=0.3, gamma=0,\\n              learning_rate=0.01, max_delta_step=0, max_depth=3,\\n              max_features='sqrt', min_child_weight=1, missing=None,\\n              n_estimators=1000, n_jobs=1, nthread=None,\\n              objective='binary:logistic', random_state=42, reg_alpha=0,\\n              reg_lambda=1, scale_pos_weight=1, seed=123, silent=None,\\n              subsample=0.2, verbosity=1)\\n\\nIndex(['sex_male', 'title_Mr', 'pclass_3', 'title_Mrs', 'title_Miss',\\n       'title_Officer', 'family_size', 'age_bin_baby', 'fare_bin_q4',\\n       'age_bin_child', 'embarked_S', 'fare_bin_q2'],\\n      dtype='object')                                           complete  0.77990      None          \\nlogreg_model_4.csv                      2019-11-06 21:30:33  LogisticRegression(C=1.0, class_weight=None, dual=False, fit_intercept=True,\\n                   intercept_scaling=1, l1_ratio=1, max_iter=500,\\n                   multi_class='warn', n_jobs=None, penalty='l2',\\n                   random_state=60, solver='warn', tol=0.0001, verbose=0,\\n                   warm_start=False)\\n\\nIndex(['title_Mr', 'title_Mrs', 'family_size', 'is_child', 'pclass_1',\\n       'pclass_2'],\\n      dtype='object')                                                                                                                                                                                                                                                                                                                                                 complete  0.79425      None          \\nxgb_model_2.csv                         2019-11-06 21:26:21  XGB Model 2\\n\\nXGBClassifier(base_score=0.5, booster='gbtree', colsample_bylevel=1,\\n              colsample_bynode=1, colsample_bytree=0.3, gamma=0,\\n              learning_rate=0.01, max_delta_step=0, max_depth=3,\\n              max_features='sqrt', min_child_weight=1, missing=None,\\n              n_estimators=1000, n_jobs=1, nthread=None,\\n              objective='binary:logistic', random_state=42, reg_alpha=0,\\n              reg_lambda=1, scale_pos_weight=1, seed=123, silent=None,\\n              subsample=0.2, verbosity=1)\\n\\nIndex(['title_Mr', 'pclass_2', 'pclass_3', 'family_size', 'fare', 'age'], dtype='object')                                                                                                                                                            complete  0.74641      None          \\nxgb_model_1.csv                         2019-11-06 21:22:50  XGB Model\\nImportant Features ['title_Mr', 'pclass_1', 'pclass_2', 'family_size']                                                                                                                                                                                                                                                                                                                                                                                                                                                                                                                                                                                                                                                                                                                  complete  0.78947      None          \\ndtree_model_2.csv                       2019-11-05 16:44:48  Decision Tree Model 2. Features were selected based upon YellowBrick feature selection.\\n\\nimportant_features = ['title_Mr', 'family_size',  'pclass']    \\n\\n                                                                                                                                                                                                                                                                                                                                                                                                                                                                                                                                                                                                                                        complete  0.78468      None          \\ndtree_model_1.csv                       2019-11-05 16:36:18  Decision Tree with the same features as logistic regression model. \\n\\nimportant_features = ['title_Mr', 'title_Mrs', 'family_size', 'is_child', 'pclass']        # 11/05/19, Decision Tree, 0.8173, 0.6486,0.8310,0.7251, NS\\n                                                                                                                                                                                                                                                                                                                                                                                                                                                                                                                                                                      complete  0.77990      None          \\nmodel__dtree_model_1__2019-11-05.ipynb  2019-11-05 16:35:54  Decision Tree with the same features as logistic regression model. \\n\\nimportant_features = ['title_Mr', 'title_Mrs', 'family_size', 'is_child', 'pclass']        # 11/05/19, Decision Tree, 0.8173, 0.6486,0.8310,0.7251, NS\\n\\n                                                                                                                                                                                                                                                                                                                                                                                                                                                                                                                                                                     error     None         None          \\nlogreg_model_3.csv                      2019-10-28 19:07:52  logreg_model_3\\n\\nIndex(['title_Mr', 'title_Mrs', 'family_size', 'is_child', 'pclass'], dtype='object')\\n\\nLogisticRegression(C=1.0, class_weight=None, dual=False, fit_intercept=True,\\n                   intercept_scaling=1, l1_ratio=None, max_iter=100,\\n                   multi_class='warn', n_jobs=None, penalty='l2',\\n                   random_state=None, solver='warn', tol=0.0001, verbose=0,\\n                   warm_start=False)                                                                                                                                                                                                                                                                                                                                                       complete  0.79425      None          \\nlogreg_model_2.csv                      2019-10-28 18:44:33  logreg_model_2\\n\\nIndex(['title_Mr', 'title_Mrs', 'family_size', 'is_child', 'fare'], dtype='object')\\n\\nLogisticRegression(C=1.0, class_weight=None, dual=False, fit_intercept=True,\\n                   intercept_scaling=1, l1_ratio=None, max_iter=100,\\n                   multi_class='warn', n_jobs=None, penalty='l2',\\n                   random_state=None, solver='warn', tol=0.0001, verbose=0,\\n                   warm_start=False)                                                                                                                                                                                                                                                                                                                                                         complete  0.78468      None          \\nlogreg_model_1.csv                      2019-10-28 16:38:41  Index(['age', 'fare', 'family_size', 'is_child', 'is_travelling_alone',\\n       'sex_male', 'embarked_Q', 'embarked_S', 'title_Miss', 'title_Mr',\\n       'title_Mrs', 'age_bin_(10.0, 20.0]', 'age_bin_(20.0, 30.0]',\\n       'age_bin_(30.0, 40.0]', 'age_bin_(40.0, 50.0]', 'age_bin_(50.0, 60.0]',\\n       'age_bin_(60.0, inf]'],\\n      dtype='object')\\n\\nLogisticRegression(C=1.0, class_weight=None, dual=False, fit_intercept=True,\\n                   intercept_scaling=1, l1_ratio=None, max_iter=100,\\n                   multi_class='warn', n_jobs=None, penalty='l2',\\n                   random_state=None, solver='warn', tol=0.0001, verbose=0,\\n                   warm_start=False)                                                                                                    complete  0.77990      None          \\n\"\n"
     ]
    }
   ],
   "source": [
    "tmp=print(process.stdout.read())"
   ]
  },
  {
   "cell_type": "code",
   "execution_count": 52,
   "metadata": {},
   "outputs": [],
   "source": [
    "tmp"
   ]
  },
  {
   "cell_type": "code",
   "execution_count": 53,
   "metadata": {},
   "outputs": [],
   "source": [
    "io_string = StringIO(tmp)"
   ]
  },
  {
   "cell_type": "code",
   "execution_count": 54,
   "metadata": {},
   "outputs": [
    {
     "data": {
      "text/plain": [
       "<_io.StringIO at 0x123b91288>"
      ]
     },
     "execution_count": 54,
     "metadata": {},
     "output_type": "execute_result"
    }
   ],
   "source": [
    "io_string"
   ]
  },
  {
   "cell_type": "code",
   "execution_count": 55,
   "metadata": {},
   "outputs": [
    {
     "ename": "EmptyDataError",
     "evalue": "No columns to parse from file",
     "output_type": "error",
     "traceback": [
      "\u001b[0;31m---------------------------------------------------------------------------\u001b[0m",
      "\u001b[0;31mEmptyDataError\u001b[0m                            Traceback (most recent call last)",
      "\u001b[0;32m<ipython-input-55-34dc99317d8a>\u001b[0m in \u001b[0;36m<module>\u001b[0;34m\u001b[0m\n\u001b[0;32m----> 1\u001b[0;31m \u001b[0mpd\u001b[0m\u001b[0;34m.\u001b[0m\u001b[0mread_csv\u001b[0m\u001b[0;34m(\u001b[0m\u001b[0mio_string\u001b[0m\u001b[0;34m)\u001b[0m\u001b[0;34m\u001b[0m\u001b[0;34m\u001b[0m\u001b[0m\n\u001b[0m",
      "\u001b[0;32m/Applications/anaconda3/envs/kaggle_titanic/lib/python3.7/site-packages/pandas/io/parsers.py\u001b[0m in \u001b[0;36mparser_f\u001b[0;34m(filepath_or_buffer, sep, delimiter, header, names, index_col, usecols, squeeze, prefix, mangle_dupe_cols, dtype, engine, converters, true_values, false_values, skipinitialspace, skiprows, skipfooter, nrows, na_values, keep_default_na, na_filter, verbose, skip_blank_lines, parse_dates, infer_datetime_format, keep_date_col, date_parser, dayfirst, cache_dates, iterator, chunksize, compression, thousands, decimal, lineterminator, quotechar, quoting, doublequote, escapechar, comment, encoding, dialect, error_bad_lines, warn_bad_lines, delim_whitespace, low_memory, memory_map, float_precision)\u001b[0m\n\u001b[1;32m    683\u001b[0m         )\n\u001b[1;32m    684\u001b[0m \u001b[0;34m\u001b[0m\u001b[0m\n\u001b[0;32m--> 685\u001b[0;31m         \u001b[0;32mreturn\u001b[0m \u001b[0m_read\u001b[0m\u001b[0;34m(\u001b[0m\u001b[0mfilepath_or_buffer\u001b[0m\u001b[0;34m,\u001b[0m \u001b[0mkwds\u001b[0m\u001b[0;34m)\u001b[0m\u001b[0;34m\u001b[0m\u001b[0;34m\u001b[0m\u001b[0m\n\u001b[0m\u001b[1;32m    686\u001b[0m \u001b[0;34m\u001b[0m\u001b[0m\n\u001b[1;32m    687\u001b[0m     \u001b[0mparser_f\u001b[0m\u001b[0;34m.\u001b[0m\u001b[0m__name__\u001b[0m \u001b[0;34m=\u001b[0m \u001b[0mname\u001b[0m\u001b[0;34m\u001b[0m\u001b[0;34m\u001b[0m\u001b[0m\n",
      "\u001b[0;32m/Applications/anaconda3/envs/kaggle_titanic/lib/python3.7/site-packages/pandas/io/parsers.py\u001b[0m in \u001b[0;36m_read\u001b[0;34m(filepath_or_buffer, kwds)\u001b[0m\n\u001b[1;32m    455\u001b[0m \u001b[0;34m\u001b[0m\u001b[0m\n\u001b[1;32m    456\u001b[0m     \u001b[0;31m# Create the parser.\u001b[0m\u001b[0;34m\u001b[0m\u001b[0;34m\u001b[0m\u001b[0;34m\u001b[0m\u001b[0m\n\u001b[0;32m--> 457\u001b[0;31m     \u001b[0mparser\u001b[0m \u001b[0;34m=\u001b[0m \u001b[0mTextFileReader\u001b[0m\u001b[0;34m(\u001b[0m\u001b[0mfp_or_buf\u001b[0m\u001b[0;34m,\u001b[0m \u001b[0;34m**\u001b[0m\u001b[0mkwds\u001b[0m\u001b[0;34m)\u001b[0m\u001b[0;34m\u001b[0m\u001b[0;34m\u001b[0m\u001b[0m\n\u001b[0m\u001b[1;32m    458\u001b[0m \u001b[0;34m\u001b[0m\u001b[0m\n\u001b[1;32m    459\u001b[0m     \u001b[0;32mif\u001b[0m \u001b[0mchunksize\u001b[0m \u001b[0;32mor\u001b[0m \u001b[0miterator\u001b[0m\u001b[0;34m:\u001b[0m\u001b[0;34m\u001b[0m\u001b[0;34m\u001b[0m\u001b[0m\n",
      "\u001b[0;32m/Applications/anaconda3/envs/kaggle_titanic/lib/python3.7/site-packages/pandas/io/parsers.py\u001b[0m in \u001b[0;36m__init__\u001b[0;34m(self, f, engine, **kwds)\u001b[0m\n\u001b[1;32m    893\u001b[0m             \u001b[0mself\u001b[0m\u001b[0;34m.\u001b[0m\u001b[0moptions\u001b[0m\u001b[0;34m[\u001b[0m\u001b[0;34m\"has_index_names\"\u001b[0m\u001b[0;34m]\u001b[0m \u001b[0;34m=\u001b[0m \u001b[0mkwds\u001b[0m\u001b[0;34m[\u001b[0m\u001b[0;34m\"has_index_names\"\u001b[0m\u001b[0;34m]\u001b[0m\u001b[0;34m\u001b[0m\u001b[0;34m\u001b[0m\u001b[0m\n\u001b[1;32m    894\u001b[0m \u001b[0;34m\u001b[0m\u001b[0m\n\u001b[0;32m--> 895\u001b[0;31m         \u001b[0mself\u001b[0m\u001b[0;34m.\u001b[0m\u001b[0m_make_engine\u001b[0m\u001b[0;34m(\u001b[0m\u001b[0mself\u001b[0m\u001b[0;34m.\u001b[0m\u001b[0mengine\u001b[0m\u001b[0;34m)\u001b[0m\u001b[0;34m\u001b[0m\u001b[0;34m\u001b[0m\u001b[0m\n\u001b[0m\u001b[1;32m    896\u001b[0m \u001b[0;34m\u001b[0m\u001b[0m\n\u001b[1;32m    897\u001b[0m     \u001b[0;32mdef\u001b[0m \u001b[0mclose\u001b[0m\u001b[0;34m(\u001b[0m\u001b[0mself\u001b[0m\u001b[0;34m)\u001b[0m\u001b[0;34m:\u001b[0m\u001b[0;34m\u001b[0m\u001b[0;34m\u001b[0m\u001b[0m\n",
      "\u001b[0;32m/Applications/anaconda3/envs/kaggle_titanic/lib/python3.7/site-packages/pandas/io/parsers.py\u001b[0m in \u001b[0;36m_make_engine\u001b[0;34m(self, engine)\u001b[0m\n\u001b[1;32m   1133\u001b[0m     \u001b[0;32mdef\u001b[0m \u001b[0m_make_engine\u001b[0m\u001b[0;34m(\u001b[0m\u001b[0mself\u001b[0m\u001b[0;34m,\u001b[0m \u001b[0mengine\u001b[0m\u001b[0;34m=\u001b[0m\u001b[0;34m\"c\"\u001b[0m\u001b[0;34m)\u001b[0m\u001b[0;34m:\u001b[0m\u001b[0;34m\u001b[0m\u001b[0;34m\u001b[0m\u001b[0m\n\u001b[1;32m   1134\u001b[0m         \u001b[0;32mif\u001b[0m \u001b[0mengine\u001b[0m \u001b[0;34m==\u001b[0m \u001b[0;34m\"c\"\u001b[0m\u001b[0;34m:\u001b[0m\u001b[0;34m\u001b[0m\u001b[0;34m\u001b[0m\u001b[0m\n\u001b[0;32m-> 1135\u001b[0;31m             \u001b[0mself\u001b[0m\u001b[0;34m.\u001b[0m\u001b[0m_engine\u001b[0m \u001b[0;34m=\u001b[0m \u001b[0mCParserWrapper\u001b[0m\u001b[0;34m(\u001b[0m\u001b[0mself\u001b[0m\u001b[0;34m.\u001b[0m\u001b[0mf\u001b[0m\u001b[0;34m,\u001b[0m \u001b[0;34m**\u001b[0m\u001b[0mself\u001b[0m\u001b[0;34m.\u001b[0m\u001b[0moptions\u001b[0m\u001b[0;34m)\u001b[0m\u001b[0;34m\u001b[0m\u001b[0;34m\u001b[0m\u001b[0m\n\u001b[0m\u001b[1;32m   1136\u001b[0m         \u001b[0;32melse\u001b[0m\u001b[0;34m:\u001b[0m\u001b[0;34m\u001b[0m\u001b[0;34m\u001b[0m\u001b[0m\n\u001b[1;32m   1137\u001b[0m             \u001b[0;32mif\u001b[0m \u001b[0mengine\u001b[0m \u001b[0;34m==\u001b[0m \u001b[0;34m\"python\"\u001b[0m\u001b[0;34m:\u001b[0m\u001b[0;34m\u001b[0m\u001b[0;34m\u001b[0m\u001b[0m\n",
      "\u001b[0;32m/Applications/anaconda3/envs/kaggle_titanic/lib/python3.7/site-packages/pandas/io/parsers.py\u001b[0m in \u001b[0;36m__init__\u001b[0;34m(self, src, **kwds)\u001b[0m\n\u001b[1;32m   1915\u001b[0m         \u001b[0mkwds\u001b[0m\u001b[0;34m[\u001b[0m\u001b[0;34m\"usecols\"\u001b[0m\u001b[0;34m]\u001b[0m \u001b[0;34m=\u001b[0m \u001b[0mself\u001b[0m\u001b[0;34m.\u001b[0m\u001b[0musecols\u001b[0m\u001b[0;34m\u001b[0m\u001b[0;34m\u001b[0m\u001b[0m\n\u001b[1;32m   1916\u001b[0m \u001b[0;34m\u001b[0m\u001b[0m\n\u001b[0;32m-> 1917\u001b[0;31m         \u001b[0mself\u001b[0m\u001b[0;34m.\u001b[0m\u001b[0m_reader\u001b[0m \u001b[0;34m=\u001b[0m \u001b[0mparsers\u001b[0m\u001b[0;34m.\u001b[0m\u001b[0mTextReader\u001b[0m\u001b[0;34m(\u001b[0m\u001b[0msrc\u001b[0m\u001b[0;34m,\u001b[0m \u001b[0;34m**\u001b[0m\u001b[0mkwds\u001b[0m\u001b[0;34m)\u001b[0m\u001b[0;34m\u001b[0m\u001b[0;34m\u001b[0m\u001b[0m\n\u001b[0m\u001b[1;32m   1918\u001b[0m         \u001b[0mself\u001b[0m\u001b[0;34m.\u001b[0m\u001b[0munnamed_cols\u001b[0m \u001b[0;34m=\u001b[0m \u001b[0mself\u001b[0m\u001b[0;34m.\u001b[0m\u001b[0m_reader\u001b[0m\u001b[0;34m.\u001b[0m\u001b[0munnamed_cols\u001b[0m\u001b[0;34m\u001b[0m\u001b[0;34m\u001b[0m\u001b[0m\n\u001b[1;32m   1919\u001b[0m \u001b[0;34m\u001b[0m\u001b[0m\n",
      "\u001b[0;32mpandas/_libs/parsers.pyx\u001b[0m in \u001b[0;36mpandas._libs.parsers.TextReader.__cinit__\u001b[0;34m()\u001b[0m\n",
      "\u001b[0;31mEmptyDataError\u001b[0m: No columns to parse from file"
     ]
    }
   ],
   "source": [
    "pd.read_csv(io_string)"
   ]
  },
  {
   "cell_type": "code",
   "execution_count": null,
   "metadata": {},
   "outputs": [],
   "source": []
  }
 ],
 "metadata": {
  "kernelspec": {
   "display_name": "Python 3",
   "language": "python",
   "name": "python3"
  },
  "language_info": {
   "codemirror_mode": {
    "name": "ipython",
    "version": 3
   },
   "file_extension": ".py",
   "mimetype": "text/x-python",
   "name": "python",
   "nbconvert_exporter": "python",
   "pygments_lexer": "ipython3",
   "version": "3.7.3"
  }
 },
 "nbformat": 4,
 "nbformat_minor": 4
}
