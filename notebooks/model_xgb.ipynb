{
 "cells": [
  {
   "cell_type": "markdown",
   "metadata": {},
   "source": [
    "# XGBoost Model"
   ]
  },
  {
   "cell_type": "markdown",
   "metadata": {},
   "source": [
    "This is the XGBoost decision tree model.  "
   ]
  },
  {
   "cell_type": "raw",
   "metadata": {},
   "source": [
    "xgb.csv \n",
    "\n",
    "This is a submission test via the Kaggle API. \n",
    "\n",
    "XGBClassifier(base_score=0.5, booster='gbtree', colsample_bylevel=1,\n",
    "              colsample_bynode=1, colsample_bytree=0.3, gamma=0,\n",
    "              learning_rate=0.01, max_delta_step=0, max_depth=4,\n",
    "              max_features='sqrt', min_child_weight=1, missing=None,\n",
    "              n_estimators=1000, n_jobs=1, nthread=None,\n",
    "              objective='binary:logistic', random_state=42, reg_alpha=0,\n",
    "              reg_lambda=1, scale_pos_weight=1, seed=123, silent=None,\n",
    "              subsample=0.3, verbosity=1) \n",
    "\n",
    "Index(['is_child', 'fare_bin_q4', 'age_bin_baby', 'title_Miss', 'family_size',\n",
    "       'pclass_3', 'title_Mrs', 'title_Mr'],\n",
    "      dtype='object') "
   ]
  },
  {
   "cell_type": "markdown",
   "metadata": {},
   "source": [
    "Accuracy score and metrics are below.  Kaggle Submission score is 0.78468"
   ]
  },
  {
   "cell_type": "raw",
   "metadata": {},
   "source": [
    "\n",
    "Accuracy Score on X_test,y_test:  0.8268\n",
    "\n",
    "\n",
    "Cross Validation Scores:\n",
    "\tAccuracy \t: 0.8315 (+/- 0.0496)\n",
    "\tRecall\t\t: 0.7163 (+/- 0.1259)\n",
    "\tPrecision\t: 0.8128 (+/- 0.0522)\n",
    "\tF1\t\t: 0.7605 (+/- 0.0881)\n",
    "\n",
    "\n",
    "11/22/19, xgb,  <kaggle_accuracy>, 0.8315, 0.7163,0.8128,0.7605"
   ]
  },
  {
   "cell_type": "markdown",
   "metadata": {},
   "source": [
    "## Initialization"
   ]
  },
  {
   "cell_type": "code",
   "execution_count": 1,
   "metadata": {},
   "outputs": [
    {
     "data": {
      "text/html": [
       "<style>.container { width:80% !important; }</style>"
      ],
      "text/plain": [
       "<IPython.core.display.HTML object>"
      ]
     },
     "metadata": {},
     "output_type": "display_data"
    }
   ],
   "source": [
    "%run init.ipynb"
   ]
  },
  {
   "cell_type": "code",
   "execution_count": 2,
   "metadata": {},
   "outputs": [],
   "source": [
    "from joblib import load, dump\n",
    "\n",
    "model_filename = Path('../models/xgb.joblib').resolve()"
   ]
  },
  {
   "cell_type": "code",
   "execution_count": 3,
   "metadata": {},
   "outputs": [],
   "source": [
    "import xgboost as xgb\n",
    "\n",
    "from sklearn.preprocessing import scale\n",
    "\n",
    "import great_expectations as ge\n",
    "\n",
    "RANDOM_STATE = 42\n",
    "\n",
    "from progressbar import ProgressBar\n",
    "import seaborn as sns\n",
    "\n",
    "from data.data import (transform_X_numerical, \n",
    "                           transform_X_categorical, \n",
    "                           transform_X)\n",
    "\n",
    "from sklearn.model_selection import GridSearchCV\n",
    "\n",
    "from sklearn.model_selection import cross_val_score, cross_val_score, cross_validate\n"
   ]
  },
  {
   "cell_type": "markdown",
   "metadata": {},
   "source": [
    "For more information on progressbar. Look here https://pypi.org/project/progressbar2/"
   ]
  },
  {
   "cell_type": "markdown",
   "metadata": {},
   "source": [
    "## Extract Clean Data"
   ]
  },
  {
   "cell_type": "markdown",
   "metadata": {},
   "source": [
    "**Separate data into X (features) and y (label) from the raw data**\n",
    "\n",
    "This is exactly what Ben did in his notebook."
   ]
  },
  {
   "cell_type": "code",
   "execution_count": 4,
   "metadata": {},
   "outputs": [],
   "source": [
    "Xy = pd.read_csv('../data/processed/train__2019-11-21.csv', index_col='passengerid', dtype={'pclass':str})"
   ]
  },
  {
   "cell_type": "markdown",
   "metadata": {},
   "source": [
    "**List of Features**"
   ]
  },
  {
   "cell_type": "code",
   "execution_count": 12,
   "metadata": {},
   "outputs": [],
   "source": [
    "all_columns =['family_size', 'is_child', 'is_traveling_alone', 'sex_male',\n",
    "       'embarked_Q', 'embarked_S', 'title_Miss', 'title_Mr', 'title_Mrs',\n",
    "       'title_Officer', 'title_Royalty', 'age_bin_baby', 'age_bin_child',\n",
    "       'age_bin_senior', 'age_bin_student', 'age_bin_teen',\n",
    "       'age_bin_young_adult', 'fare_bin_q2', 'fare_bin_q3', 'fare_bin_q4',\n",
    "       'pclass_2', 'pclass_3']\n",
    "\n",
    "important_features = ['title_Mr', 'title_Mrs', 'family_size', 'is_child', 'pclass']\n",
    "important_features = ['title_Mr', 'pclass_2', 'pclass_3', 'family_size', 'fare', 'age']\n",
    "#important_features = ['title_Mr',  'pclass_1', 'pclass_2', 'family_size',]\n",
    "\n",
    "important_features = ['sex_male', 'title_Mr', 'pclass_3', 'title_Mrs', 'title_Miss', 'title_Officer', 'family_size', \n",
    "                      'age_bin_baby', 'fare_bin_q4', 'age_bin_child', 'embarked_S', 'fare_bin_q2']\n",
    "\n",
    "important_features = ['sex_male', 'title_Mr', 'pclass_3', 'title_Mrs', 'title_Miss', 'title_Officer', 'family_size', \n",
    "                      'age_bin_baby', \n",
    "                     ]\n",
    "                      \n",
    "important_features = ['is_child', 'fare_bin_q4', 'age_bin_baby',\n",
    "                      'title_Miss', 'family_size', 'pclass_3',\n",
    "                      'title_Mrs', 'title_Mr']\n",
    "\n",
    "# important_features = ['title_Mr', 'title_Mrs', 'family_size', 'is_child', 'pclass_2', 'pclass_3'] # This is the best score and model with the fewest features\n",
    "\n",
    "#important_features = ['title_Mr', 'title_Mrs', 'family_size', 'is_child', 'pclass_2', 'pclass_3']\n",
    "                    \n",
    "#important_features = all_columns\n",
    "\n",
    "model_features = important_features"
   ]
  },
  {
   "cell_type": "code",
   "execution_count": 13,
   "metadata": {},
   "outputs": [
    {
     "data": {
      "text/html": [
       "<div>\n",
       "<style scoped>\n",
       "    .dataframe tbody tr th:only-of-type {\n",
       "        vertical-align: middle;\n",
       "    }\n",
       "\n",
       "    .dataframe tbody tr th {\n",
       "        vertical-align: top;\n",
       "    }\n",
       "\n",
       "    .dataframe thead th {\n",
       "        text-align: right;\n",
       "    }\n",
       "</style>\n",
       "<table border=\"1\" class=\"dataframe\">\n",
       "  <thead>\n",
       "    <tr style=\"text-align: right;\">\n",
       "      <th></th>\n",
       "      <th>fare_bin_q4</th>\n",
       "      <th>age_bin_baby</th>\n",
       "      <th>title_Miss</th>\n",
       "      <th>family_size</th>\n",
       "      <th>pclass_3</th>\n",
       "      <th>title_Mrs</th>\n",
       "      <th>title_Mr</th>\n",
       "    </tr>\n",
       "  </thead>\n",
       "  <tbody>\n",
       "    <tr>\n",
       "      <td>count</td>\n",
       "      <td>891.000000</td>\n",
       "      <td>891.000000</td>\n",
       "      <td>891.000000</td>\n",
       "      <td>8.910000e+02</td>\n",
       "      <td>891.000000</td>\n",
       "      <td>891.000000</td>\n",
       "      <td>891.000000</td>\n",
       "    </tr>\n",
       "    <tr>\n",
       "      <td>mean</td>\n",
       "      <td>0.246914</td>\n",
       "      <td>0.053872</td>\n",
       "      <td>0.208754</td>\n",
       "      <td>-2.392400e-17</td>\n",
       "      <td>0.551066</td>\n",
       "      <td>0.143659</td>\n",
       "      <td>0.602694</td>\n",
       "    </tr>\n",
       "    <tr>\n",
       "      <td>std</td>\n",
       "      <td>0.431458</td>\n",
       "      <td>0.225892</td>\n",
       "      <td>0.406647</td>\n",
       "      <td>1.000562e+00</td>\n",
       "      <td>0.497665</td>\n",
       "      <td>0.350940</td>\n",
       "      <td>0.489615</td>\n",
       "    </tr>\n",
       "    <tr>\n",
       "      <td>min</td>\n",
       "      <td>0.000000</td>\n",
       "      <td>0.000000</td>\n",
       "      <td>0.000000</td>\n",
       "      <td>-5.609748e-01</td>\n",
       "      <td>0.000000</td>\n",
       "      <td>0.000000</td>\n",
       "      <td>0.000000</td>\n",
       "    </tr>\n",
       "    <tr>\n",
       "      <td>25%</td>\n",
       "      <td>0.000000</td>\n",
       "      <td>0.000000</td>\n",
       "      <td>0.000000</td>\n",
       "      <td>-5.609748e-01</td>\n",
       "      <td>0.000000</td>\n",
       "      <td>0.000000</td>\n",
       "      <td>0.000000</td>\n",
       "    </tr>\n",
       "    <tr>\n",
       "      <td>50%</td>\n",
       "      <td>0.000000</td>\n",
       "      <td>0.000000</td>\n",
       "      <td>0.000000</td>\n",
       "      <td>-5.609748e-01</td>\n",
       "      <td>1.000000</td>\n",
       "      <td>0.000000</td>\n",
       "      <td>1.000000</td>\n",
       "    </tr>\n",
       "    <tr>\n",
       "      <td>75%</td>\n",
       "      <td>0.000000</td>\n",
       "      <td>0.000000</td>\n",
       "      <td>0.000000</td>\n",
       "      <td>5.915988e-02</td>\n",
       "      <td>1.000000</td>\n",
       "      <td>0.000000</td>\n",
       "      <td>1.000000</td>\n",
       "    </tr>\n",
       "    <tr>\n",
       "      <td>max</td>\n",
       "      <td>1.000000</td>\n",
       "      <td>1.000000</td>\n",
       "      <td>1.000000</td>\n",
       "      <td>5.640372e+00</td>\n",
       "      <td>1.000000</td>\n",
       "      <td>1.000000</td>\n",
       "      <td>1.000000</td>\n",
       "    </tr>\n",
       "  </tbody>\n",
       "</table>\n",
       "</div>"
      ],
      "text/plain": [
       "       fare_bin_q4  age_bin_baby  title_Miss   family_size    pclass_3  \\\n",
       "count   891.000000    891.000000  891.000000  8.910000e+02  891.000000   \n",
       "mean      0.246914      0.053872    0.208754 -2.392400e-17    0.551066   \n",
       "std       0.431458      0.225892    0.406647  1.000562e+00    0.497665   \n",
       "min       0.000000      0.000000    0.000000 -5.609748e-01    0.000000   \n",
       "25%       0.000000      0.000000    0.000000 -5.609748e-01    0.000000   \n",
       "50%       0.000000      0.000000    0.000000 -5.609748e-01    1.000000   \n",
       "75%       0.000000      0.000000    0.000000  5.915988e-02    1.000000   \n",
       "max       1.000000      1.000000    1.000000  5.640372e+00    1.000000   \n",
       "\n",
       "        title_Mrs    title_Mr  \n",
       "count  891.000000  891.000000  \n",
       "mean     0.143659    0.602694  \n",
       "std      0.350940    0.489615  \n",
       "min      0.000000    0.000000  \n",
       "25%      0.000000    0.000000  \n",
       "50%      0.000000    1.000000  \n",
       "75%      0.000000    1.000000  \n",
       "max      1.000000    1.000000  "
      ]
     },
     "execution_count": 13,
     "metadata": {},
     "output_type": "execute_result"
    },
    {
     "data": {
      "text/plain": [
       "(891, 8)"
      ]
     },
     "execution_count": 13,
     "metadata": {},
     "output_type": "execute_result"
    },
    {
     "data": {
      "text/plain": [
       "Index(['is_child', 'fare_bin_q4', 'age_bin_baby', 'title_Miss', 'family_size',\n",
       "       'pclass_3', 'title_Mrs', 'title_Mr'],\n",
       "      dtype='object')"
      ]
     },
     "execution_count": 13,
     "metadata": {},
     "output_type": "execute_result"
    }
   ],
   "source": [
    "X_all = transform_X(Xy.drop(['name', \"age\", \"fare\",], axis=1), \n",
    "                    numerical_columns=[\"family_size\"],\n",
    "    categorical_columns=[\n",
    "        \"sex\",\n",
    "        \"embarked\",\n",
    "        \"title\",\n",
    "        \"age_bin\",\n",
    "        \"fare_bin\",\n",
    "        \"is_child\",\n",
    "        \"is_traveling_alone\",\n",
    "        \"pclass\",\n",
    "    ], )\n",
    "X_all.columns = X_all.columns.str.replace(', ','_').str.replace(r'\\[|\\]|\\(|\\)','', regex=True)\n",
    "\n",
    "X = X_all[model_features].copy()\n",
    "X.describe()\n",
    "\n",
    "y = Xy['survived']\n",
    "X.shape\n",
    "\n",
    "X.columns"
   ]
  },
  {
   "cell_type": "markdown",
   "metadata": {},
   "source": [
    "## Train Test Split Data"
   ]
  },
  {
   "cell_type": "code",
   "execution_count": 14,
   "metadata": {},
   "outputs": [
    {
     "data": {
      "text/plain": [
       "Index(['is_child', 'fare_bin_q4', 'age_bin_baby', 'title_Miss', 'family_size',\n",
       "       'pclass_3', 'title_Mrs', 'title_Mr'],\n",
       "      dtype='object')"
      ]
     },
     "execution_count": 14,
     "metadata": {},
     "output_type": "execute_result"
    },
    {
     "data": {
      "text/html": [
       "<div>\n",
       "<style scoped>\n",
       "    .dataframe tbody tr th:only-of-type {\n",
       "        vertical-align: middle;\n",
       "    }\n",
       "\n",
       "    .dataframe tbody tr th {\n",
       "        vertical-align: top;\n",
       "    }\n",
       "\n",
       "    .dataframe thead th {\n",
       "        text-align: right;\n",
       "    }\n",
       "</style>\n",
       "<table border=\"1\" class=\"dataframe\">\n",
       "  <thead>\n",
       "    <tr style=\"text-align: right;\">\n",
       "      <th></th>\n",
       "      <th>is_child</th>\n",
       "      <th>fare_bin_q4</th>\n",
       "      <th>age_bin_baby</th>\n",
       "      <th>title_Miss</th>\n",
       "      <th>family_size</th>\n",
       "      <th>pclass_3</th>\n",
       "      <th>title_Mrs</th>\n",
       "      <th>title_Mr</th>\n",
       "    </tr>\n",
       "    <tr>\n",
       "      <th>passengerid</th>\n",
       "      <th></th>\n",
       "      <th></th>\n",
       "      <th></th>\n",
       "      <th></th>\n",
       "      <th></th>\n",
       "      <th></th>\n",
       "      <th></th>\n",
       "      <th></th>\n",
       "    </tr>\n",
       "  </thead>\n",
       "  <tbody>\n",
       "    <tr>\n",
       "      <td>332</td>\n",
       "      <td>False</td>\n",
       "      <td>0</td>\n",
       "      <td>0</td>\n",
       "      <td>0</td>\n",
       "      <td>-0.560975</td>\n",
       "      <td>0</td>\n",
       "      <td>0</td>\n",
       "      <td>1</td>\n",
       "    </tr>\n",
       "    <tr>\n",
       "      <td>734</td>\n",
       "      <td>False</td>\n",
       "      <td>0</td>\n",
       "      <td>0</td>\n",
       "      <td>0</td>\n",
       "      <td>-0.560975</td>\n",
       "      <td>0</td>\n",
       "      <td>0</td>\n",
       "      <td>1</td>\n",
       "    </tr>\n",
       "    <tr>\n",
       "      <td>383</td>\n",
       "      <td>False</td>\n",
       "      <td>0</td>\n",
       "      <td>0</td>\n",
       "      <td>0</td>\n",
       "      <td>-0.560975</td>\n",
       "      <td>1</td>\n",
       "      <td>0</td>\n",
       "      <td>1</td>\n",
       "    </tr>\n",
       "    <tr>\n",
       "      <td>705</td>\n",
       "      <td>False</td>\n",
       "      <td>0</td>\n",
       "      <td>0</td>\n",
       "      <td>0</td>\n",
       "      <td>0.059160</td>\n",
       "      <td>1</td>\n",
       "      <td>0</td>\n",
       "      <td>1</td>\n",
       "    </tr>\n",
       "    <tr>\n",
       "      <td>814</td>\n",
       "      <td>True</td>\n",
       "      <td>0</td>\n",
       "      <td>0</td>\n",
       "      <td>1</td>\n",
       "      <td>3.159833</td>\n",
       "      <td>1</td>\n",
       "      <td>0</td>\n",
       "      <td>0</td>\n",
       "    </tr>\n",
       "    <tr>\n",
       "      <td>...</td>\n",
       "      <td>...</td>\n",
       "      <td>...</td>\n",
       "      <td>...</td>\n",
       "      <td>...</td>\n",
       "      <td>...</td>\n",
       "      <td>...</td>\n",
       "      <td>...</td>\n",
       "      <td>...</td>\n",
       "    </tr>\n",
       "    <tr>\n",
       "      <td>107</td>\n",
       "      <td>False</td>\n",
       "      <td>0</td>\n",
       "      <td>0</td>\n",
       "      <td>1</td>\n",
       "      <td>-0.560975</td>\n",
       "      <td>1</td>\n",
       "      <td>0</td>\n",
       "      <td>0</td>\n",
       "    </tr>\n",
       "    <tr>\n",
       "      <td>271</td>\n",
       "      <td>False</td>\n",
       "      <td>0</td>\n",
       "      <td>0</td>\n",
       "      <td>0</td>\n",
       "      <td>-0.560975</td>\n",
       "      <td>0</td>\n",
       "      <td>0</td>\n",
       "      <td>1</td>\n",
       "    </tr>\n",
       "    <tr>\n",
       "      <td>861</td>\n",
       "      <td>False</td>\n",
       "      <td>0</td>\n",
       "      <td>0</td>\n",
       "      <td>0</td>\n",
       "      <td>0.679295</td>\n",
       "      <td>1</td>\n",
       "      <td>0</td>\n",
       "      <td>1</td>\n",
       "    </tr>\n",
       "    <tr>\n",
       "      <td>436</td>\n",
       "      <td>False</td>\n",
       "      <td>1</td>\n",
       "      <td>0</td>\n",
       "      <td>1</td>\n",
       "      <td>1.299429</td>\n",
       "      <td>0</td>\n",
       "      <td>0</td>\n",
       "      <td>0</td>\n",
       "    </tr>\n",
       "    <tr>\n",
       "      <td>103</td>\n",
       "      <td>False</td>\n",
       "      <td>1</td>\n",
       "      <td>0</td>\n",
       "      <td>0</td>\n",
       "      <td>0.059160</td>\n",
       "      <td>0</td>\n",
       "      <td>0</td>\n",
       "      <td>1</td>\n",
       "    </tr>\n",
       "  </tbody>\n",
       "</table>\n",
       "<p>712 rows × 8 columns</p>\n",
       "</div>"
      ],
      "text/plain": [
       "             is_child  fare_bin_q4  age_bin_baby  title_Miss  family_size  \\\n",
       "passengerid                                                                 \n",
       "332             False            0             0           0    -0.560975   \n",
       "734             False            0             0           0    -0.560975   \n",
       "383             False            0             0           0    -0.560975   \n",
       "705             False            0             0           0     0.059160   \n",
       "814              True            0             0           1     3.159833   \n",
       "...               ...          ...           ...         ...          ...   \n",
       "107             False            0             0           1    -0.560975   \n",
       "271             False            0             0           0    -0.560975   \n",
       "861             False            0             0           0     0.679295   \n",
       "436             False            1             0           1     1.299429   \n",
       "103             False            1             0           0     0.059160   \n",
       "\n",
       "             pclass_3  title_Mrs  title_Mr  \n",
       "passengerid                                 \n",
       "332                 0          0         1  \n",
       "734                 0          0         1  \n",
       "383                 1          0         1  \n",
       "705                 1          0         1  \n",
       "814                 1          0         0  \n",
       "...               ...        ...       ...  \n",
       "107                 1          0         0  \n",
       "271                 0          0         1  \n",
       "861                 1          0         1  \n",
       "436                 0          0         0  \n",
       "103                 0          0         1  \n",
       "\n",
       "[712 rows x 8 columns]"
      ]
     },
     "execution_count": 14,
     "metadata": {},
     "output_type": "execute_result"
    }
   ],
   "source": [
    "X_train, X_test, y_train, y_test = train_test_split(X, \n",
    "                                                    y, \n",
    "                                                    test_size=0.2, \n",
    "                                                    random_state=RANDOM_STATE)\n",
    "\n",
    "X_train.columns\n",
    "X_train"
   ]
  },
  {
   "cell_type": "code",
   "execution_count": 26,
   "metadata": {},
   "outputs": [
    {
     "data": {
      "text/html": [
       "<div>\n",
       "<style scoped>\n",
       "    .dataframe tbody tr th:only-of-type {\n",
       "        vertical-align: middle;\n",
       "    }\n",
       "\n",
       "    .dataframe tbody tr th {\n",
       "        vertical-align: top;\n",
       "    }\n",
       "\n",
       "    .dataframe thead th {\n",
       "        text-align: right;\n",
       "    }\n",
       "</style>\n",
       "<table border=\"1\" class=\"dataframe\">\n",
       "  <thead>\n",
       "    <tr style=\"text-align: right;\">\n",
       "      <th></th>\n",
       "      <th>survived</th>\n",
       "    </tr>\n",
       "    <tr>\n",
       "      <th>passengerid</th>\n",
       "      <th></th>\n",
       "    </tr>\n",
       "  </thead>\n",
       "  <tbody>\n",
       "    <tr>\n",
       "      <td>710</td>\n",
       "      <td>1</td>\n",
       "    </tr>\n",
       "    <tr>\n",
       "      <td>440</td>\n",
       "      <td>0</td>\n",
       "    </tr>\n",
       "    <tr>\n",
       "      <td>841</td>\n",
       "      <td>0</td>\n",
       "    </tr>\n",
       "    <tr>\n",
       "      <td>721</td>\n",
       "      <td>1</td>\n",
       "    </tr>\n",
       "    <tr>\n",
       "      <td>40</td>\n",
       "      <td>1</td>\n",
       "    </tr>\n",
       "    <tr>\n",
       "      <td>...</td>\n",
       "      <td>...</td>\n",
       "    </tr>\n",
       "    <tr>\n",
       "      <td>434</td>\n",
       "      <td>0</td>\n",
       "    </tr>\n",
       "    <tr>\n",
       "      <td>774</td>\n",
       "      <td>0</td>\n",
       "    </tr>\n",
       "    <tr>\n",
       "      <td>26</td>\n",
       "      <td>1</td>\n",
       "    </tr>\n",
       "    <tr>\n",
       "      <td>85</td>\n",
       "      <td>1</td>\n",
       "    </tr>\n",
       "    <tr>\n",
       "      <td>11</td>\n",
       "      <td>1</td>\n",
       "    </tr>\n",
       "  </tbody>\n",
       "</table>\n",
       "<p>179 rows × 1 columns</p>\n",
       "</div>"
      ],
      "text/plain": [
       "             survived\n",
       "passengerid          \n",
       "710                 1\n",
       "440                 0\n",
       "841                 0\n",
       "721                 1\n",
       "40                  1\n",
       "...               ...\n",
       "434                 0\n",
       "774                 0\n",
       "26                  1\n",
       "85                  1\n",
       "11                  1\n",
       "\n",
       "[179 rows x 1 columns]"
      ]
     },
     "execution_count": 26,
     "metadata": {},
     "output_type": "execute_result"
    }
   ],
   "source": [
    "y_test.to_frame()"
   ]
  },
  {
   "cell_type": "code",
   "execution_count": 27,
   "metadata": {},
   "outputs": [],
   "source": [
    "X_test.to_csv('../data/processed/X_test__xgb.csv')\n",
    "y_test.to_frame().to_csv('../data/processed/y_test__xgb.csv')"
   ]
  },
  {
   "cell_type": "code",
   "execution_count": 11,
   "metadata": {},
   "outputs": [
    {
     "data": {
      "text/html": [
       "<div>\n",
       "<style scoped>\n",
       "    .dataframe tbody tr th:only-of-type {\n",
       "        vertical-align: middle;\n",
       "    }\n",
       "\n",
       "    .dataframe tbody tr th {\n",
       "        vertical-align: top;\n",
       "    }\n",
       "\n",
       "    .dataframe thead th {\n",
       "        text-align: right;\n",
       "    }\n",
       "</style>\n",
       "<table border=\"1\" class=\"dataframe\">\n",
       "  <thead>\n",
       "    <tr style=\"text-align: right;\">\n",
       "      <th></th>\n",
       "      <th>fare_bin_q4</th>\n",
       "      <th>age_bin_baby</th>\n",
       "      <th>title_Miss</th>\n",
       "      <th>family_size</th>\n",
       "      <th>pclass_3</th>\n",
       "      <th>title_Mrs</th>\n",
       "      <th>title_Mr</th>\n",
       "    </tr>\n",
       "  </thead>\n",
       "  <tbody>\n",
       "    <tr>\n",
       "      <td>count</td>\n",
       "      <td>712.000000</td>\n",
       "      <td>712.000000</td>\n",
       "      <td>712.000000</td>\n",
       "      <td>712.000000</td>\n",
       "      <td>712.000000</td>\n",
       "      <td>712.000000</td>\n",
       "      <td>712.000000</td>\n",
       "    </tr>\n",
       "    <tr>\n",
       "      <td>mean</td>\n",
       "      <td>0.241573</td>\n",
       "      <td>0.057584</td>\n",
       "      <td>0.206461</td>\n",
       "      <td>0.017353</td>\n",
       "      <td>0.558989</td>\n",
       "      <td>0.137640</td>\n",
       "      <td>0.609551</td>\n",
       "    </tr>\n",
       "    <tr>\n",
       "      <td>std</td>\n",
       "      <td>0.428338</td>\n",
       "      <td>0.233119</td>\n",
       "      <td>0.405049</td>\n",
       "      <td>1.043392</td>\n",
       "      <td>0.496857</td>\n",
       "      <td>0.344764</td>\n",
       "      <td>0.488194</td>\n",
       "    </tr>\n",
       "    <tr>\n",
       "      <td>min</td>\n",
       "      <td>0.000000</td>\n",
       "      <td>0.000000</td>\n",
       "      <td>0.000000</td>\n",
       "      <td>-0.560975</td>\n",
       "      <td>0.000000</td>\n",
       "      <td>0.000000</td>\n",
       "      <td>0.000000</td>\n",
       "    </tr>\n",
       "    <tr>\n",
       "      <td>25%</td>\n",
       "      <td>0.000000</td>\n",
       "      <td>0.000000</td>\n",
       "      <td>0.000000</td>\n",
       "      <td>-0.560975</td>\n",
       "      <td>0.000000</td>\n",
       "      <td>0.000000</td>\n",
       "      <td>0.000000</td>\n",
       "    </tr>\n",
       "    <tr>\n",
       "      <td>50%</td>\n",
       "      <td>0.000000</td>\n",
       "      <td>0.000000</td>\n",
       "      <td>0.000000</td>\n",
       "      <td>-0.560975</td>\n",
       "      <td>1.000000</td>\n",
       "      <td>0.000000</td>\n",
       "      <td>1.000000</td>\n",
       "    </tr>\n",
       "    <tr>\n",
       "      <td>75%</td>\n",
       "      <td>0.000000</td>\n",
       "      <td>0.000000</td>\n",
       "      <td>0.000000</td>\n",
       "      <td>0.059160</td>\n",
       "      <td>1.000000</td>\n",
       "      <td>0.000000</td>\n",
       "      <td>1.000000</td>\n",
       "    </tr>\n",
       "    <tr>\n",
       "      <td>max</td>\n",
       "      <td>1.000000</td>\n",
       "      <td>1.000000</td>\n",
       "      <td>1.000000</td>\n",
       "      <td>5.640372</td>\n",
       "      <td>1.000000</td>\n",
       "      <td>1.000000</td>\n",
       "      <td>1.000000</td>\n",
       "    </tr>\n",
       "  </tbody>\n",
       "</table>\n",
       "</div>"
      ],
      "text/plain": [
       "       fare_bin_q4  age_bin_baby  title_Miss  family_size    pclass_3  \\\n",
       "count   712.000000    712.000000  712.000000   712.000000  712.000000   \n",
       "mean      0.241573      0.057584    0.206461     0.017353    0.558989   \n",
       "std       0.428338      0.233119    0.405049     1.043392    0.496857   \n",
       "min       0.000000      0.000000    0.000000    -0.560975    0.000000   \n",
       "25%       0.000000      0.000000    0.000000    -0.560975    0.000000   \n",
       "50%       0.000000      0.000000    0.000000    -0.560975    1.000000   \n",
       "75%       0.000000      0.000000    0.000000     0.059160    1.000000   \n",
       "max       1.000000      1.000000    1.000000     5.640372    1.000000   \n",
       "\n",
       "        title_Mrs    title_Mr  \n",
       "count  712.000000  712.000000  \n",
       "mean     0.137640    0.609551  \n",
       "std      0.344764    0.488194  \n",
       "min      0.000000    0.000000  \n",
       "25%      0.000000    0.000000  \n",
       "50%      0.000000    1.000000  \n",
       "75%      0.000000    1.000000  \n",
       "max      1.000000    1.000000  "
      ]
     },
     "execution_count": 11,
     "metadata": {},
     "output_type": "execute_result"
    },
    {
     "data": {
      "text/html": [
       "<div>\n",
       "<style scoped>\n",
       "    .dataframe tbody tr th:only-of-type {\n",
       "        vertical-align: middle;\n",
       "    }\n",
       "\n",
       "    .dataframe tbody tr th {\n",
       "        vertical-align: top;\n",
       "    }\n",
       "\n",
       "    .dataframe thead th {\n",
       "        text-align: right;\n",
       "    }\n",
       "</style>\n",
       "<table border=\"1\" class=\"dataframe\">\n",
       "  <thead>\n",
       "    <tr style=\"text-align: right;\">\n",
       "      <th></th>\n",
       "      <th>fare_bin_q4</th>\n",
       "      <th>age_bin_baby</th>\n",
       "      <th>title_Miss</th>\n",
       "      <th>family_size</th>\n",
       "      <th>pclass_3</th>\n",
       "      <th>title_Mrs</th>\n",
       "      <th>title_Mr</th>\n",
       "    </tr>\n",
       "  </thead>\n",
       "  <tbody>\n",
       "    <tr>\n",
       "      <td>count</td>\n",
       "      <td>179.000000</td>\n",
       "      <td>179.000000</td>\n",
       "      <td>179.000000</td>\n",
       "      <td>179.000000</td>\n",
       "      <td>179.000000</td>\n",
       "      <td>179.000000</td>\n",
       "      <td>179.000000</td>\n",
       "    </tr>\n",
       "    <tr>\n",
       "      <td>mean</td>\n",
       "      <td>0.268156</td>\n",
       "      <td>0.039106</td>\n",
       "      <td>0.217877</td>\n",
       "      <td>-0.069024</td>\n",
       "      <td>0.519553</td>\n",
       "      <td>0.167598</td>\n",
       "      <td>0.575419</td>\n",
       "    </tr>\n",
       "    <tr>\n",
       "      <td>std</td>\n",
       "      <td>0.444242</td>\n",
       "      <td>0.194391</td>\n",
       "      <td>0.413961</td>\n",
       "      <td>0.806888</td>\n",
       "      <td>0.501019</td>\n",
       "      <td>0.374556</td>\n",
       "      <td>0.495666</td>\n",
       "    </tr>\n",
       "    <tr>\n",
       "      <td>min</td>\n",
       "      <td>0.000000</td>\n",
       "      <td>0.000000</td>\n",
       "      <td>0.000000</td>\n",
       "      <td>-0.560975</td>\n",
       "      <td>0.000000</td>\n",
       "      <td>0.000000</td>\n",
       "      <td>0.000000</td>\n",
       "    </tr>\n",
       "    <tr>\n",
       "      <td>25%</td>\n",
       "      <td>0.000000</td>\n",
       "      <td>0.000000</td>\n",
       "      <td>0.000000</td>\n",
       "      <td>-0.560975</td>\n",
       "      <td>0.000000</td>\n",
       "      <td>0.000000</td>\n",
       "      <td>0.000000</td>\n",
       "    </tr>\n",
       "    <tr>\n",
       "      <td>50%</td>\n",
       "      <td>0.000000</td>\n",
       "      <td>0.000000</td>\n",
       "      <td>0.000000</td>\n",
       "      <td>-0.560975</td>\n",
       "      <td>1.000000</td>\n",
       "      <td>0.000000</td>\n",
       "      <td>1.000000</td>\n",
       "    </tr>\n",
       "    <tr>\n",
       "      <td>75%</td>\n",
       "      <td>1.000000</td>\n",
       "      <td>0.000000</td>\n",
       "      <td>0.000000</td>\n",
       "      <td>0.059160</td>\n",
       "      <td>1.000000</td>\n",
       "      <td>0.000000</td>\n",
       "      <td>1.000000</td>\n",
       "    </tr>\n",
       "    <tr>\n",
       "      <td>max</td>\n",
       "      <td>1.000000</td>\n",
       "      <td>1.000000</td>\n",
       "      <td>1.000000</td>\n",
       "      <td>3.159833</td>\n",
       "      <td>1.000000</td>\n",
       "      <td>1.000000</td>\n",
       "      <td>1.000000</td>\n",
       "    </tr>\n",
       "  </tbody>\n",
       "</table>\n",
       "</div>"
      ],
      "text/plain": [
       "       fare_bin_q4  age_bin_baby  title_Miss  family_size    pclass_3  \\\n",
       "count   179.000000    179.000000  179.000000   179.000000  179.000000   \n",
       "mean      0.268156      0.039106    0.217877    -0.069024    0.519553   \n",
       "std       0.444242      0.194391    0.413961     0.806888    0.501019   \n",
       "min       0.000000      0.000000    0.000000    -0.560975    0.000000   \n",
       "25%       0.000000      0.000000    0.000000    -0.560975    0.000000   \n",
       "50%       0.000000      0.000000    0.000000    -0.560975    1.000000   \n",
       "75%       1.000000      0.000000    0.000000     0.059160    1.000000   \n",
       "max       1.000000      1.000000    1.000000     3.159833    1.000000   \n",
       "\n",
       "        title_Mrs    title_Mr  \n",
       "count  179.000000  179.000000  \n",
       "mean     0.167598    0.575419  \n",
       "std      0.374556    0.495666  \n",
       "min      0.000000    0.000000  \n",
       "25%      0.000000    0.000000  \n",
       "50%      0.000000    1.000000  \n",
       "75%      0.000000    1.000000  \n",
       "max      1.000000    1.000000  "
      ]
     },
     "execution_count": 11,
     "metadata": {},
     "output_type": "execute_result"
    },
    {
     "data": {
      "text/plain": [
       "XGBClassifier(base_score=0.5, booster='gbtree', colsample_bylevel=1,\n",
       "              colsample_bynode=1, colsample_bytree=0.3, gamma=0,\n",
       "              learning_rate=0.01, max_delta_step=0, max_depth=3,\n",
       "              max_features='sqrt', min_child_weight=1, missing=None,\n",
       "              n_estimators=1000, n_jobs=1, nthread=None,\n",
       "              objective='binary:logistic', random_state=42, reg_alpha=0,\n",
       "              reg_lambda=1, scale_pos_weight=1, seed=123, silent=None,\n",
       "              subsample=0.2, verbosity=1)"
      ]
     },
     "execution_count": 11,
     "metadata": {},
     "output_type": "execute_result"
    }
   ],
   "source": [
    "X_train.describe()\n",
    "X_test.describe()\n",
    "\n",
    "xg_cl = xgb.XGBClassifier(objective='binary:logistic',\n",
    "                          n_estimators=1000, \n",
    "                          seed=123,\n",
    "                          colsample_bytree=0.3, \n",
    "                          learning_rate=0.01, \n",
    "                          max_depth=3, \n",
    "                          max_features='sqrt',\n",
    "                          random_state=RANDOM_STATE,\n",
    "                          subsample=0.2)\n",
    "\n",
    "xg_cl.fit(X_train, y_train)\n",
    "\n",
    "preds = xg_cl.predict(X_test)"
   ]
  },
  {
   "cell_type": "code",
   "execution_count": 15,
   "metadata": {},
   "outputs": [
    {
     "name": "stdout",
     "output_type": "stream",
     "text": [
      "\n",
      "Accuracy Score on X_test,y_test:  0.8268\n",
      "\n",
      "\n",
      "Cross Validation Scores:\n",
      "\tAccuracy \t: 0.8315 (+/- 0.0496)\n",
      "\tRecall\t\t: 0.7163 (+/- 0.1259)\n",
      "\tPrecision\t: 0.8128 (+/- 0.0522)\n",
      "\tF1\t\t: 0.7605 (+/- 0.0881)\n",
      "\n",
      "\n",
      "12/04/19, xgb,  <kaggle_accuracy>, 0.8315, 0.7163,0.8128,0.7605\n"
     ]
    }
   ],
   "source": [
    "ii_y_pred, ii_predicted_accuracy_score, ii_cv_scores = pm.calc_model_rst_table_metrics(xg_cl, X_train, y_train, X_test, y_test, \n",
    "                                                      model_name='xgb', cv=5, verbose=True)\n",
    "    "
   ]
  },
  {
   "cell_type": "markdown",
   "metadata": {},
   "source": [
    "# Tuning the Model (Best LogReg Model Accuracy = 0.8384)"
   ]
  },
  {
   "cell_type": "markdown",
   "metadata": {},
   "source": [
    "https://www.analyticsvidhya.com/blog/2016/02/complete-guide-parameter-tuning-gradient-boosting-gbm-python/"
   ]
  },
  {
   "cell_type": "markdown",
   "metadata": {},
   "source": [
    "https://www.analyticsvidhya.com/blog/2016/03/complete-guide-parameter-tuning-xgboost-with-codes-python/"
   ]
  },
  {
   "cell_type": "code",
   "execution_count": 16,
   "metadata": {},
   "outputs": [
    {
     "name": "stdout",
     "output_type": "stream",
     "text": [
      "Fitting 4 folds for each of 256 candidates, totalling 1024 fits\n"
     ]
    },
    {
     "name": "stderr",
     "output_type": "stream",
     "text": [
      "[Parallel(n_jobs=4)]: Using backend LokyBackend with 4 concurrent workers.\n",
      "[Parallel(n_jobs=4)]: Done  42 tasks      | elapsed:    3.0s\n",
      "[Parallel(n_jobs=4)]: Done 298 tasks      | elapsed:   15.9s\n",
      "[Parallel(n_jobs=4)]: Done 798 tasks      | elapsed:   47.5s\n",
      "[Parallel(n_jobs=4)]: Done 1024 out of 1024 | elapsed:  1.1min finished\n"
     ]
    },
    {
     "data": {
      "text/plain": [
       "GridSearchCV(cv=4, error_score='raise-deprecating',\n",
       "             estimator=XGBClassifier(base_score=0.5, booster='gbtree',\n",
       "                                     colsample_bylevel=1, colsample_bynode=1,\n",
       "                                     colsample_bytree=0.3, gamma=0,\n",
       "                                     learning_rate=0.01, max_delta_step=0,\n",
       "                                     max_depth=3, max_features='sqrt',\n",
       "                                     min_child_weight=1, missing=None,\n",
       "                                     n_estimators=1000, n_jobs=1, nthread=None,\n",
       "                                     objective='binary:logistic',\n",
       "                                     random_s...\n",
       "                                     scale_pos_weight=1, seed=123, silent=None,\n",
       "                                     subsample=0.2, verbosity=1),\n",
       "             iid='warn', n_jobs=4,\n",
       "             param_grid={'colsample_bytree': [0.2, 0.3, 0.4, 0.5],\n",
       "                         'learning_rate': [0.01], 'max_depth': [3, 4, 5, 6],\n",
       "                         'max_features': ['sqrt'],\n",
       "                         'n_estimators': [250, 500, 750, 1000],\n",
       "                         'random_state': [42],\n",
       "                         'subsample': [0.2, 0.3, 0.4, 0.5]},\n",
       "             pre_dispatch='2*n_jobs', refit=True, return_train_score=False,\n",
       "             scoring='accuracy', verbose=1)"
      ]
     },
     "execution_count": 16,
     "metadata": {},
     "output_type": "execute_result"
    },
    {
     "name": "stdout",
     "output_type": "stream",
     "text": [
      "\n",
      "\n",
      "Best parameters found:  {'colsample_bytree': 0.3, 'learning_rate': 0.01, 'max_depth': 4, 'max_features': 'sqrt', 'n_estimators': 1000, 'random_state': 42, 'subsample': 0.3}\n",
      "Highest Accuracy:  0.8338945005611672\n"
     ]
    }
   ],
   "source": [
    "gbm_param_grid = {'learning_rate': [0.01],\n",
    "                  'n_estimators': [250, 500, 750, 1000],\n",
    "                  'subsample': [0.2, 0.3, 0.4, 0.5], \n",
    "                  'max_depth': [3,4,5,6],\n",
    "                  'max_features': ['sqrt'],\n",
    "                  'random_state': [RANDOM_STATE], \n",
    "                  'colsample_bytree':[0.2, 0.3, 0.4, 0.5]}\n",
    "\n",
    "gsearch = GridSearchCV(estimator=xg_cl,\n",
    "                       param_grid=gbm_param_grid,\n",
    "                       scoring='accuracy', cv=4, verbose=1, n_jobs=4)\n",
    "\n",
    "\n",
    "gsearch.fit(X, y)\n",
    "\n",
    "print(\"\\n\\nBest parameters found: \",gsearch.best_params_)\n",
    "print(\"Highest Accuracy: \", gsearch.best_score_)"
   ]
  },
  {
   "cell_type": "code",
   "execution_count": 17,
   "metadata": {},
   "outputs": [
    {
     "data": {
      "text/plain": [
       "{'colsample_bytree': 0.3,\n",
       " 'learning_rate': 0.01,\n",
       " 'max_depth': 4,\n",
       " 'max_features': 'sqrt',\n",
       " 'n_estimators': 1000,\n",
       " 'random_state': 42,\n",
       " 'subsample': 0.3}"
      ]
     },
     "execution_count": 17,
     "metadata": {},
     "output_type": "execute_result"
    }
   ],
   "source": [
    "gsearch.best_params_"
   ]
  },
  {
   "cell_type": "markdown",
   "metadata": {},
   "source": [
    "**Save Model**"
   ]
  },
  {
   "cell_type": "code",
   "execution_count": 19,
   "metadata": {},
   "outputs": [
    {
     "data": {
      "text/plain": [
       "XGBClassifier(base_score=0.5, booster='gbtree', colsample_bylevel=1,\n",
       "              colsample_bynode=1, colsample_bytree=0.3, gamma=0,\n",
       "              learning_rate=0.01, max_delta_step=0, max_depth=4,\n",
       "              max_features='sqrt', min_child_weight=1, missing=None,\n",
       "              n_estimators=1000, n_jobs=1, nthread=None,\n",
       "              objective='binary:logistic', random_state=42, reg_alpha=0,\n",
       "              reg_lambda=1, scale_pos_weight=1, seed=123, silent=None,\n",
       "              subsample=0.3, verbosity=1)"
      ]
     },
     "execution_count": 19,
     "metadata": {},
     "output_type": "execute_result"
    }
   ],
   "source": [
    "best_model = gsearch.best_estimator_\n",
    "best_model"
   ]
  },
  {
   "cell_type": "code",
   "execution_count": 22,
   "metadata": {},
   "outputs": [
    {
     "data": {
      "text/plain": [
       "XGBClassifier(base_score=0.5, booster='gbtree', colsample_bylevel=1,\n",
       "              colsample_bynode=1, colsample_bytree=0.3, gamma=0,\n",
       "              learning_rate=0.01, max_delta_step=0, max_depth=4,\n",
       "              max_features='sqrt', min_child_weight=1, missing=None,\n",
       "              n_estimators=1000, n_jobs=1, nthread=None,\n",
       "              objective='binary:logistic', random_state=42, reg_alpha=0,\n",
       "              reg_lambda=1, scale_pos_weight=1, seed=123, silent=None,\n",
       "              subsample=0.3, verbosity=1)"
      ]
     },
     "execution_count": 22,
     "metadata": {},
     "output_type": "execute_result"
    },
    {
     "data": {
      "text/plain": [
       "['/Users/bkraft/projects/kaggle_titanic/models/xgb.joblib']"
      ]
     },
     "execution_count": 22,
     "metadata": {},
     "output_type": "execute_result"
    }
   ],
   "source": [
    "best_model.fit(X_train, y_train) \n",
    "\n",
    "dump(best_model, model_filename)"
   ]
  },
  {
   "cell_type": "markdown",
   "metadata": {},
   "source": [
    "# Selecting Important Features"
   ]
  },
  {
   "cell_type": "code",
   "execution_count": 37,
   "metadata": {},
   "outputs": [
    {
     "name": "stdout",
     "output_type": "stream",
     "text": [
      "['is_child', 'fare_bin_q4', 'age_bin_baby', 'title_Miss', 'family_size', 'pclass_3', 'title_Mrs', 'title_Mr', 'sex_male']\n",
      "\n",
      "Model Report\n",
      "Accuracy : 0.8305\n",
      "AUC Score (Train): 0.866589\n",
      "CV Score : Mean - 0.8615983893557422 | Std - 0.04826591636927642 | Min - 0.7563025210084033 | Max - 0.9348739495798319\n"
     ]
    },
    {
     "data": {
      "image/png": "[encoded data removed]",
      "text/plain": [
       "<Figure size 432x288 with 1 Axes>"
      ]
     },
     "metadata": {
      "needs_background": "light"
     },
     "output_type": "display_data"
    }
   ],
   "source": [
    "def modelfit(alg, X, y, performCV=True, printFeatureImportance=True, cv_folds=20):\n",
    "    \n",
    "    predictors = X.columns.tolist()\n",
    "    print(predictors)\n",
    "    \n",
    "    #Fit the algorithm on the data\n",
    "    alg.fit(X, y)\n",
    "        \n",
    "    #Predict training set:\n",
    "    dtrain_predictions = alg.predict(X)\n",
    "    dtrain_predprob = alg.predict_proba(X)[:,1]\n",
    "    \n",
    "    #Perform cross-validation:\n",
    "    if performCV:\n",
    "        cv_score = cross_val_score(alg, X, y, cv=cv_folds, scoring='roc_auc')\n",
    "    \n",
    "    #Print model report:\n",
    "    print(\"\\nModel Report\")\n",
    "    print(\"Accuracy : %.4g\" % metrics.accuracy_score(y.values, dtrain_predictions))\n",
    "    print(\"AUC Score (Train): %f\" % metrics.roc_auc_score(y, dtrain_predprob))\n",
    "    \n",
    "    if performCV:\n",
    "        print(f\"CV Score : Mean - {np.mean(cv_score)} | Std - {np.std(cv_score)} | Min - {np.min(cv_score)} | Max - {np.max(cv_score)}\")\n",
    "        \n",
    "    #Print Feature Importance:\n",
    "    if printFeatureImportance:\n",
    "        feat_imp = pd.Series(alg.feature_importances_, predictors).sort_values(ascending=False)\n",
    "        feat_imp.plot(kind='bar', title='Feature Importances')\n",
    "        plt.ylabel('Feature Importance Score')\n",
    "\n",
    "modelfit(xg_cl, X, y)"
   ]
  },
  {
   "cell_type": "markdown",
   "metadata": {},
   "source": [
    "# Simplify Model"
   ]
  },
  {
   "cell_type": "code",
   "execution_count": 38,
   "metadata": {},
   "outputs": [
    {
     "data": {
      "image/png": "[encoded data removed]",
      "text/plain": [
       "<Figure size 1000x1000 with 1 Axes>"
      ]
     },
     "metadata": {
      "needs_background": "light"
     },
     "output_type": "display_data"
    }
   ],
   "source": [
    "from yellowbrick.features import Rank1D\n",
    "\n",
    "# Instantiate the 1D visualizer with the Sharpiro ranking algorithm\n",
    "visualizer = Rank1D(algorithm='shapiro', size=(1000,1000))\n",
    "\n",
    "visualizer.fit(X, y, )           # Fit the data to the visualizer\n",
    "visualizer.transform(X)        # Transform the data\n",
    "visualizer.show();          # Finalize and render the figure"
   ]
  },
  {
   "cell_type": "markdown",
   "metadata": {},
   "source": [
    "https://www.districtdatalabs.com/visualize-data-science-pipeline-with-yellowbrick"
   ]
  },
  {
   "cell_type": "code",
   "execution_count": 39,
   "metadata": {},
   "outputs": [
    {
     "data": {
      "image/png": "[encoded data removed]",
      "text/plain": [
       "<Figure size 1440x1440 with 1 Axes>"
      ]
     },
     "metadata": {
      "needs_background": "light"
     },
     "output_type": "display_data"
    }
   ],
   "source": [
    "from cycler import cycler\n",
    "import matplotlib as mpl\n",
    "from yellowbrick.model_selection import FeatureImportances\n",
    "\n",
    "model = xg_cl\n",
    "\n",
    "# Create a new figure\n",
    "mpl.rcParams['axes.prop_cycle'] = cycler('color', ['red'])\n",
    "fig = plt.gcf()\n",
    "fig.set_size_inches(20,20)\n",
    "ax = plt.subplot(311)\n",
    "labels = X.columns\n",
    "\n",
    "viz = FeatureImportances(model, ax=ax, labels=labels, relative=False, absolute=True)\n",
    "ax.spines['right'].set_visible(False)\n",
    "ax.spines['top'].set_visible(False)\n",
    "ax.grid(False)\n",
    "\n",
    "# Fit and display\n",
    "viz.fit(X, y);\n",
    "viz.poof();"
   ]
  },
  {
   "cell_type": "code",
   "execution_count": 40,
   "metadata": {},
   "outputs": [
    {
     "data": {
      "text/plain": [
       "array([0.04325945, 0.04737856, 0.0578504 , 0.06204736, 0.08044703,\n",
       "       0.08411098, 0.14244196, 0.2349    , 0.24756424], dtype=float32)"
      ]
     },
     "execution_count": 40,
     "metadata": {},
     "output_type": "execute_result"
    },
    {
     "data": {
      "text/plain": [
       "array(['age_bin_baby', 'is_child', 'fare_bin_q4', 'family_size',\n",
       "       'title_Mrs', 'title_Miss', 'pclass_3', 'sex_male', 'title_Mr'],\n",
       "      dtype=object)"
      ]
     },
     "execution_count": 40,
     "metadata": {},
     "output_type": "execute_result"
    }
   ],
   "source": [
    "viz.feature_importances_\n",
    "viz.features_"
   ]
  },
  {
   "cell_type": "markdown",
   "metadata": {},
   "source": [
    "# Prepare Submission"
   ]
  },
  {
   "cell_type": "code",
   "execution_count": 62,
   "metadata": {},
   "outputs": [
    {
     "data": {
      "text/plain": [
       "XGBClassifier(base_score=0.5, booster='gbtree', colsample_bylevel=1,\n",
       "              colsample_bynode=1, colsample_bytree=0.3, gamma=0,\n",
       "              learning_rate=0.01, max_delta_step=0, max_depth=4,\n",
       "              max_features='sqrt', min_child_weight=1, missing=None,\n",
       "              n_estimators=1000, n_jobs=1, nthread=None,\n",
       "              objective='binary:logistic', random_state=42, reg_alpha=0,\n",
       "              reg_lambda=1, scale_pos_weight=1, seed=123, silent=None,\n",
       "              subsample=0.3, verbosity=1)"
      ]
     },
     "execution_count": 62,
     "metadata": {},
     "output_type": "execute_result"
    }
   ],
   "source": [
    "model = gsearch.best_estimator_\n",
    "model"
   ]
  },
  {
   "cell_type": "code",
   "execution_count": 63,
   "metadata": {},
   "outputs": [
    {
     "data": {
      "text/html": [
       "<div>\n",
       "<style scoped>\n",
       "    .dataframe tbody tr th:only-of-type {\n",
       "        vertical-align: middle;\n",
       "    }\n",
       "\n",
       "    .dataframe tbody tr th {\n",
       "        vertical-align: top;\n",
       "    }\n",
       "\n",
       "    .dataframe thead th {\n",
       "        text-align: right;\n",
       "    }\n",
       "</style>\n",
       "<table border=\"1\" class=\"dataframe\">\n",
       "  <thead>\n",
       "    <tr style=\"text-align: right;\">\n",
       "      <th></th>\n",
       "      <th>is_child</th>\n",
       "      <th>fare_bin_q4</th>\n",
       "      <th>age_bin_baby</th>\n",
       "      <th>title_Miss</th>\n",
       "      <th>family_size</th>\n",
       "      <th>pclass_3</th>\n",
       "      <th>title_Mrs</th>\n",
       "      <th>title_Mr</th>\n",
       "    </tr>\n",
       "  </thead>\n",
       "  <tbody>\n",
       "    <tr>\n",
       "      <td>count</td>\n",
       "      <td>418.000000</td>\n",
       "      <td>418.000000</td>\n",
       "      <td>418.000000</td>\n",
       "      <td>418.000000</td>\n",
       "      <td>4.180000e+02</td>\n",
       "      <td>418.000000</td>\n",
       "      <td>418.000000</td>\n",
       "      <td>418.000000</td>\n",
       "    </tr>\n",
       "    <tr>\n",
       "      <td>mean</td>\n",
       "      <td>0.069378</td>\n",
       "      <td>0.263158</td>\n",
       "      <td>0.038278</td>\n",
       "      <td>0.186603</td>\n",
       "      <td>-2.974760e-17</td>\n",
       "      <td>0.521531</td>\n",
       "      <td>0.177033</td>\n",
       "      <td>0.586124</td>\n",
       "    </tr>\n",
       "    <tr>\n",
       "      <td>std</td>\n",
       "      <td>0.254400</td>\n",
       "      <td>0.440875</td>\n",
       "      <td>0.192095</td>\n",
       "      <td>0.390059</td>\n",
       "      <td>1.001198e+00</td>\n",
       "      <td>0.500135</td>\n",
       "      <td>0.382154</td>\n",
       "      <td>0.493117</td>\n",
       "    </tr>\n",
       "    <tr>\n",
       "      <td>min</td>\n",
       "      <td>0.000000</td>\n",
       "      <td>0.000000</td>\n",
       "      <td>0.000000</td>\n",
       "      <td>0.000000</td>\n",
       "      <td>-5.534426e-01</td>\n",
       "      <td>0.000000</td>\n",
       "      <td>0.000000</td>\n",
       "      <td>0.000000</td>\n",
       "    </tr>\n",
       "    <tr>\n",
       "      <td>25%</td>\n",
       "      <td>0.000000</td>\n",
       "      <td>0.000000</td>\n",
       "      <td>0.000000</td>\n",
       "      <td>0.000000</td>\n",
       "      <td>-5.534426e-01</td>\n",
       "      <td>0.000000</td>\n",
       "      <td>0.000000</td>\n",
       "      <td>0.000000</td>\n",
       "    </tr>\n",
       "    <tr>\n",
       "      <td>50%</td>\n",
       "      <td>0.000000</td>\n",
       "      <td>0.000000</td>\n",
       "      <td>0.000000</td>\n",
       "      <td>0.000000</td>\n",
       "      <td>-5.534426e-01</td>\n",
       "      <td>1.000000</td>\n",
       "      <td>0.000000</td>\n",
       "      <td>1.000000</td>\n",
       "    </tr>\n",
       "    <tr>\n",
       "      <td>75%</td>\n",
       "      <td>0.000000</td>\n",
       "      <td>1.000000</td>\n",
       "      <td>0.000000</td>\n",
       "      <td>0.000000</td>\n",
       "      <td>1.056429e-01</td>\n",
       "      <td>1.000000</td>\n",
       "      <td>0.000000</td>\n",
       "      <td>1.000000</td>\n",
       "    </tr>\n",
       "    <tr>\n",
       "      <td>max</td>\n",
       "      <td>1.000000</td>\n",
       "      <td>1.000000</td>\n",
       "      <td>1.000000</td>\n",
       "      <td>1.000000</td>\n",
       "      <td>6.037412e+00</td>\n",
       "      <td>1.000000</td>\n",
       "      <td>1.000000</td>\n",
       "      <td>1.000000</td>\n",
       "    </tr>\n",
       "  </tbody>\n",
       "</table>\n",
       "</div>"
      ],
      "text/plain": [
       "         is_child  fare_bin_q4  age_bin_baby  title_Miss   family_size  \\\n",
       "count  418.000000   418.000000    418.000000  418.000000  4.180000e+02   \n",
       "mean     0.069378     0.263158      0.038278    0.186603 -2.974760e-17   \n",
       "std      0.254400     0.440875      0.192095    0.390059  1.001198e+00   \n",
       "min      0.000000     0.000000      0.000000    0.000000 -5.534426e-01   \n",
       "25%      0.000000     0.000000      0.000000    0.000000 -5.534426e-01   \n",
       "50%      0.000000     0.000000      0.000000    0.000000 -5.534426e-01   \n",
       "75%      0.000000     1.000000      0.000000    0.000000  1.056429e-01   \n",
       "max      1.000000     1.000000      1.000000    1.000000  6.037412e+00   \n",
       "\n",
       "         pclass_3   title_Mrs    title_Mr  \n",
       "count  418.000000  418.000000  418.000000  \n",
       "mean     0.521531    0.177033    0.586124  \n",
       "std      0.500135    0.382154    0.493117  \n",
       "min      0.000000    0.000000    0.000000  \n",
       "25%      0.000000    0.000000    0.000000  \n",
       "50%      1.000000    0.000000    1.000000  \n",
       "75%      1.000000    0.000000    1.000000  \n",
       "max      1.000000    1.000000    1.000000  "
      ]
     },
     "execution_count": 63,
     "metadata": {},
     "output_type": "execute_result"
    },
    {
     "name": "stdout",
     "output_type": "stream",
     "text": [
      "xgb.csv \n",
      "\n",
      "This is a submission test via the Kaggle API. \n",
      "\n",
      "XGBClassifier(base_score=0.5, booster='gbtree', colsample_bylevel=1,\n",
      "              colsample_bynode=1, colsample_bytree=0.3, gamma=0,\n",
      "              learning_rate=0.01, max_delta_step=0, max_depth=4,\n",
      "              max_features='sqrt', min_child_weight=1, missing=None,\n",
      "              n_estimators=1000, n_jobs=1, nthread=None,\n",
      "              objective='binary:logistic', random_state=42, reg_alpha=0,\n",
      "              reg_lambda=1, scale_pos_weight=1, seed=123, silent=None,\n",
      "              subsample=0.3, verbosity=1) \n",
      "\n",
      "Index(['is_child', 'fare_bin_q4', 'age_bin_baby', 'title_Miss', 'family_size',\n",
      "       'pclass_3', 'title_Mrs', 'title_Mr'],\n",
      "      dtype='object') \n",
      "\n",
      "\n"
     ]
    }
   ],
   "source": [
    "from models import kaggle\n",
    "\n",
    "filename = 'xgb.csv'\n",
    "\n",
    "X_holdout = pd.read_csv('../data/processed/holdout__2019-11-21.csv', \n",
    "                        index_col='passengerid', \n",
    "                        dtype={'pclass':str, 'is_child':int, 'is_traveling_alone':int})\n",
    "\n",
    "X_test_kaggle_public = transform_X(X_holdout).reindex(X_test.columns, axis=1)\n",
    "\n",
    "X_test_kaggle_public.describe()\n",
    "\n",
    "y_pred = (pd.Series(model.predict(X_test_kaggle_public), \n",
    "                   index=X_test_kaggle_public.index, name='Survived').to_frame().sort_index()\n",
    "         )\n",
    "\n",
    "y_pred.index.names = ['PassengerId']\n",
    "\n",
    "y_pred.to_csv(filename)\n",
    "\n",
    "message = (f'{filename} \\n\\n'\n",
    "           f'This is a submission test via the Kaggle API. \\n\\n'\n",
    "           f'{model} \\n\\n'\n",
    "           f'{X_test_kaggle_public.columns} \\n\\n'\n",
    "          )\n",
    "\n",
    "print(message)"
   ]
  },
  {
   "cell_type": "code",
   "execution_count": 64,
   "metadata": {},
   "outputs": [
    {
     "name": "stdout",
     "output_type": "stream",
     "text": [
      "xgb.csv\n",
      "xgb.csv \n",
      "\n",
      "This is a submission test via the Kaggle API. \n",
      "\n",
      "XGBClassifier(base_score=0.5, booster='gbtree', colsample_bylevel=1,\n",
      "              colsample_bynode=1, colsample_bytree=0.3, gamma=0,\n",
      "              learning_rate=0.01, max_delta_step=0, max_depth=4,\n",
      "              max_features='sqrt', min_child_weight=1, missing=None,\n",
      "              n_estimators=1000, n_jobs=1, nthread=None,\n",
      "              objective='binary:logistic', random_state=42, reg_alpha=0,\n",
      "              reg_lambda=1, scale_pos_weight=1, seed=123, silent=None,\n",
      "              subsample=0.3, verbosity=1) \n",
      "\n",
      "Index(['is_child', 'fare_bin_q4', 'age_bin_baby', 'title_Miss', 'family_size',\n",
      "       'pclass_3', 'title_Mrs', 'title_Mr'],\n",
      "      dtype='object') \n",
      "\n",
      "\n",
      "b'Successfully submitted to Titanic: Machine Learning from Disaster'\n",
      "b'\\r  0%|          | 0.00/2.77k [00:00<?, ?B/s]\\r100%|\\xe2\\x96\\x88\\xe2\\x96\\x88\\xe2\\x96\\x88\\xe2\\x96\\x88\\xe2\\x96\\x88\\xe2\\x96\\x88\\xe2\\x96\\x88\\xe2\\x96\\x88\\xe2\\x96\\x88\\xe2\\x96\\x88| 2.77k/2.77k [00:00<00:00, 12.6kB/s]\\r100%|\\xe2\\x96\\x88\\xe2\\x96\\x88\\xe2\\x96\\x88\\xe2\\x96\\x88\\xe2\\x96\\x88\\xe2\\x96\\x88\\xe2\\x96\\x88\\xe2\\x96\\x88\\xe2\\x96\\x88\\xe2\\x96\\x88| 2.77k/2.77k [00:01<00:00, 1.42kB/s]\\n'\n"
     ]
    }
   ],
   "source": [
    "kaggle.submit_to_kaggle_titanic_competition(filename, message, upload=True);"
   ]
  },
  {
   "cell_type": "code",
   "execution_count": null,
   "metadata": {},
   "outputs": [],
   "source": []
  }
 ],
 "metadata": {
  "hide_input": false,
  "kernelspec": {
   "display_name": "Python 3",
   "language": "python",
   "name": "python3"
  },
  "language_info": {
   "codemirror_mode": {
    "name": "ipython",
    "version": 3
   },
   "file_extension": ".py",
   "mimetype": "text/x-python",
   "name": "python",
   "nbconvert_exporter": "python",
   "pygments_lexer": "ipython3",
   "version": "3.7.3"
  },
  "toc": {
   "base_numbering": 1,
   "nav_menu": {},
   "number_sections": true,
   "sideBar": true,
   "skip_h1_title": false,
   "title_cell": "Table of Contents",
   "title_sidebar": "Contents",
   "toc_cell": false,
   "toc_position": {},
   "toc_section_display": true,
   "toc_window_display": false
  }
 },
 "nbformat": 4,
 "nbformat_minor": 4
}
