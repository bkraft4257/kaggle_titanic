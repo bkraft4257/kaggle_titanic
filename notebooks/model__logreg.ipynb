{
 "cells": [
  {
   "cell_type": "markdown",
   "metadata": {},
   "source": [
    "# Model: Logistic Regression Model"
   ]
  },
  {
   "cell_type": "markdown",
   "metadata": {},
   "source": [
    "I have tried many different models with a selection of features using Logistic Regression.  The best model (simplest model with highest accuracy) includes these features\n",
    "\n",
    "important_features = ['title_Mr', 'title_Mrs', 'family_size', 'is_child', 'pclass_2', 'pclass_3'] # This is the best score\n",
    "\n",
    "\n"
   ]
  },
  {
   "cell_type": "markdown",
   "metadata": {},
   "source": [
    "* title_Mr \n",
    "* title_Mrs \n",
    "* family_size \n",
    "* is_child\n",
    "* pclass_2\n",
    "* pclass_3"
   ]
  },
  {
   "cell_type": "markdown",
   "metadata": {},
   "source": [
    "The family_size has been scaled with the transform_X function."
   ]
  },
  {
   "cell_type": "markdown",
   "metadata": {},
   "source": [
    "The highest accuracy and simplest model is shown below."
   ]
  },
  {
   "cell_type": "raw",
   "metadata": {},
   "source": [
    "LogisticRegression(C=0.8326320323149597, class_weight=None, dual=False,  \n",
    "                   fit_intercept=True, intercept_scaling=1,  \n",
    "                   l1_ratio=0.45470105222137214, max_iter=500,  \n",
    "                   multi_class='warn', n_jobs=2, penalty='l2', random_state=42,  \n",
    "                   solver='saga', tol=0.0001, verbose=1, warm_start=False)  \n",
    "\n",
    "Index(['title_Mr', 'title_Mrs', 'family_size', 'is_child', 'pclass_2',  \n",
    "       'pclass_3'],  \n",
    "      dtype='object')   \n"
   ]
  },
  {
   "cell_type": "markdown",
   "metadata": {},
   "source": [
    "# Initialization"
   ]
  },
  {
   "cell_type": "code",
   "execution_count": 1,
   "metadata": {},
   "outputs": [
    {
     "data": {
      "text/html": [
       "<style>.container { width:80% !important; }</style>"
      ],
      "text/plain": [
       "<IPython.core.display.HTML object>"
      ]
     },
     "metadata": {},
     "output_type": "display_data"
    }
   ],
   "source": [
    "%run init.ipynb"
   ]
  },
  {
   "cell_type": "code",
   "execution_count": 2,
   "metadata": {},
   "outputs": [],
   "source": [
    "from sklearn.impute import SimpleImputer\n",
    "from sklearn.linear_model import LogisticRegression \n",
    "from sklearn.preprocessing import scale\n",
    "\n",
    "import great_expectations as ge\n",
    "from progressbar import ProgressBar\n",
    "\n",
    "RANDOM_STATE = 42"
   ]
  },
  {
   "cell_type": "markdown",
   "metadata": {},
   "source": [
    "## Extract Clean Data"
   ]
  },
  {
   "cell_type": "markdown",
   "metadata": {},
   "source": [
    "**Separate data into X (features) and y (label)**"
   ]
  },
  {
   "cell_type": "code",
   "execution_count": 3,
   "metadata": {},
   "outputs": [],
   "source": [
    "from data.data import (transform_X_numerical, \n",
    "                       transform_X_categorical, \n",
    "                       transform_X)"
   ]
  },
  {
   "cell_type": "code",
   "execution_count": 4,
   "metadata": {},
   "outputs": [
    {
     "data": {
      "text/html": [
       "<div>\n",
       "<style scoped>\n",
       "    .dataframe tbody tr th:only-of-type {\n",
       "        vertical-align: middle;\n",
       "    }\n",
       "\n",
       "    .dataframe tbody tr th {\n",
       "        vertical-align: top;\n",
       "    }\n",
       "\n",
       "    .dataframe thead th {\n",
       "        text-align: right;\n",
       "    }\n",
       "</style>\n",
       "<table border=\"1\" class=\"dataframe\">\n",
       "  <thead>\n",
       "    <tr style=\"text-align: right;\">\n",
       "      <th></th>\n",
       "      <th>survived</th>\n",
       "      <th>pclass</th>\n",
       "      <th>name</th>\n",
       "      <th>sex</th>\n",
       "      <th>sibsp</th>\n",
       "      <th>parch</th>\n",
       "      <th>ticket</th>\n",
       "      <th>embarked</th>\n",
       "      <th>title</th>\n",
       "      <th>last_name</th>\n",
       "      <th>cabin_number</th>\n",
       "      <th>family_size</th>\n",
       "      <th>fare</th>\n",
       "      <th>fare_bin</th>\n",
       "      <th>age</th>\n",
       "      <th>age_bin</th>\n",
       "      <th>is_child</th>\n",
       "      <th>is_traveling_alone</th>\n",
       "    </tr>\n",
       "    <tr>\n",
       "      <th>passengerid</th>\n",
       "      <th></th>\n",
       "      <th></th>\n",
       "      <th></th>\n",
       "      <th></th>\n",
       "      <th></th>\n",
       "      <th></th>\n",
       "      <th></th>\n",
       "      <th></th>\n",
       "      <th></th>\n",
       "      <th></th>\n",
       "      <th></th>\n",
       "      <th></th>\n",
       "      <th></th>\n",
       "      <th></th>\n",
       "      <th></th>\n",
       "      <th></th>\n",
       "      <th></th>\n",
       "      <th></th>\n",
       "    </tr>\n",
       "  </thead>\n",
       "  <tbody>\n",
       "    <tr>\n",
       "      <td>1</td>\n",
       "      <td>0</td>\n",
       "      <td>3</td>\n",
       "      <td>Braund, Mr. Owen Harris</td>\n",
       "      <td>male</td>\n",
       "      <td>1</td>\n",
       "      <td>0</td>\n",
       "      <td>A/5 21171</td>\n",
       "      <td>S</td>\n",
       "      <td>Mr</td>\n",
       "      <td>Braund</td>\n",
       "      <td>21171.0</td>\n",
       "      <td>2</td>\n",
       "      <td>7.2500</td>\n",
       "      <td>q1</td>\n",
       "      <td>22.0</td>\n",
       "      <td>student</td>\n",
       "      <td>0</td>\n",
       "      <td>0</td>\n",
       "    </tr>\n",
       "    <tr>\n",
       "      <td>2</td>\n",
       "      <td>1</td>\n",
       "      <td>1</td>\n",
       "      <td>Cumings, Mrs. John Bradley (Florence Briggs Th...</td>\n",
       "      <td>female</td>\n",
       "      <td>1</td>\n",
       "      <td>0</td>\n",
       "      <td>PC 17599</td>\n",
       "      <td>C</td>\n",
       "      <td>Mrs</td>\n",
       "      <td>Cumings</td>\n",
       "      <td>17599.0</td>\n",
       "      <td>2</td>\n",
       "      <td>71.2833</td>\n",
       "      <td>q4</td>\n",
       "      <td>38.0</td>\n",
       "      <td>adult</td>\n",
       "      <td>0</td>\n",
       "      <td>0</td>\n",
       "    </tr>\n",
       "    <tr>\n",
       "      <td>3</td>\n",
       "      <td>1</td>\n",
       "      <td>3</td>\n",
       "      <td>Heikkinen, Miss. Laina</td>\n",
       "      <td>female</td>\n",
       "      <td>0</td>\n",
       "      <td>0</td>\n",
       "      <td>STON/O2. 3101282</td>\n",
       "      <td>S</td>\n",
       "      <td>Miss</td>\n",
       "      <td>Heikkinen</td>\n",
       "      <td>3101282.0</td>\n",
       "      <td>1</td>\n",
       "      <td>7.9250</td>\n",
       "      <td>q1</td>\n",
       "      <td>26.0</td>\n",
       "      <td>young_adult</td>\n",
       "      <td>0</td>\n",
       "      <td>1</td>\n",
       "    </tr>\n",
       "    <tr>\n",
       "      <td>4</td>\n",
       "      <td>1</td>\n",
       "      <td>1</td>\n",
       "      <td>Futrelle, Mrs. Jacques Heath (Lily May Peel)</td>\n",
       "      <td>female</td>\n",
       "      <td>1</td>\n",
       "      <td>0</td>\n",
       "      <td>113803</td>\n",
       "      <td>S</td>\n",
       "      <td>Mrs</td>\n",
       "      <td>Futrelle</td>\n",
       "      <td>113803.0</td>\n",
       "      <td>2</td>\n",
       "      <td>53.1000</td>\n",
       "      <td>q4</td>\n",
       "      <td>35.0</td>\n",
       "      <td>young_adult</td>\n",
       "      <td>0</td>\n",
       "      <td>0</td>\n",
       "    </tr>\n",
       "    <tr>\n",
       "      <td>5</td>\n",
       "      <td>0</td>\n",
       "      <td>3</td>\n",
       "      <td>Allen, Mr. William Henry</td>\n",
       "      <td>male</td>\n",
       "      <td>0</td>\n",
       "      <td>0</td>\n",
       "      <td>373450</td>\n",
       "      <td>S</td>\n",
       "      <td>Mr</td>\n",
       "      <td>Allen</td>\n",
       "      <td>373450.0</td>\n",
       "      <td>1</td>\n",
       "      <td>8.0500</td>\n",
       "      <td>q2</td>\n",
       "      <td>35.0</td>\n",
       "      <td>young_adult</td>\n",
       "      <td>0</td>\n",
       "      <td>1</td>\n",
       "    </tr>\n",
       "    <tr>\n",
       "      <td>...</td>\n",
       "      <td>...</td>\n",
       "      <td>...</td>\n",
       "      <td>...</td>\n",
       "      <td>...</td>\n",
       "      <td>...</td>\n",
       "      <td>...</td>\n",
       "      <td>...</td>\n",
       "      <td>...</td>\n",
       "      <td>...</td>\n",
       "      <td>...</td>\n",
       "      <td>...</td>\n",
       "      <td>...</td>\n",
       "      <td>...</td>\n",
       "      <td>...</td>\n",
       "      <td>...</td>\n",
       "      <td>...</td>\n",
       "      <td>...</td>\n",
       "      <td>...</td>\n",
       "    </tr>\n",
       "    <tr>\n",
       "      <td>887</td>\n",
       "      <td>0</td>\n",
       "      <td>2</td>\n",
       "      <td>Montvila, Rev. Juozas</td>\n",
       "      <td>male</td>\n",
       "      <td>0</td>\n",
       "      <td>0</td>\n",
       "      <td>211536</td>\n",
       "      <td>S</td>\n",
       "      <td>Mr</td>\n",
       "      <td>Montvila</td>\n",
       "      <td>211536.0</td>\n",
       "      <td>1</td>\n",
       "      <td>13.0000</td>\n",
       "      <td>q2</td>\n",
       "      <td>27.0</td>\n",
       "      <td>young_adult</td>\n",
       "      <td>0</td>\n",
       "      <td>1</td>\n",
       "    </tr>\n",
       "    <tr>\n",
       "      <td>888</td>\n",
       "      <td>1</td>\n",
       "      <td>1</td>\n",
       "      <td>Graham, Miss. Margaret Edith</td>\n",
       "      <td>female</td>\n",
       "      <td>0</td>\n",
       "      <td>0</td>\n",
       "      <td>112053</td>\n",
       "      <td>S</td>\n",
       "      <td>Miss</td>\n",
       "      <td>Graham</td>\n",
       "      <td>112053.0</td>\n",
       "      <td>1</td>\n",
       "      <td>30.0000</td>\n",
       "      <td>q3</td>\n",
       "      <td>19.0</td>\n",
       "      <td>student</td>\n",
       "      <td>0</td>\n",
       "      <td>1</td>\n",
       "    </tr>\n",
       "    <tr>\n",
       "      <td>889</td>\n",
       "      <td>0</td>\n",
       "      <td>3</td>\n",
       "      <td>Johnston, Miss. Catherine Helen \"Carrie\"</td>\n",
       "      <td>female</td>\n",
       "      <td>1</td>\n",
       "      <td>2</td>\n",
       "      <td>W./C. 6607</td>\n",
       "      <td>S</td>\n",
       "      <td>Miss</td>\n",
       "      <td>Johnston</td>\n",
       "      <td>6607.0</td>\n",
       "      <td>4</td>\n",
       "      <td>23.4500</td>\n",
       "      <td>q3</td>\n",
       "      <td>22.0</td>\n",
       "      <td>student</td>\n",
       "      <td>0</td>\n",
       "      <td>0</td>\n",
       "    </tr>\n",
       "    <tr>\n",
       "      <td>890</td>\n",
       "      <td>1</td>\n",
       "      <td>1</td>\n",
       "      <td>Behr, Mr. Karl Howell</td>\n",
       "      <td>male</td>\n",
       "      <td>0</td>\n",
       "      <td>0</td>\n",
       "      <td>111369</td>\n",
       "      <td>C</td>\n",
       "      <td>Mr</td>\n",
       "      <td>Behr</td>\n",
       "      <td>111369.0</td>\n",
       "      <td>1</td>\n",
       "      <td>30.0000</td>\n",
       "      <td>q3</td>\n",
       "      <td>26.0</td>\n",
       "      <td>young_adult</td>\n",
       "      <td>0</td>\n",
       "      <td>1</td>\n",
       "    </tr>\n",
       "    <tr>\n",
       "      <td>891</td>\n",
       "      <td>0</td>\n",
       "      <td>3</td>\n",
       "      <td>Dooley, Mr. Patrick</td>\n",
       "      <td>male</td>\n",
       "      <td>0</td>\n",
       "      <td>0</td>\n",
       "      <td>370376</td>\n",
       "      <td>Q</td>\n",
       "      <td>Mr</td>\n",
       "      <td>Dooley</td>\n",
       "      <td>370376.0</td>\n",
       "      <td>1</td>\n",
       "      <td>7.7500</td>\n",
       "      <td>q1</td>\n",
       "      <td>32.0</td>\n",
       "      <td>young_adult</td>\n",
       "      <td>0</td>\n",
       "      <td>1</td>\n",
       "    </tr>\n",
       "  </tbody>\n",
       "</table>\n",
       "<p>891 rows × 18 columns</p>\n",
       "</div>"
      ],
      "text/plain": [
       "             survived pclass  \\\n",
       "passengerid                    \n",
       "1                   0      3   \n",
       "2                   1      1   \n",
       "3                   1      3   \n",
       "4                   1      1   \n",
       "5                   0      3   \n",
       "...               ...    ...   \n",
       "887                 0      2   \n",
       "888                 1      1   \n",
       "889                 0      3   \n",
       "890                 1      1   \n",
       "891                 0      3   \n",
       "\n",
       "                                                          name     sex  sibsp  \\\n",
       "passengerid                                                                     \n",
       "1                                      Braund, Mr. Owen Harris    male      1   \n",
       "2            Cumings, Mrs. John Bradley (Florence Briggs Th...  female      1   \n",
       "3                                       Heikkinen, Miss. Laina  female      0   \n",
       "4                 Futrelle, Mrs. Jacques Heath (Lily May Peel)  female      1   \n",
       "5                                     Allen, Mr. William Henry    male      0   \n",
       "...                                                        ...     ...    ...   \n",
       "887                                      Montvila, Rev. Juozas    male      0   \n",
       "888                               Graham, Miss. Margaret Edith  female      0   \n",
       "889                   Johnston, Miss. Catherine Helen \"Carrie\"  female      1   \n",
       "890                                      Behr, Mr. Karl Howell    male      0   \n",
       "891                                        Dooley, Mr. Patrick    male      0   \n",
       "\n",
       "             parch            ticket embarked title  last_name  cabin_number  \\\n",
       "passengerid                                                                    \n",
       "1                0         A/5 21171        S    Mr     Braund       21171.0   \n",
       "2                0          PC 17599        C   Mrs    Cumings       17599.0   \n",
       "3                0  STON/O2. 3101282        S  Miss  Heikkinen     3101282.0   \n",
       "4                0            113803        S   Mrs   Futrelle      113803.0   \n",
       "5                0            373450        S    Mr      Allen      373450.0   \n",
       "...            ...               ...      ...   ...        ...           ...   \n",
       "887              0            211536        S    Mr   Montvila      211536.0   \n",
       "888              0            112053        S  Miss     Graham      112053.0   \n",
       "889              2        W./C. 6607        S  Miss   Johnston        6607.0   \n",
       "890              0            111369        C    Mr       Behr      111369.0   \n",
       "891              0            370376        Q    Mr     Dooley      370376.0   \n",
       "\n",
       "             family_size     fare fare_bin   age      age_bin  is_child  \\\n",
       "passengerid                                                               \n",
       "1                      2   7.2500       q1  22.0      student         0   \n",
       "2                      2  71.2833       q4  38.0        adult         0   \n",
       "3                      1   7.9250       q1  26.0  young_adult         0   \n",
       "4                      2  53.1000       q4  35.0  young_adult         0   \n",
       "5                      1   8.0500       q2  35.0  young_adult         0   \n",
       "...                  ...      ...      ...   ...          ...       ...   \n",
       "887                    1  13.0000       q2  27.0  young_adult         0   \n",
       "888                    1  30.0000       q3  19.0      student         0   \n",
       "889                    4  23.4500       q3  22.0      student         0   \n",
       "890                    1  30.0000       q3  26.0  young_adult         0   \n",
       "891                    1   7.7500       q1  32.0  young_adult         0   \n",
       "\n",
       "             is_traveling_alone  \n",
       "passengerid                      \n",
       "1                             0  \n",
       "2                             0  \n",
       "3                             1  \n",
       "4                             0  \n",
       "5                             1  \n",
       "...                         ...  \n",
       "887                           1  \n",
       "888                           1  \n",
       "889                           0  \n",
       "890                           1  \n",
       "891                           1  \n",
       "\n",
       "[891 rows x 18 columns]"
      ]
     },
     "execution_count": 4,
     "metadata": {},
     "output_type": "execute_result"
    }
   ],
   "source": [
    "Xy = pd.read_csv('../data/processed/train_v4.csv', index_col='passengerid', dtype={'pclass':str, 'is_child':int, 'is_traveling_alone':int})\n",
    "Xy"
   ]
  },
  {
   "cell_type": "code",
   "execution_count": 5,
   "metadata": {},
   "outputs": [
    {
     "data": {
      "text/plain": [
       "Mr        537\n",
       "Miss      186\n",
       "Mrs       128\n",
       "Master     40\n",
       "Name: title, dtype: int64"
      ]
     },
     "execution_count": 5,
     "metadata": {},
     "output_type": "execute_result"
    }
   ],
   "source": [
    "Xy.title.value_counts()"
   ]
  },
  {
   "cell_type": "markdown",
   "metadata": {},
   "source": [
    "## Train Test Split Data"
   ]
  },
  {
   "cell_type": "code",
   "execution_count": 252,
   "metadata": {},
   "outputs": [],
   "source": [
    "all_features = ['age', 'fare', 'family_size', 'is_child', 'is_traveling_alone',\n",
    "                'sex_male', 'embarked_Q', 'embarked_S', 'title_Miss', 'title_Mr',\n",
    "                'title_Mrs', 'age_bin_baby', 'age_bin_child', 'age_bin_senior',\n",
    "                'age_bin_student', 'age_bin_teen', 'age_bin_young_adult', 'fare_bin_q2',\n",
    "                'fare_bin_q3', 'fare_bin_q4', 'pclass_2', 'pclass_3']\n",
    "\n",
    "important_features = ['title_Mr', 'title_Mrs', 'family_size', 'is_child', 'pclass_2', 'pclass_3'] # This is the best score and model with the fewest features\n"
   ]
  },
  {
   "cell_type": "code",
   "execution_count": 253,
   "metadata": {},
   "outputs": [
    {
     "data": {
      "text/plain": [
       "(891, 6)"
      ]
     },
     "execution_count": 253,
     "metadata": {},
     "output_type": "execute_result"
    },
    {
     "data": {
      "text/html": [
       "<div>\n",
       "<style scoped>\n",
       "    .dataframe tbody tr th:only-of-type {\n",
       "        vertical-align: middle;\n",
       "    }\n",
       "\n",
       "    .dataframe tbody tr th {\n",
       "        vertical-align: top;\n",
       "    }\n",
       "\n",
       "    .dataframe thead th {\n",
       "        text-align: right;\n",
       "    }\n",
       "</style>\n",
       "<table border=\"1\" class=\"dataframe\">\n",
       "  <thead>\n",
       "    <tr style=\"text-align: right;\">\n",
       "      <th></th>\n",
       "      <th>title_Mr</th>\n",
       "      <th>title_Mrs</th>\n",
       "      <th>family_size</th>\n",
       "      <th>is_child</th>\n",
       "      <th>pclass_2</th>\n",
       "      <th>pclass_3</th>\n",
       "    </tr>\n",
       "    <tr>\n",
       "      <th>passengerid</th>\n",
       "      <th></th>\n",
       "      <th></th>\n",
       "      <th></th>\n",
       "      <th></th>\n",
       "      <th></th>\n",
       "      <th></th>\n",
       "    </tr>\n",
       "  </thead>\n",
       "  <tbody>\n",
       "    <tr>\n",
       "      <td>1</td>\n",
       "      <td>1</td>\n",
       "      <td>0</td>\n",
       "      <td>0.059160</td>\n",
       "      <td>0</td>\n",
       "      <td>0</td>\n",
       "      <td>1</td>\n",
       "    </tr>\n",
       "    <tr>\n",
       "      <td>2</td>\n",
       "      <td>0</td>\n",
       "      <td>1</td>\n",
       "      <td>0.059160</td>\n",
       "      <td>0</td>\n",
       "      <td>0</td>\n",
       "      <td>0</td>\n",
       "    </tr>\n",
       "    <tr>\n",
       "      <td>3</td>\n",
       "      <td>0</td>\n",
       "      <td>0</td>\n",
       "      <td>-0.560975</td>\n",
       "      <td>0</td>\n",
       "      <td>0</td>\n",
       "      <td>1</td>\n",
       "    </tr>\n",
       "    <tr>\n",
       "      <td>4</td>\n",
       "      <td>0</td>\n",
       "      <td>1</td>\n",
       "      <td>0.059160</td>\n",
       "      <td>0</td>\n",
       "      <td>0</td>\n",
       "      <td>0</td>\n",
       "    </tr>\n",
       "    <tr>\n",
       "      <td>5</td>\n",
       "      <td>1</td>\n",
       "      <td>0</td>\n",
       "      <td>-0.560975</td>\n",
       "      <td>0</td>\n",
       "      <td>0</td>\n",
       "      <td>1</td>\n",
       "    </tr>\n",
       "    <tr>\n",
       "      <td>...</td>\n",
       "      <td>...</td>\n",
       "      <td>...</td>\n",
       "      <td>...</td>\n",
       "      <td>...</td>\n",
       "      <td>...</td>\n",
       "      <td>...</td>\n",
       "    </tr>\n",
       "    <tr>\n",
       "      <td>887</td>\n",
       "      <td>1</td>\n",
       "      <td>0</td>\n",
       "      <td>-0.560975</td>\n",
       "      <td>0</td>\n",
       "      <td>1</td>\n",
       "      <td>0</td>\n",
       "    </tr>\n",
       "    <tr>\n",
       "      <td>888</td>\n",
       "      <td>0</td>\n",
       "      <td>0</td>\n",
       "      <td>-0.560975</td>\n",
       "      <td>0</td>\n",
       "      <td>0</td>\n",
       "      <td>0</td>\n",
       "    </tr>\n",
       "    <tr>\n",
       "      <td>889</td>\n",
       "      <td>0</td>\n",
       "      <td>0</td>\n",
       "      <td>1.299429</td>\n",
       "      <td>0</td>\n",
       "      <td>0</td>\n",
       "      <td>1</td>\n",
       "    </tr>\n",
       "    <tr>\n",
       "      <td>890</td>\n",
       "      <td>1</td>\n",
       "      <td>0</td>\n",
       "      <td>-0.560975</td>\n",
       "      <td>0</td>\n",
       "      <td>0</td>\n",
       "      <td>0</td>\n",
       "    </tr>\n",
       "    <tr>\n",
       "      <td>891</td>\n",
       "      <td>1</td>\n",
       "      <td>0</td>\n",
       "      <td>-0.560975</td>\n",
       "      <td>0</td>\n",
       "      <td>0</td>\n",
       "      <td>1</td>\n",
       "    </tr>\n",
       "  </tbody>\n",
       "</table>\n",
       "<p>891 rows × 6 columns</p>\n",
       "</div>"
      ],
      "text/plain": [
       "             title_Mr  title_Mrs  family_size  is_child  pclass_2  pclass_3\n",
       "passengerid                                                                \n",
       "1                   1          0     0.059160         0         0         1\n",
       "2                   0          1     0.059160         0         0         0\n",
       "3                   0          0    -0.560975         0         0         1\n",
       "4                   0          1     0.059160         0         0         0\n",
       "5                   1          0    -0.560975         0         0         1\n",
       "...               ...        ...          ...       ...       ...       ...\n",
       "887                 1          0    -0.560975         0         1         0\n",
       "888                 0          0    -0.560975         0         0         0\n",
       "889                 0          0     1.299429         0         0         1\n",
       "890                 1          0    -0.560975         0         0         0\n",
       "891                 1          0    -0.560975         0         0         1\n",
       "\n",
       "[891 rows x 6 columns]"
      ]
     },
     "execution_count": 253,
     "metadata": {},
     "output_type": "execute_result"
    }
   ],
   "source": [
    "X_all = transform_X(Xy.drop(['name'], axis=1))\n",
    "X = X_all[important_features]\n",
    "y = Xy['survived']\n",
    "X.shape\n",
    "\n",
    "X"
   ]
  },
  {
   "cell_type": "markdown",
   "metadata": {},
   "source": [
    "### Split data into train and test. "
   ]
  },
  {
   "cell_type": "code",
   "execution_count": 254,
   "metadata": {},
   "outputs": [
    {
     "name": "stdout",
     "output_type": "stream",
     "text": [
      "Number of sample in training data = 712\n",
      "Number of sample in test data = 179\n"
     ]
    }
   ],
   "source": [
    "X_train, X_test, y_train, y_test = train_test_split(X, y, test_size=0.2, random_state=RANDOM_STATE)\n",
    "y_test = y_test.to_frame()\n",
    "\n",
    "print(f'Number of sample in training data = {len(X_train)}')\n",
    "print(f'Number of sample in test data = {len(X_test)}')"
   ]
  },
  {
   "cell_type": "markdown",
   "metadata": {},
   "source": [
    "### Logistic Regression with Age"
   ]
  },
  {
   "cell_type": "code",
   "execution_count": 255,
   "metadata": {},
   "outputs": [
    {
     "data": {
      "text/plain": [
       "Index(['title_Mr', 'title_Mrs', 'family_size', 'is_child', 'pclass_2',\n",
       "       'pclass_3'],\n",
       "      dtype='object')"
      ]
     },
     "execution_count": 255,
     "metadata": {},
     "output_type": "execute_result"
    },
    {
     "data": {
      "text/plain": [
       "LogisticRegression(C=1.0, class_weight=None, dual=False, fit_intercept=True,\n",
       "                   intercept_scaling=1, l1_ratio=1, max_iter=500,\n",
       "                   multi_class='warn', n_jobs=None, penalty='l2',\n",
       "                   random_state=42, solver='warn', tol=0.0001, verbose=0,\n",
       "                   warm_start=False)"
      ]
     },
     "execution_count": 255,
     "metadata": {},
     "output_type": "execute_result"
    },
    {
     "name": "stdout",
     "output_type": "stream",
     "text": [
      "\n",
      "Accuracy Score on X_test,y_test:  0.8268\n",
      "\n",
      "\n",
      "Cross Validation Scores:\n",
      "\tAccuracy \t: 0.8384 (+/- 0.0352)\n",
      "\tRecall\t\t: 0.7162 (+/- 0.0677)\n",
      "\tPrecision\t: 0.8306 (+/- 0.0424)\n",
      "\tF1\t\t: 0.7691 (+/- 0.0571)\n",
      "\n",
      "\n",
      "11/22/19, logreg_model_3b,  <kaggle_accuracy>, 0.8384, 0.7162,0.8306,0.7691\n"
     ]
    }
   ],
   "source": [
    "X.columns\n",
    "\n",
    "model = LogisticRegression(random_state=RANDOM_STATE, max_iter=500, fit_intercept=True,\n",
    "                          penalty='l2', l1_ratio=1)\n",
    "\n",
    "model.fit(X_train, y_train) \n",
    "\n",
    "y_pred, predicted_accuracy_score, cv_scores = pm.calc_model_rst_table_metrics(model, X_train, y_train, X_test, y_test, \n",
    "                                                      model_name='logreg_model_3b', cv=5, verbose=True)\n",
    "    "
   ]
  },
  {
   "cell_type": "markdown",
   "metadata": {},
   "source": [
    "# Optimize HyperParameters"
   ]
  },
  {
   "cell_type": "markdown",
   "metadata": {},
   "source": [
    "https://scikit-learn.org/stable/modules/generated/sklearn.linear_model.LogisticRegression.html \n",
    "\n",
    "**max_iter** : int, optional (default=100)\n",
    "Maximum number of iterations taken for the solvers to converge.\n",
    "\n",
    "**penalty** : str, ‘l1’, ‘l2’, ‘elasticnet’ or ‘none’, optional (default=’l2’)\n",
    "\n",
    "    Used to specify the norm used in the penalization. The ‘newton-cg’, ‘sag’ and ‘lbfgs’ solvers support only l2 penalties. \n",
    "    ‘elasticnet’ is only supported by the ‘saga’ solver. If ‘none’ (not supported by the liblinear solver), no regularization is applied.\n",
    "    New in version 0.19: l1 penalty with SAGA solver (allowing ‘multinomial’ + L1)\n",
    "    \n",
    "**C** : float, optional (default=1.0)\n",
    "     Inverse of regularization strength; must be a positive float. Like in support vector machines, smaller values specify stronger regularization.\n",
    "     \n",
    "**l1_ratio**: float or None, optional (default=None)\n",
    "The Elastic-Net mixing parameter, with 0 <= l1_ratio <= 1. Only used if penalty='elasticnet'`. Setting ``l1_ratio=0 is equivalent to using penalty='l2', while setting l1_ratio=1 is equivalent to using penalty='l1'. For 0 < l1_ratio <1, the penalty is a combination of L1 and L2."
   ]
  },
  {
   "cell_type": "code",
   "execution_count": 256,
   "metadata": {},
   "outputs": [],
   "source": [
    "from hyperopt import fmin, tpe, hp, STATUS_OK"
   ]
  },
  {
   "cell_type": "code",
   "execution_count": 257,
   "metadata": {},
   "outputs": [],
   "source": [
    "def objective(hyperopt_space):\n",
    "    \n",
    "    params = {'max_iter':int(hyperopt_space['max_iter']),\n",
    "              'C': float(hyperopt_space['C']),\n",
    "              'penalty':str(hyperopt_space['penalty']),\n",
    "              'l1_ratio':float(hyperopt_space['l1_ratio']),\n",
    "              'solver':str(hyperopt_space['solver'])\n",
    "             }\n",
    "    \n",
    "    model = LogisticRegression(class_weight=None, \n",
    "                               dual=False, \n",
    "                               fit_intercept=True,\n",
    "                               intercept_scaling=1, \n",
    "                               multi_class='warn', \n",
    "                               n_jobs=2, \n",
    "                               random_state=42, \n",
    "                               tol=0.0001, \n",
    "                               verbose=1,\n",
    "                               warm_start=False,\n",
    "                               **params)\n",
    "    \n",
    "    best_score = (cross_val_score(model,\n",
    "                                 X_train,\n",
    "                                 y_train,\n",
    "                                 scoring='accuracy', \n",
    "                                 cv=10, n_jobs=4)\n",
    "                  .mean()\n",
    "                 )\n",
    "    \n",
    "    loss = 1 - best_score\n",
    "    \n",
    "    return {'loss': loss, 'params': params, 'status': STATUS_OK, 'best_score': best_score}"
   ]
  },
  {
   "cell_type": "code",
   "execution_count": 258,
   "metadata": {},
   "outputs": [],
   "source": [
    "SOLVERS = ['saga']\n",
    "MAX_ITER_LIST = [500]"
   ]
  },
  {
   "cell_type": "code",
   "execution_count": 259,
   "metadata": {},
   "outputs": [],
   "source": [
    "space = {'max_iter': hp.choice('max_iter', [500]),\n",
    "         'C': hp.uniform('C', 0, 1),\n",
    "         'penalty': hp.choice('penalty', ['elasticnet']),\n",
    "         'solver': hp.choice('solver', SOLVERS),\n",
    "         'l1_ratio':hp.uniform('l1_ratio', 0, 1),\n",
    "        }"
   ]
  },
  {
   "cell_type": "code",
   "execution_count": 260,
   "metadata": {},
   "outputs": [
    {
     "name": "stdout",
     "output_type": "stream",
     "text": [
      "100%|██████████| 100/100 [00:46<00:00,  2.14it/s, best loss: 0.16163257321708036]\n"
     ]
    },
    {
     "data": {
      "text/plain": [
       "{'C': 0.8326320323149597,\n",
       " 'l1_ratio': 0.45470105222137214,\n",
       " 'max_iter': 0,\n",
       " 'penalty': 0,\n",
       " 'solver': 0}"
      ]
     },
     "execution_count": 260,
     "metadata": {},
     "output_type": "execute_result"
    }
   ],
   "source": [
    "best_result = fmin(fn=objective,\n",
    "                   space=space,\n",
    "                   max_evals=100,\n",
    "                   rstate=np.random.RandomState(42),\n",
    "                   algo=tpe.suggest\n",
    "                  )\n",
    "\n",
    "best_result                   "
   ]
  },
  {
   "cell_type": "markdown",
   "metadata": {},
   "source": [
    "### Rerun Model & Check Feature Selection"
   ]
  },
  {
   "cell_type": "code",
   "execution_count": 261,
   "metadata": {},
   "outputs": [
    {
     "data": {
      "text/plain": [
       "LogisticRegression(C=0.8326320323149597, class_weight=None, dual=False,\n",
       "                   fit_intercept=True, intercept_scaling=1,\n",
       "                   l1_ratio=0.45470105222137214, max_iter=500,\n",
       "                   multi_class='warn', n_jobs=2, penalty='l2', random_state=42,\n",
       "                   solver='saga', tol=0.0001, verbose=1, warm_start=False)"
      ]
     },
     "execution_count": 261,
     "metadata": {},
     "output_type": "execute_result"
    }
   ],
   "source": [
    "model = LogisticRegression(class_weight=None, \n",
    "                               dual=False, \n",
    "                               fit_intercept=True,\n",
    "                               intercept_scaling=1, \n",
    "                               multi_class='warn', \n",
    "                               n_jobs=2, \n",
    "                               random_state=42, \n",
    "                               tol=0.0001, \n",
    "                               verbose=1,\n",
    "                               warm_start=False,\n",
    "                               C=best_result['C'], \n",
    "                               l1_ratio= best_result['l1_ratio'],\n",
    "                               solver=SOLVERS[best_result['solver']], \n",
    "                               max_iter= MAX_ITER_LIST[best_result['max_iter']],\n",
    "                               )\n",
    "\n",
    "model"
   ]
  },
  {
   "cell_type": "code",
   "execution_count": 262,
   "metadata": {},
   "outputs": [
    {
     "name": "stdout",
     "output_type": "stream",
     "text": [
      "convergence after 28 epochs took 0 seconds\n"
     ]
    },
    {
     "name": "stderr",
     "output_type": "stream",
     "text": [
      "[Parallel(n_jobs=2)]: Using backend ThreadingBackend with 2 concurrent workers.\n",
      "[Parallel(n_jobs=2)]: Done   1 out of   1 | elapsed:    0.0s finished\n"
     ]
    },
    {
     "data": {
      "text/plain": [
       "LogisticRegression(C=0.8326320323149597, class_weight=None, dual=False,\n",
       "                   fit_intercept=True, intercept_scaling=1,\n",
       "                   l1_ratio=0.45470105222137214, max_iter=500,\n",
       "                   multi_class='warn', n_jobs=2, penalty='l2', random_state=42,\n",
       "                   solver='saga', tol=0.0001, verbose=1, warm_start=False)"
      ]
     },
     "execution_count": 262,
     "metadata": {},
     "output_type": "execute_result"
    },
    {
     "name": "stderr",
     "output_type": "stream",
     "text": [
      "[Parallel(n_jobs=2)]: Using backend LokyBackend with 2 concurrent workers.\n"
     ]
    },
    {
     "name": "stdout",
     "output_type": "stream",
     "text": [
      "\n",
      "Accuracy Score on X_test,y_test:  0.8268\n",
      "\n",
      "\n",
      "Cross Validation Scores:\n",
      "\tAccuracy \t: 0.8384 (+/- 0.0352)\n",
      "\tRecall\t\t: 0.7238 (+/- 0.0744)\n",
      "\tPrecision\t: 0.8254 (+/- 0.0492)\n",
      "\tF1\t\t: 0.7709 (+/- 0.0574)\n",
      "\n",
      "\n",
      "11/22/19, logreg_model_3b,  <kaggle_accuracy>, 0.8384, 0.7238,0.8254,0.7709\n"
     ]
    },
    {
     "name": "stderr",
     "output_type": "stream",
     "text": [
      "[Parallel(n_jobs=2)]: Done   1 out of   1 | elapsed:    0.1s finished\n",
      "[Parallel(n_jobs=2)]: Using backend LokyBackend with 2 concurrent workers.\n",
      "[Parallel(n_jobs=2)]: Done   1 out of   1 | elapsed:    0.0s finished\n",
      "[Parallel(n_jobs=2)]: Using backend LokyBackend with 2 concurrent workers.\n",
      "[Parallel(n_jobs=2)]: Done   1 out of   1 | elapsed:    0.0s finished\n",
      "[Parallel(n_jobs=2)]: Using backend LokyBackend with 2 concurrent workers.\n",
      "[Parallel(n_jobs=2)]: Done   1 out of   1 | elapsed:    0.0s finished\n",
      "[Parallel(n_jobs=2)]: Using backend LokyBackend with 2 concurrent workers.\n",
      "[Parallel(n_jobs=2)]: Done   1 out of   1 | elapsed:    0.0s finished\n"
     ]
    },
    {
     "data": {
      "text/plain": [
       "{'fit_time': array([0.19197798, 0.01017118, 0.00626993, 0.00675511, 0.01964521]),\n",
       " 'score_time': array([0.00596786, 0.00677776, 0.00570703, 0.0052979 , 0.00702786]),\n",
       " 'test_accuracy': array([0.85314685, 0.86013986, 0.83216783, 0.80985915, 0.83687943]),\n",
       " 'test_recall': array([0.74074074, 0.75925926, 0.7037037 , 0.66037736, 0.75471698]),\n",
       " 'test_precision': array([0.85106383, 0.85416667, 0.82608696, 0.79545455, 0.8       ]),\n",
       " 'test_f1': array([0.79207921, 0.80392157, 0.76      , 0.72164948, 0.77669903])}"
      ]
     },
     "execution_count": 262,
     "metadata": {},
     "output_type": "execute_result"
    }
   ],
   "source": [
    "model.fit(X_train, y_train) \n",
    "\n",
    "y_pred, predicted_accuracy_score, cv_scores = pm.calc_model_rst_table_metrics(model, X_train, y_train, X_test, y_test, \n",
    "                                                      model_name='logreg_model_3b', cv=5, verbose=True)\n",
    "\n",
    "cv_scores"
   ]
  },
  {
   "cell_type": "code",
   "execution_count": 263,
   "metadata": {},
   "outputs": [
    {
     "data": {
      "text/html": [
       "<div>\n",
       "<style scoped>\n",
       "    .dataframe tbody tr th:only-of-type {\n",
       "        vertical-align: middle;\n",
       "    }\n",
       "\n",
       "    .dataframe tbody tr th {\n",
       "        vertical-align: top;\n",
       "    }\n",
       "\n",
       "    .dataframe thead th {\n",
       "        text-align: right;\n",
       "    }\n",
       "</style>\n",
       "<table border=\"1\" class=\"dataframe\">\n",
       "  <thead>\n",
       "    <tr style=\"text-align: right;\">\n",
       "      <th></th>\n",
       "      <th>index</th>\n",
       "      <th>0</th>\n",
       "    </tr>\n",
       "  </thead>\n",
       "  <tbody>\n",
       "    <tr>\n",
       "      <td>0</td>\n",
       "      <td>title_Mr</td>\n",
       "      <td>2.747685</td>\n",
       "    </tr>\n",
       "    <tr>\n",
       "      <td>1</td>\n",
       "      <td>pclass_3</td>\n",
       "      <td>1.755936</td>\n",
       "    </tr>\n",
       "    <tr>\n",
       "      <td>2</td>\n",
       "      <td>title_Mrs</td>\n",
       "      <td>0.963517</td>\n",
       "    </tr>\n",
       "    <tr>\n",
       "      <td>3</td>\n",
       "      <td>pclass_2</td>\n",
       "      <td>0.744827</td>\n",
       "    </tr>\n",
       "    <tr>\n",
       "      <td>4</td>\n",
       "      <td>is_child</td>\n",
       "      <td>0.714440</td>\n",
       "    </tr>\n",
       "    <tr>\n",
       "      <td>5</td>\n",
       "      <td>family_size</td>\n",
       "      <td>0.644649</td>\n",
       "    </tr>\n",
       "  </tbody>\n",
       "</table>\n",
       "</div>"
      ],
      "text/plain": [
       "         index         0\n",
       "0     title_Mr  2.747685\n",
       "1     pclass_3  1.755936\n",
       "2    title_Mrs  0.963517\n",
       "3     pclass_2  0.744827\n",
       "4     is_child  0.714440\n",
       "5  family_size  0.644649"
      ]
     },
     "execution_count": 263,
     "metadata": {},
     "output_type": "execute_result"
    }
   ],
   "source": [
    "abs_coefficients_ranked = pd.DataFrame(data = abs(model.coef_), columns = X_train.columns).T.sort_values(by=0, ascending=False)\n",
    "with pd.option_context('display.max_rows', 30):\n",
    "\tabs_coefficients_ranked.reset_index()#.head(10)['index'].values"
   ]
  },
  {
   "cell_type": "markdown",
   "metadata": {},
   "source": [
    "# Prepare Submission"
   ]
  },
  {
   "cell_type": "code",
   "execution_count": 267,
   "metadata": {},
   "outputs": [],
   "source": [
    "from models import kaggle\n",
    "\n",
    "filename = 'logres_original_without_age_data_v4.csv'\n",
    "\n",
    "X_holdout = pd.read_csv('../data/processed/holdout_v4.csv', \n",
    "                        index_col='passengerid', \n",
    "                        dtype={'pclass':str, 'is_child':int, 'is_traveling_alone':int})\n",
    "\n",
    "X_test_kaggle_public = transform_X(X_holdout).reindex(X_test.columns, axis=1)\n",
    "\n",
    "X_test_kaggle_public.describe()\n",
    "\n",
    "y_pred = (pd.Series(model.predict(X_test_kaggle_public), \n",
    "                   index=X_test_kaggle_public.index, name='Survived').to_frame().sort_index()\n",
    "         )\n",
    "\n",
    "y_pred.index.names = ['PassengerId']\n",
    "\n",
    "y_pred.to_csv(filename)\n",
    "\n",
    "message = (f'{filename} \\n\\n'\n",
    "           f'This is a submission test via the Kaggle API. \\n\\n'\n",
    "           f'{model} \\n\\n'\n",
    "           f'{X_test_kaggle_public.columns} \\n\\n'\n",
    "          )\n",
    "\n",
    "print(message)"
   ]
  },
  {
   "cell_type": "code",
   "execution_count": 268,
   "metadata": {},
   "outputs": [
    {
     "name": "stdout",
     "output_type": "stream",
     "text": [
      "logres_original_without_age_data_v4.csv\n",
      "logres_original_without_age_data_v4.csv \n",
      "\n",
      "This is a submission test via the Kaggle API. \n",
      "\n",
      "LogisticRegression(C=0.8326320323149597, class_weight=None, dual=False,\n",
      "                   fit_intercept=True, intercept_scaling=1,\n",
      "                   l1_ratio=0.45470105222137214, max_iter=500,\n",
      "                   multi_class='warn', n_jobs=2, penalty='l2', random_state=42,\n",
      "                   solver='saga', tol=0.0001, verbose=1, warm_start=False) \n",
      "\n",
      "Index(['title_Mr', 'title_Mrs', 'family_size', 'is_child', 'pclass_2',\n",
      "       'pclass_3'],\n",
      "      dtype='object') \n",
      "\n",
      "\n",
      "None\n",
      "None\n"
     ]
    }
   ],
   "source": [
    "kaggle.submit_to_kaggle_titanic_competition(filename, message, upload=False);"
   ]
  },
  {
   "cell_type": "code",
   "execution_count": null,
   "metadata": {},
   "outputs": [],
   "source": [
    "filename"
   ]
  }
 ],
 "metadata": {
  "kernelspec": {
   "display_name": "Python 3",
   "language": "python",
   "name": "python3"
  },
  "language_info": {
   "codemirror_mode": {
    "name": "ipython",
    "version": 3
   },
   "file_extension": ".py",
   "mimetype": "text/x-python",
   "name": "python",
   "nbconvert_exporter": "python",
   "pygments_lexer": "ipython3",
   "version": "3.7.3"
  }
 },
 "nbformat": 4,
 "nbformat_minor": 4
}
