{
 "cells": [
  {
   "cell_type": "markdown",
   "metadata": {},
   "source": [
    "# Kaggle Titanic First Competition"
   ]
  },
  {
   "cell_type": "markdown",
   "metadata": {},
   "source": [
    "https://www.kaggle.com/c/titanic/overview"
   ]
  },
  {
   "cell_type": "raw",
   "metadata": {},
   "source": [
    "I still have been unable to improve my accuracy above 80% on the Holdout Data. I noticed that my accuracy decreased when I includeded to many titles. I also noticed that some of the Officers and Drs are traveling with family so an Officer may be an Officer in the Armed forces but may not be associated with the \n",
    "ship's crew.  I am going to leave the age and fare bins as is. \n",
    "π\n",
    "https://www.kaggle.com/kabure/titanic-eda-model-pipeline-keras-nn\n",
    "\n",
    "Update the Titles to be a less descriptive. The Titles have been set to Mr. and Mrs. This is based upon sex and age. However, the Titles are more descriptive than this. For example, we can specify crew members. I am going to reassign the titles according to the suggestions of Leonardo Ferreira.\n",
    ".. code-block:: python\n",
    "\n",
    "    translate_title_dictionary = {\n",
    "        \"Mlle.\": \"Miss.\",\n",
    "        \"Mme.\": \"Miss.\",\n",
    "        \"Sir.\": \"Mr.\",\n",
    "        \"Ms.\": \"Mrs.\",\n",
    "        \"Rev.\": np.nan,\n",
    "        \"Col.\": \"Mr.\",\n",
    "        \"Capt.\": \"Mr.\",\n",
    "        \"Lady.\": \"Miss.\",\n",
    "        \"the Countess. of\": \"Mrs.\",\n",
    "        \"Dr.\": np.nan,\n",
    "    }\n",
    "\n",
    "For the previous models, I have used the numeric value of the age. I am going to bin the age according to these categories.\n",
    ".. code-block:: python\n",
    "\n",
    "#df_train.Age = df_train.Age.fillna(-0.5)\n",
    "\n",
    "#creating the intervals that we need to cut each range of ages\n",
    "interval = (0, 5, 12, 18, 25, 35, 60, 120)\n",
    "\n",
    "#Seting the names that we want use to the categorys\n",
    "cats = ['babies','Children','Teen','Student','Young','Adult','Senior']\n",
    "\n",
    "# Applying the pd.cut and using the parameters that we created\n",
    "df_train[\"Age_cat\"] = pd.cut(df_train.Age, interval, labels=cats)\n",
    "For the previous models, I have used the Fare as a numeric value. I am going to split the Fare into quartiles.\n",
    ".. code-block:: python\n",
    "\n",
    "#Filling the NA's with -0.5\n",
    "df_train.Fare = df_train.Fare.fillna(-0.5)\n",
    "\n",
    "#intervals to categorize\n",
    "quant = (-1, 0, 8, 15, 31, 600)\n",
    "\n",
    "#Labels without input values\n",
    "label_quants = ['NoInf', 'quart_1', 'quart_2', 'quart_3', 'quart_4']\n",
    "\n",
    "#doing the cut in fare and puting in a new column\n",
    "df_train[\"Fare_cat\"] = pd.cut(df_train.Fare, quant, labels=label_quants)"
   ]
  },
  {
   "cell_type": "markdown",
   "metadata": {},
   "source": [
    "## Exploratory Data Analysis"
   ]
  },
  {
   "cell_type": "markdown",
   "metadata": {},
   "source": [
    "There were an estimated 2,224 passengers and crew aboard the RMS Titanic.  Over 1500 peopled died.  Survival percentage 32.5%."
   ]
  },
  {
   "cell_type": "markdown",
   "metadata": {},
   "source": [
    "**Initialization**"
   ]
  },
  {
   "cell_type": "code",
   "execution_count": 1,
   "metadata": {},
   "outputs": [
    {
     "data": {
      "text/html": [
       "<style>.container { width:80% !important; }</style>"
      ],
      "text/plain": [
       "<IPython.core.display.HTML object>"
      ]
     },
     "metadata": {},
     "output_type": "display_data"
    }
   ],
   "source": [
    "%run init.ipynb"
   ]
  },
  {
   "cell_type": "code",
   "execution_count": 2,
   "metadata": {},
   "outputs": [],
   "source": [
    "from data.data import ExtractData, TransformData\n",
    "from zeetle.data import eda\n",
    "\n",
    "import matplotlib.pyplot as plt \n",
    "plt.rc(\"font\", size=14)\n",
    "import seaborn as sns\n",
    "sns.set(style=\"white\") #white background style for seaborn plots\n",
    "sns.set(style=\"whitegrid\", color_codes=True)"
   ]
  },
  {
   "cell_type": "markdown",
   "metadata": {},
   "source": [
    "# Extract Data"
   ]
  },
  {
   "cell_type": "code",
   "execution_count": 3,
   "metadata": {},
   "outputs": [],
   "source": [
    "train = ExtractData('../data/raw/train.csv')\n",
    "holdout = ExtractData('../data/raw/holdout.csv')\n",
    "\n",
    "Xy_raw_train = train.Xy_raw\n",
    "Xy_raw_holdout = holdout.Xy_raw\n",
    "\n",
    "Xy_raw_train['fare_raw'] = Xy_raw_train['fare_raw'].replace(0, np.nan)"
   ]
  },
  {
   "cell_type": "code",
   "execution_count": 4,
   "metadata": {},
   "outputs": [
    {
     "data": {
      "text/html": [
       "<div>\n",
       "<style scoped>\n",
       "    .dataframe tbody tr th:only-of-type {\n",
       "        vertical-align: middle;\n",
       "    }\n",
       "\n",
       "    .dataframe tbody tr th {\n",
       "        vertical-align: top;\n",
       "    }\n",
       "\n",
       "    .dataframe thead th {\n",
       "        text-align: right;\n",
       "    }\n",
       "</style>\n",
       "<table border=\"1\" class=\"dataframe\">\n",
       "  <thead>\n",
       "    <tr style=\"text-align: right;\">\n",
       "      <th></th>\n",
       "      <th>train</th>\n",
       "      <th>holdout</th>\n",
       "    </tr>\n",
       "  </thead>\n",
       "  <tbody>\n",
       "    <tr>\n",
       "      <td>age_raw</td>\n",
       "      <td>177</td>\n",
       "      <td>86.0</td>\n",
       "    </tr>\n",
       "    <tr>\n",
       "      <td>cabin</td>\n",
       "      <td>687</td>\n",
       "      <td>327.0</td>\n",
       "    </tr>\n",
       "    <tr>\n",
       "      <td>embarked</td>\n",
       "      <td>2</td>\n",
       "      <td>0.0</td>\n",
       "    </tr>\n",
       "    <tr>\n",
       "      <td>fare_raw</td>\n",
       "      <td>15</td>\n",
       "      <td>1.0</td>\n",
       "    </tr>\n",
       "    <tr>\n",
       "      <td>name</td>\n",
       "      <td>0</td>\n",
       "      <td>0.0</td>\n",
       "    </tr>\n",
       "    <tr>\n",
       "      <td>parch</td>\n",
       "      <td>0</td>\n",
       "      <td>0.0</td>\n",
       "    </tr>\n",
       "    <tr>\n",
       "      <td>pclass</td>\n",
       "      <td>0</td>\n",
       "      <td>0.0</td>\n",
       "    </tr>\n",
       "    <tr>\n",
       "      <td>sex</td>\n",
       "      <td>0</td>\n",
       "      <td>0.0</td>\n",
       "    </tr>\n",
       "    <tr>\n",
       "      <td>sibsp</td>\n",
       "      <td>0</td>\n",
       "      <td>0.0</td>\n",
       "    </tr>\n",
       "    <tr>\n",
       "      <td>survived</td>\n",
       "      <td>0</td>\n",
       "      <td>NaN</td>\n",
       "    </tr>\n",
       "    <tr>\n",
       "      <td>ticket</td>\n",
       "      <td>0</td>\n",
       "      <td>0.0</td>\n",
       "    </tr>\n",
       "  </tbody>\n",
       "</table>\n",
       "</div>"
      ],
      "text/plain": [
       "          train  holdout\n",
       "age_raw     177     86.0\n",
       "cabin       687    327.0\n",
       "embarked      2      0.0\n",
       "fare_raw     15      1.0\n",
       "name          0      0.0\n",
       "parch         0      0.0\n",
       "pclass        0      0.0\n",
       "sex           0      0.0\n",
       "sibsp         0      0.0\n",
       "survived      0      NaN\n",
       "ticket        0      0.0"
      ]
     },
     "execution_count": 4,
     "metadata": {},
     "output_type": "execute_result"
    }
   ],
   "source": [
    "df_nan = pd.concat([train.Xy_raw.isna().sum().sort_values(ascending=False).to_frame(), \n",
    "                  holdout.Xy_raw.isna().sum().sort_values(ascending=False).to_frame()], axis=1)\n",
    "\n",
    "df_nan.columns = ['train', 'holdout']\n",
    "\n",
    "with pd.option_context('display.max_rows', 21):\n",
    "    df_nan\n",
    "    \n",
    "    "
   ]
  },
  {
   "cell_type": "markdown",
   "metadata": {},
   "source": [
    "# Transform Data according to the rules determined in the EDA"
   ]
  },
  {
   "cell_type": "code",
   "execution_count": 12,
   "metadata": {},
   "outputs": [],
   "source": [
    "translate_title_dictionary = {\n",
    "        \"Mlle\": \"Miss\",\n",
    "        \"Mme\": \"Miss\",\n",
    "        \"Sir\": \"Mr\",\n",
    "        \"Ms\": \"Mrs\",\n",
    "        \"Rev\": np.nan,\n",
    "        \"Col\": \"Mr\",\n",
    "        \"Capt\": \"Mr\",\n",
    "        \"Lady\": \"Miss\",\n",
    "        \"the Countess of\": \"Mrs\",\n",
    "        \"Dr\": np.nan,\n",
    "    }\n",
    "\n",
    "age_bins = (0, 5, 12, 18, 25, 35, 60, 120)\n",
    "age_bin_label =   ['baby','child','teen','student','young_adult','adult','senior']\n",
    "\n",
    "assert len(age_bins) == len(age_bin_label) + 1"
   ]
  },
  {
   "cell_type": "code",
   "execution_count": 17,
   "metadata": {},
   "outputs": [
    {
     "data": {
      "text/plain": [
       "891"
      ]
     },
     "execution_count": 17,
     "metadata": {},
     "output_type": "execute_result"
    }
   ],
   "source": [
    "train_transformed = TransformData(train,\n",
    "                                  translate_title_dictionary = translate_title_dictionary,\n",
    "                                  age_bins = age_bins,\n",
    "                                  Xy_age_estimate=None,\n",
    "                                  age_bin_label = age_bin_label)\n",
    "\n",
    "len(train_transformed.Xy)"
   ]
  },
  {
   "cell_type": "code",
   "execution_count": 18,
   "metadata": {},
   "outputs": [
    {
     "data": {
      "text/html": [
       "<div>\n",
       "<style scoped>\n",
       "    .dataframe tbody tr th:only-of-type {\n",
       "        vertical-align: middle;\n",
       "    }\n",
       "\n",
       "    .dataframe tbody tr th {\n",
       "        vertical-align: top;\n",
       "    }\n",
       "\n",
       "    .dataframe thead th {\n",
       "        text-align: right;\n",
       "    }\n",
       "</style>\n",
       "<table border=\"1\" class=\"dataframe\">\n",
       "  <thead>\n",
       "    <tr style=\"text-align: right;\">\n",
       "      <th></th>\n",
       "      <th>count</th>\n",
       "      <th>mean</th>\n",
       "      <th>std</th>\n",
       "      <th>min</th>\n",
       "      <th>25%</th>\n",
       "      <th>50%</th>\n",
       "      <th>75%</th>\n",
       "      <th>max</th>\n",
       "    </tr>\n",
       "    <tr>\n",
       "      <th>age_bin</th>\n",
       "      <th></th>\n",
       "      <th></th>\n",
       "      <th></th>\n",
       "      <th></th>\n",
       "      <th></th>\n",
       "      <th></th>\n",
       "      <th></th>\n",
       "      <th></th>\n",
       "    </tr>\n",
       "  </thead>\n",
       "  <tbody>\n",
       "    <tr>\n",
       "      <td>baby</td>\n",
       "      <td>48.0</td>\n",
       "      <td>2.678542</td>\n",
       "      <td>1.496339</td>\n",
       "      <td>0.42</td>\n",
       "      <td>1.0</td>\n",
       "      <td>2.5</td>\n",
       "      <td>4.0</td>\n",
       "      <td>5.0</td>\n",
       "    </tr>\n",
       "    <tr>\n",
       "      <td>child</td>\n",
       "      <td>25.0</td>\n",
       "      <td>8.760000</td>\n",
       "      <td>1.690168</td>\n",
       "      <td>6.00</td>\n",
       "      <td>8.0</td>\n",
       "      <td>9.0</td>\n",
       "      <td>10.0</td>\n",
       "      <td>12.0</td>\n",
       "    </tr>\n",
       "    <tr>\n",
       "      <td>teen</td>\n",
       "      <td>70.0</td>\n",
       "      <td>16.578571</td>\n",
       "      <td>1.438688</td>\n",
       "      <td>13.00</td>\n",
       "      <td>16.0</td>\n",
       "      <td>17.0</td>\n",
       "      <td>18.0</td>\n",
       "      <td>18.0</td>\n",
       "    </tr>\n",
       "    <tr>\n",
       "      <td>student</td>\n",
       "      <td>198.0</td>\n",
       "      <td>22.088384</td>\n",
       "      <td>1.830652</td>\n",
       "      <td>19.00</td>\n",
       "      <td>21.0</td>\n",
       "      <td>22.0</td>\n",
       "      <td>24.0</td>\n",
       "      <td>25.0</td>\n",
       "    </tr>\n",
       "    <tr>\n",
       "      <td>young_adult</td>\n",
       "      <td>316.0</td>\n",
       "      <td>31.327532</td>\n",
       "      <td>2.547860</td>\n",
       "      <td>26.00</td>\n",
       "      <td>29.0</td>\n",
       "      <td>33.0</td>\n",
       "      <td>33.0</td>\n",
       "      <td>35.0</td>\n",
       "    </tr>\n",
       "    <tr>\n",
       "      <td>adult</td>\n",
       "      <td>212.0</td>\n",
       "      <td>44.114623</td>\n",
       "      <td>6.909738</td>\n",
       "      <td>35.90</td>\n",
       "      <td>38.0</td>\n",
       "      <td>43.0</td>\n",
       "      <td>49.0</td>\n",
       "      <td>60.0</td>\n",
       "    </tr>\n",
       "    <tr>\n",
       "      <td>senior</td>\n",
       "      <td>22.0</td>\n",
       "      <td>66.022727</td>\n",
       "      <td>5.024884</td>\n",
       "      <td>61.00</td>\n",
       "      <td>62.0</td>\n",
       "      <td>64.5</td>\n",
       "      <td>70.0</td>\n",
       "      <td>80.0</td>\n",
       "    </tr>\n",
       "  </tbody>\n",
       "</table>\n",
       "</div>"
      ],
      "text/plain": [
       "             count       mean       std    min   25%   50%   75%   max\n",
       "age_bin                                                               \n",
       "baby          48.0   2.678542  1.496339   0.42   1.0   2.5   4.0   5.0\n",
       "child         25.0   8.760000  1.690168   6.00   8.0   9.0  10.0  12.0\n",
       "teen          70.0  16.578571  1.438688  13.00  16.0  17.0  18.0  18.0\n",
       "student      198.0  22.088384  1.830652  19.00  21.0  22.0  24.0  25.0\n",
       "young_adult  316.0  31.327532  2.547860  26.00  29.0  33.0  33.0  35.0\n",
       "adult        212.0  44.114623  6.909738  35.90  38.0  43.0  49.0  60.0\n",
       "senior        22.0  66.022727  5.024884  61.00  62.0  64.5  70.0  80.0"
      ]
     },
     "execution_count": 18,
     "metadata": {},
     "output_type": "execute_result"
    },
    {
     "data": {
      "text/html": [
       "<div>\n",
       "<style scoped>\n",
       "    .dataframe tbody tr th:only-of-type {\n",
       "        vertical-align: middle;\n",
       "    }\n",
       "\n",
       "    .dataframe tbody tr th {\n",
       "        vertical-align: top;\n",
       "    }\n",
       "\n",
       "    .dataframe thead th {\n",
       "        text-align: right;\n",
       "    }\n",
       "</style>\n",
       "<table border=\"1\" class=\"dataframe\">\n",
       "  <thead>\n",
       "    <tr style=\"text-align: right;\">\n",
       "      <th></th>\n",
       "      <th>count</th>\n",
       "      <th>mean</th>\n",
       "      <th>std</th>\n",
       "      <th>min</th>\n",
       "      <th>25%</th>\n",
       "      <th>50%</th>\n",
       "      <th>75%</th>\n",
       "      <th>max</th>\n",
       "    </tr>\n",
       "    <tr>\n",
       "      <th>is_child</th>\n",
       "      <th></th>\n",
       "      <th></th>\n",
       "      <th></th>\n",
       "      <th></th>\n",
       "      <th></th>\n",
       "      <th></th>\n",
       "      <th></th>\n",
       "      <th></th>\n",
       "    </tr>\n",
       "  </thead>\n",
       "  <tbody>\n",
       "    <tr>\n",
       "      <td>False</td>\n",
       "      <td>818.0</td>\n",
       "      <td>32.076161</td>\n",
       "      <td>11.404938</td>\n",
       "      <td>13.00</td>\n",
       "      <td>23.0</td>\n",
       "      <td>32.0</td>\n",
       "      <td>36.0</td>\n",
       "      <td>80.0</td>\n",
       "    </tr>\n",
       "    <tr>\n",
       "      <td>True</td>\n",
       "      <td>73.0</td>\n",
       "      <td>4.761233</td>\n",
       "      <td>3.295099</td>\n",
       "      <td>0.42</td>\n",
       "      <td>2.0</td>\n",
       "      <td>4.0</td>\n",
       "      <td>8.0</td>\n",
       "      <td>12.0</td>\n",
       "    </tr>\n",
       "  </tbody>\n",
       "</table>\n",
       "</div>"
      ],
      "text/plain": [
       "          count       mean        std    min   25%   50%   75%   max\n",
       "is_child                                                            \n",
       "False     818.0  32.076161  11.404938  13.00  23.0  32.0  36.0  80.0\n",
       "True       73.0   4.761233   3.295099   0.42   2.0   4.0   8.0  12.0"
      ]
     },
     "execution_count": 18,
     "metadata": {},
     "output_type": "execute_result"
    }
   ],
   "source": [
    "train_transformed.Xy.groupby(['age_bin']).age.describe()\n",
    "train_transformed.Xy.groupby(['is_child']).age.describe()"
   ]
  },
  {
   "cell_type": "code",
   "execution_count": 19,
   "metadata": {},
   "outputs": [
    {
     "data": {
      "text/plain": [
       "Mr        537\n",
       "Miss      186\n",
       "Mrs       128\n",
       "Master     40\n",
       "Name: title, dtype: int64"
      ]
     },
     "execution_count": 19,
     "metadata": {},
     "output_type": "execute_result"
    }
   ],
   "source": [
    "train_transformed.Xy.title.value_counts()"
   ]
  },
  {
   "cell_type": "code",
   "execution_count": 20,
   "metadata": {},
   "outputs": [
    {
     "data": {
      "text/plain": [
       "418"
      ]
     },
     "execution_count": 20,
     "metadata": {},
     "output_type": "execute_result"
    },
    {
     "data": {
      "text/plain": [
       "418"
      ]
     },
     "execution_count": 20,
     "metadata": {},
     "output_type": "execute_result"
    }
   ],
   "source": [
    "holdout_transformed = TransformData(holdout, \n",
    "                                    adult_age_threshold_min=train_transformed.adult_age_threshold_min,\n",
    "                                    translate_title_dictionary = translate_title_dictionary,\n",
    "                                    age_bins=train_transformed.age_bins,\n",
    "                                    age_bin_label=train_transformed.age_bin_label,\n",
    "                                    Xy_age_estimate = train_transformed.Xy_age_estimate,\n",
    "                                    Xy_fare_estimate = train_transformed.Xy_fare_estimate,\n",
    "                                    fare_bins = train_transformed.fare_bins,\n",
    "                                    fare_bin_labels = train_transformed.fare_bin_labels, \n",
    "                                    embarked_mode =  train_transformed.embarked_mode, \n",
    "                                    )\n",
    "\n",
    "#assert len(holdout.Xy_raw) == len(holdout_transformed.Xy)\n",
    "\n",
    "assert holdout_transformed.adult_age_threshold_min == train_transformed.adult_age_threshold_min\n",
    "assert holdout_transformed.age_bins == train_transformed.age_bins\n",
    "assert (holdout_transformed.Xy_age_estimate == train_transformed.Xy_age_estimate).all()[0]\n",
    "assert (holdout_transformed.Xy_fare_estimate == train_transformed.Xy_fare_estimate).all()[0]\n",
    "assert holdout_transformed.embarked_mode == train_transformed.embarked_mode\n",
    "\n",
    "len(holdout.Xy_raw)\n",
    "len(holdout_transformed.Xy)"
   ]
  },
  {
   "cell_type": "code",
   "execution_count": 22,
   "metadata": {},
   "outputs": [
    {
     "data": {
      "text/html": [
       "<div>\n",
       "<style scoped>\n",
       "    .dataframe tbody tr th:only-of-type {\n",
       "        vertical-align: middle;\n",
       "    }\n",
       "\n",
       "    .dataframe tbody tr th {\n",
       "        vertical-align: top;\n",
       "    }\n",
       "\n",
       "    .dataframe thead th {\n",
       "        text-align: right;\n",
       "    }\n",
       "</style>\n",
       "<table border=\"1\" class=\"dataframe\">\n",
       "  <thead>\n",
       "    <tr style=\"text-align: right;\">\n",
       "      <th></th>\n",
       "      <th></th>\n",
       "      <th>age_estimate</th>\n",
       "    </tr>\n",
       "    <tr>\n",
       "      <th>sex</th>\n",
       "      <th>title</th>\n",
       "      <th></th>\n",
       "    </tr>\n",
       "  </thead>\n",
       "  <tbody>\n",
       "    <tr>\n",
       "      <td rowspan=\"2\" valign=\"top\">female</td>\n",
       "      <td>Miss</td>\n",
       "      <td>22.0</td>\n",
       "    </tr>\n",
       "    <tr>\n",
       "      <td>Mrs</td>\n",
       "      <td>35.9</td>\n",
       "    </tr>\n",
       "    <tr>\n",
       "      <td rowspan=\"2\" valign=\"top\">male</td>\n",
       "      <td>Master</td>\n",
       "      <td>4.6</td>\n",
       "    </tr>\n",
       "    <tr>\n",
       "      <td>Mr</td>\n",
       "      <td>33.0</td>\n",
       "    </tr>\n",
       "  </tbody>\n",
       "</table>\n",
       "</div>"
      ],
      "text/plain": [
       "               age_estimate\n",
       "sex    title               \n",
       "female Miss            22.0\n",
       "       Mrs             35.9\n",
       "male   Master           4.6\n",
       "       Mr              33.0"
      ]
     },
     "execution_count": 22,
     "metadata": {},
     "output_type": "execute_result"
    },
    {
     "data": {
      "text/html": [
       "<div>\n",
       "<style scoped>\n",
       "    .dataframe tbody tr th:only-of-type {\n",
       "        vertical-align: middle;\n",
       "    }\n",
       "\n",
       "    .dataframe tbody tr th {\n",
       "        vertical-align: top;\n",
       "    }\n",
       "\n",
       "    .dataframe thead th {\n",
       "        text-align: right;\n",
       "    }\n",
       "</style>\n",
       "<table border=\"1\" class=\"dataframe\">\n",
       "  <thead>\n",
       "    <tr style=\"text-align: right;\">\n",
       "      <th></th>\n",
       "      <th>fare_estimate</th>\n",
       "    </tr>\n",
       "    <tr>\n",
       "      <th>pclass</th>\n",
       "      <th></th>\n",
       "    </tr>\n",
       "  </thead>\n",
       "  <tbody>\n",
       "    <tr>\n",
       "      <td>1</td>\n",
       "      <td>61.98</td>\n",
       "    </tr>\n",
       "    <tr>\n",
       "      <td>2</td>\n",
       "      <td>15.02</td>\n",
       "    </tr>\n",
       "    <tr>\n",
       "      <td>3</td>\n",
       "      <td>8.05</td>\n",
       "    </tr>\n",
       "  </tbody>\n",
       "</table>\n",
       "</div>"
      ],
      "text/plain": [
       "        fare_estimate\n",
       "pclass               \n",
       "1               61.98\n",
       "2               15.02\n",
       "3                8.05"
      ]
     },
     "execution_count": 22,
     "metadata": {},
     "output_type": "execute_result"
    },
    {
     "data": {
      "text/plain": [
       "Mr        537\n",
       "Miss      186\n",
       "Mrs       128\n",
       "Master     40\n",
       "Name: title, dtype: int64"
      ]
     },
     "execution_count": 22,
     "metadata": {},
     "output_type": "execute_result"
    }
   ],
   "source": [
    "train_transformed.Xy_age_estimate\n",
    "train_transformed.Xy_fare_estimate\n",
    "\n",
    "train_transformed.Xy.title.value_counts()"
   ]
  },
  {
   "cell_type": "markdown",
   "metadata": {},
   "source": [
    "**Display NaN**"
   ]
  },
  {
   "cell_type": "code",
   "execution_count": 23,
   "metadata": {},
   "outputs": [
    {
     "data": {
      "text/html": [
       "<div>\n",
       "<style scoped>\n",
       "    .dataframe tbody tr th:only-of-type {\n",
       "        vertical-align: middle;\n",
       "    }\n",
       "\n",
       "    .dataframe tbody tr th {\n",
       "        vertical-align: top;\n",
       "    }\n",
       "\n",
       "    .dataframe thead th {\n",
       "        text-align: right;\n",
       "    }\n",
       "</style>\n",
       "<table border=\"1\" class=\"dataframe\">\n",
       "  <thead>\n",
       "    <tr style=\"text-align: right;\">\n",
       "      <th></th>\n",
       "      <th>train_transformed</th>\n",
       "      <th>holdout_transformed</th>\n",
       "    </tr>\n",
       "  </thead>\n",
       "  <tbody>\n",
       "    <tr>\n",
       "      <td>cabin</td>\n",
       "      <td>687</td>\n",
       "      <td>327.0</td>\n",
       "    </tr>\n",
       "    <tr>\n",
       "      <td>cabin_prefix</td>\n",
       "      <td>665</td>\n",
       "      <td>296.0</td>\n",
       "    </tr>\n",
       "    <tr>\n",
       "      <td>age_raw</td>\n",
       "      <td>177</td>\n",
       "      <td>86.0</td>\n",
       "    </tr>\n",
       "    <tr>\n",
       "      <td>fare_raw</td>\n",
       "      <td>15</td>\n",
       "      <td>3.0</td>\n",
       "    </tr>\n",
       "    <tr>\n",
       "      <td>age</td>\n",
       "      <td>0</td>\n",
       "      <td>0.0</td>\n",
       "    </tr>\n",
       "    <tr>\n",
       "      <td>is_traveling_alone</td>\n",
       "      <td>0</td>\n",
       "      <td>0.0</td>\n",
       "    </tr>\n",
       "    <tr>\n",
       "      <td>ticket</td>\n",
       "      <td>0</td>\n",
       "      <td>0.0</td>\n",
       "    </tr>\n",
       "    <tr>\n",
       "      <td>sibsp</td>\n",
       "      <td>0</td>\n",
       "      <td>0.0</td>\n",
       "    </tr>\n",
       "    <tr>\n",
       "      <td>sex</td>\n",
       "      <td>0</td>\n",
       "      <td>0.0</td>\n",
       "    </tr>\n",
       "    <tr>\n",
       "      <td>pclass</td>\n",
       "      <td>0</td>\n",
       "      <td>0.0</td>\n",
       "    </tr>\n",
       "    <tr>\n",
       "      <td>parch</td>\n",
       "      <td>0</td>\n",
       "      <td>0.0</td>\n",
       "    </tr>\n",
       "    <tr>\n",
       "      <td>name</td>\n",
       "      <td>0</td>\n",
       "      <td>0.0</td>\n",
       "    </tr>\n",
       "    <tr>\n",
       "      <td>last_name</td>\n",
       "      <td>0</td>\n",
       "      <td>0.0</td>\n",
       "    </tr>\n",
       "    <tr>\n",
       "      <td>fare_estimate</td>\n",
       "      <td>0</td>\n",
       "      <td>0.0</td>\n",
       "    </tr>\n",
       "    <tr>\n",
       "      <td>is_child</td>\n",
       "      <td>0</td>\n",
       "      <td>0.0</td>\n",
       "    </tr>\n",
       "    <tr>\n",
       "      <td>age_bin</td>\n",
       "      <td>0</td>\n",
       "      <td>0.0</td>\n",
       "    </tr>\n",
       "    <tr>\n",
       "      <td>fare_bin</td>\n",
       "      <td>0</td>\n",
       "      <td>0.0</td>\n",
       "    </tr>\n",
       "    <tr>\n",
       "      <td>fare</td>\n",
       "      <td>0</td>\n",
       "      <td>0.0</td>\n",
       "    </tr>\n",
       "    <tr>\n",
       "      <td>family_size</td>\n",
       "      <td>0</td>\n",
       "      <td>0.0</td>\n",
       "    </tr>\n",
       "    <tr>\n",
       "      <td>embarked</td>\n",
       "      <td>0</td>\n",
       "      <td>0.0</td>\n",
       "    </tr>\n",
       "    <tr>\n",
       "      <td>cabin_number</td>\n",
       "      <td>4</td>\n",
       "      <td>0.0</td>\n",
       "    </tr>\n",
       "    <tr>\n",
       "      <td>age_estimate</td>\n",
       "      <td>0</td>\n",
       "      <td>0.0</td>\n",
       "    </tr>\n",
       "    <tr>\n",
       "      <td>title</td>\n",
       "      <td>0</td>\n",
       "      <td>0.0</td>\n",
       "    </tr>\n",
       "    <tr>\n",
       "      <td>survived</td>\n",
       "      <td>0</td>\n",
       "      <td>NaN</td>\n",
       "    </tr>\n",
       "  </tbody>\n",
       "</table>\n",
       "</div>"
      ],
      "text/plain": [
       "                    train_transformed  holdout_transformed\n",
       "cabin                             687                327.0\n",
       "cabin_prefix                      665                296.0\n",
       "age_raw                           177                 86.0\n",
       "fare_raw                           15                  3.0\n",
       "age                                 0                  0.0\n",
       "is_traveling_alone                  0                  0.0\n",
       "ticket                              0                  0.0\n",
       "sibsp                               0                  0.0\n",
       "sex                                 0                  0.0\n",
       "pclass                              0                  0.0\n",
       "parch                               0                  0.0\n",
       "name                                0                  0.0\n",
       "last_name                           0                  0.0\n",
       "fare_estimate                       0                  0.0\n",
       "is_child                            0                  0.0\n",
       "age_bin                             0                  0.0\n",
       "fare_bin                            0                  0.0\n",
       "fare                                0                  0.0\n",
       "family_size                         0                  0.0\n",
       "embarked                            0                  0.0\n",
       "cabin_number                        4                  0.0\n",
       "age_estimate                        0                  0.0\n",
       "title                               0                  0.0\n",
       "survived                            0                  NaN"
      ]
     },
     "execution_count": 23,
     "metadata": {},
     "output_type": "execute_result"
    }
   ],
   "source": [
    "df_nan = pd.concat([train_transformed.Xy.isna().sum().to_frame(), \n",
    "                    holdout_transformed.Xy.isna().sum().to_frame()], axis=1)\n",
    "\n",
    "df_nan.columns = ['train_transformed', 'holdout_transformed']\n",
    "\n",
    "with pd.option_context('display.max_rows', 25):\n",
    "    df_nan.sort_values(by='holdout_transformed',ascending=False)\n",
    "    "
   ]
  },
  {
   "cell_type": "markdown",
   "metadata": {},
   "source": [
    "### Save Transformed Data to data/preprocessed"
   ]
  },
  {
   "cell_type": "code",
   "execution_count": 24,
   "metadata": {},
   "outputs": [],
   "source": [
    "columns_to_drop = ['cabin', 'cabin_prefix', 'age_raw', 'fare_raw', 'fare_estimate', 'age_estimate']\n",
    "\n",
    "train_transformed.Xy.drop(columns_to_drop, axis=1).to_csv('../data/processed/train_v4.csv', index=True)\n",
    "holdout_transformed.Xy.drop(columns_to_drop, axis=1).to_csv('../data/processed/holdout_v4.csv', index=True)"
   ]
  },
  {
   "cell_type": "markdown",
   "metadata": {},
   "source": [
    "# Analysis of Holdout Data"
   ]
  },
  {
   "cell_type": "code",
   "execution_count": null,
   "metadata": {},
   "outputs": [],
   "source": []
  }
 ],
 "metadata": {
  "kernelspec": {
   "display_name": "Python 3",
   "language": "python",
   "name": "python3"
  },
  "language_info": {
   "codemirror_mode": {
    "name": "ipython",
    "version": 3
   },
   "file_extension": ".py",
   "mimetype": "text/x-python",
   "name": "python",
   "nbconvert_exporter": "python",
   "pygments_lexer": "ipython3",
   "version": "3.7.3"
  }
 },
 "nbformat": 4,
 "nbformat_minor": 4
}
