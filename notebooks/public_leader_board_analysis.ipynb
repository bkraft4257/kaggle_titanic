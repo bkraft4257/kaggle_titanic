{
 "cells": [
  {
   "cell_type": "markdown",
   "metadata": {},
   "source": [
    "# Public Leader Board Analysis"
   ]
  },
  {
   "cell_type": "markdown",
   "metadata": {},
   "source": [
    "https://www.kaggle.com/c/titanic/overview"
   ]
  },
  {
   "cell_type": "markdown",
   "metadata": {},
   "source": [
    "What is the best score possible with Kaggle Titanic data set?"
   ]
  },
  {
   "cell_type": "markdown",
   "metadata": {},
   "source": [
    "# Initialization"
   ]
  },
  {
   "cell_type": "code",
   "execution_count": 9,
   "metadata": {},
   "outputs": [
    {
     "data": {
      "text/html": [
       "<style>.container { width:80% !important; }</style>"
      ],
      "text/plain": [
       "<IPython.core.display.HTML object>"
      ]
     },
     "metadata": {},
     "output_type": "display_data"
    },
    {
     "name": "stdout",
     "output_type": "stream",
     "text": [
      "The autoreload extension is already loaded. To reload it, use:\n",
      "  %reload_ext autoreload\n"
     ]
    }
   ],
   "source": [
    "%run init.ipynb"
   ]
  },
  {
   "cell_type": "code",
   "execution_count": 10,
   "metadata": {},
   "outputs": [
    {
     "data": {
      "text/plain": [
       "0.79425"
      ]
     },
     "execution_count": 10,
     "metadata": {},
     "output_type": "execute_result"
    }
   ],
   "source": [
    "score ={'gender_only_model':0.76555, \n",
    "        'logres': 0.79425, \n",
    "        'xgb': 0.78468 }\n",
    "\n",
    "best_score = score['logres']\n",
    "best_score"
   ]
  },
  {
   "cell_type": "markdown",
   "metadata": {},
   "source": [
    "# Exploratory Data Analysis"
   ]
  },
  {
   "cell_type": "code",
   "execution_count": 13,
   "metadata": {},
   "outputs": [
    {
     "data": {
      "text/html": [
       "<div>\n",
       "<style scoped>\n",
       "    .dataframe tbody tr th:only-of-type {\n",
       "        vertical-align: middle;\n",
       "    }\n",
       "\n",
       "    .dataframe tbody tr th {\n",
       "        vertical-align: top;\n",
       "    }\n",
       "\n",
       "    .dataframe thead th {\n",
       "        text-align: right;\n",
       "    }\n",
       "</style>\n",
       "<table border=\"1\" class=\"dataframe\">\n",
       "  <thead>\n",
       "    <tr style=\"text-align: right;\">\n",
       "      <th></th>\n",
       "      <th>TeamId</th>\n",
       "      <th>TeamName</th>\n",
       "      <th>SubmissionDate</th>\n",
       "      <th>Score</th>\n",
       "      <th>dScore</th>\n",
       "    </tr>\n",
       "  </thead>\n",
       "  <tbody>\n",
       "    <tr>\n",
       "      <td>0.639531</td>\n",
       "      <td>3805168</td>\n",
       "      <td>BobKraft</td>\n",
       "      <td>2019-10-18 19:11:07</td>\n",
       "      <td>0.77511</td>\n",
       "      <td>0.0</td>\n",
       "    </tr>\n",
       "    <tr>\n",
       "      <td>0.700003</td>\n",
       "      <td>3805168</td>\n",
       "      <td>BobKraft</td>\n",
       "      <td>2019-10-21 19:33:54</td>\n",
       "      <td>0.77990</td>\n",
       "      <td>0.0</td>\n",
       "    </tr>\n",
       "    <tr>\n",
       "      <td>0.793689</td>\n",
       "      <td>3805168</td>\n",
       "      <td>BobKraft</td>\n",
       "      <td>2019-10-28 18:44:33</td>\n",
       "      <td>0.78468</td>\n",
       "      <td>0.0</td>\n",
       "    </tr>\n",
       "    <tr>\n",
       "      <td>0.905762</td>\n",
       "      <td>3805168</td>\n",
       "      <td>BobKraft</td>\n",
       "      <td>2019-10-28 19:07:52</td>\n",
       "      <td>0.79425</td>\n",
       "      <td>0.0</td>\n",
       "    </tr>\n",
       "  </tbody>\n",
       "</table>\n",
       "</div>"
      ],
      "text/plain": [
       "           TeamId  TeamName       SubmissionDate    Score  dScore\n",
       "0.639531  3805168  BobKraft  2019-10-18 19:11:07  0.77511     0.0\n",
       "0.700003  3805168  BobKraft  2019-10-21 19:33:54  0.77990     0.0\n",
       "0.793689  3805168  BobKraft  2019-10-28 18:44:33  0.78468     0.0\n",
       "0.905762  3805168  BobKraft  2019-10-28 19:07:52  0.79425     0.0"
      ]
     },
     "execution_count": 13,
     "metadata": {},
     "output_type": "execute_result"
    },
    {
     "data": {
      "text/plain": [
       "32578"
      ]
     },
     "execution_count": 13,
     "metadata": {},
     "output_type": "execute_result"
    },
    {
     "data": {
      "text/plain": [
       "159"
      ]
     },
     "execution_count": 13,
     "metadata": {},
     "output_type": "execute_result"
    },
    {
     "data": {
      "text/html": [
       "<div>\n",
       "<style scoped>\n",
       "    .dataframe tbody tr th:only-of-type {\n",
       "        vertical-align: middle;\n",
       "    }\n",
       "\n",
       "    .dataframe tbody tr th {\n",
       "        vertical-align: top;\n",
       "    }\n",
       "\n",
       "    .dataframe thead th {\n",
       "        text-align: right;\n",
       "    }\n",
       "</style>\n",
       "<table border=\"1\" class=\"dataframe\">\n",
       "  <thead>\n",
       "    <tr style=\"text-align: right;\">\n",
       "      <th></th>\n",
       "      <th>TeamId</th>\n",
       "      <th>TeamName</th>\n",
       "      <th>SubmissionDate</th>\n",
       "      <th>Score</th>\n",
       "    </tr>\n",
       "  </thead>\n",
       "  <tbody>\n",
       "    <tr>\n",
       "      <td>0.993953</td>\n",
       "      <td>262111</td>\n",
       "      <td>Vitor Alcântara Batista</td>\n",
       "      <td>2016-01-21 12:21:50</td>\n",
       "      <td>0.90430</td>\n",
       "    </tr>\n",
       "    <tr>\n",
       "      <td>0.993983</td>\n",
       "      <td>3761275</td>\n",
       "      <td>small tiger</td>\n",
       "      <td>2019-11-15 14:36:56</td>\n",
       "      <td>0.90430</td>\n",
       "    </tr>\n",
       "    <tr>\n",
       "      <td>0.994014</td>\n",
       "      <td>3783997</td>\n",
       "      <td>ritesh122</td>\n",
       "      <td>2019-11-22 19:12:39</td>\n",
       "      <td>0.90909</td>\n",
       "    </tr>\n",
       "    <tr>\n",
       "      <td>0.994045</td>\n",
       "      <td>3473900</td>\n",
       "      <td>Bill Miao</td>\n",
       "      <td>2019-10-27 23:36:01</td>\n",
       "      <td>0.90909</td>\n",
       "    </tr>\n",
       "    <tr>\n",
       "      <td>0.994076</td>\n",
       "      <td>980062</td>\n",
       "      <td>FSBDS Raquel Deneige</td>\n",
       "      <td>2019-10-07 02:01:12</td>\n",
       "      <td>0.90909</td>\n",
       "    </tr>\n",
       "    <tr>\n",
       "      <td>...</td>\n",
       "      <td>...</td>\n",
       "      <td>...</td>\n",
       "      <td>...</td>\n",
       "      <td>...</td>\n",
       "    </tr>\n",
       "    <tr>\n",
       "      <td>0.999877</td>\n",
       "      <td>3763375</td>\n",
       "      <td>onsmith</td>\n",
       "      <td>2019-10-15 17:34:45</td>\n",
       "      <td>1.00000</td>\n",
       "    </tr>\n",
       "    <tr>\n",
       "      <td>0.999908</td>\n",
       "      <td>3951455</td>\n",
       "      <td>WONG, Wing Kam</td>\n",
       "      <td>2019-11-11 16:11:23</td>\n",
       "      <td>1.00000</td>\n",
       "    </tr>\n",
       "    <tr>\n",
       "      <td>0.999939</td>\n",
       "      <td>3797939</td>\n",
       "      <td>chris-wang</td>\n",
       "      <td>2019-10-19 06:11:10</td>\n",
       "      <td>1.00000</td>\n",
       "    </tr>\n",
       "    <tr>\n",
       "      <td>0.999969</td>\n",
       "      <td>3762848</td>\n",
       "      <td>gouravraj</td>\n",
       "      <td>2019-10-19 19:07:59</td>\n",
       "      <td>1.00000</td>\n",
       "    </tr>\n",
       "    <tr>\n",
       "      <td>1.000000</td>\n",
       "      <td>1556221</td>\n",
       "      <td>Aman Neo</td>\n",
       "      <td>2019-10-08 21:15:45</td>\n",
       "      <td>1.00000</td>\n",
       "    </tr>\n",
       "  </tbody>\n",
       "</table>\n",
       "<p>198 rows × 4 columns</p>\n",
       "</div>"
      ],
      "text/plain": [
       "           TeamId                 TeamName       SubmissionDate    Score\n",
       "0.993953   262111  Vitor Alcântara Batista  2016-01-21 12:21:50  0.90430\n",
       "0.993983  3761275              small tiger  2019-11-15 14:36:56  0.90430\n",
       "0.994014  3783997                ritesh122  2019-11-22 19:12:39  0.90909\n",
       "0.994045  3473900                Bill Miao  2019-10-27 23:36:01  0.90909\n",
       "0.994076   980062     FSBDS Raquel Deneige  2019-10-07 02:01:12  0.90909\n",
       "...           ...                      ...                  ...      ...\n",
       "0.999877  3763375                  onsmith  2019-10-15 17:34:45  1.00000\n",
       "0.999908  3951455           WONG, Wing Kam  2019-11-11 16:11:23  1.00000\n",
       "0.999939  3797939               chris-wang  2019-10-19 06:11:10  1.00000\n",
       "0.999969  3762848                gouravraj  2019-10-19 19:07:59  1.00000\n",
       "1.000000  1556221                 Aman Neo  2019-10-08 21:15:45  1.00000\n",
       "\n",
       "[198 rows x 4 columns]"
      ]
     },
     "execution_count": 13,
     "metadata": {},
     "output_type": "execute_result"
    }
   ],
   "source": [
    "df_raw = (pd.read_csv('../data/external/titanic-publicleaderboard__2019-11-22.csv')\n",
    "      .sort_values(by='Score')\n",
    "      .reset_index(drop=True)\n",
    "     )\n",
    "\n",
    "df_raw.index = df_raw.index/df_raw.index.max()\n",
    "\n",
    "\n",
    "df = (pd.concat([df_raw[~df_raw.Score.duplicated()],\n",
    "                   df_raw[df_raw['TeamName'].str.contains('Kraft')]],\n",
    "               )\n",
    "               .sort_index()\n",
    "                )\n",
    "#df['Score'] = df['Score'].rolling(window=20).mean().fillna(0)\n",
    "#df = df.iloc[0::10]\n",
    "df['dScore'] = df['Score'].diff().fillna(0)\n",
    "      \n",
    "df[df['TeamName'].str.contains('Kraft')]\n",
    "\n",
    "len(df_raw)\n",
    "len(df)\n",
    "\n",
    "df_raw[df_raw['Score'] > 0.9]"
   ]
  },
  {
   "cell_type": "markdown",
   "metadata": {},
   "source": [
    "### Gender Only"
   ]
  },
  {
   "cell_type": "code",
   "execution_count": 21,
   "metadata": {},
   "outputs": [
    {
     "data": {
      "text/html": [
       "<div>\n",
       "<style scoped>\n",
       "    .dataframe tbody tr th:only-of-type {\n",
       "        vertical-align: middle;\n",
       "    }\n",
       "\n",
       "    .dataframe tbody tr th {\n",
       "        vertical-align: top;\n",
       "    }\n",
       "\n",
       "    .dataframe thead th {\n",
       "        text-align: right;\n",
       "    }\n",
       "</style>\n",
       "<table border=\"1\" class=\"dataframe\">\n",
       "  <thead>\n",
       "    <tr style=\"text-align: right;\">\n",
       "      <th></th>\n",
       "      <th>TeamId</th>\n",
       "      <th>TeamName</th>\n",
       "      <th>SubmissionDate</th>\n",
       "      <th>Score</th>\n",
       "      <th>dScore</th>\n",
       "    </tr>\n",
       "  </thead>\n",
       "  <tbody>\n",
       "    <tr>\n",
       "      <td>0.308715</td>\n",
       "      <td>3805501</td>\n",
       "      <td>YoungGyun Lee</td>\n",
       "      <td>2019-10-17 12:02:43</td>\n",
       "      <td>0.76555</td>\n",
       "      <td>0.00479</td>\n",
       "    </tr>\n",
       "  </tbody>\n",
       "</table>\n",
       "</div>"
      ],
      "text/plain": [
       "           TeamId       TeamName       SubmissionDate    Score   dScore\n",
       "0.308715  3805501  YoungGyun Lee  2019-10-17 12:02:43  0.76555  0.00479"
      ]
     },
     "execution_count": 21,
     "metadata": {},
     "output_type": "execute_result"
    },
    {
     "data": {
      "text/html": [
       "<div>\n",
       "<style scoped>\n",
       "    .dataframe tbody tr th:only-of-type {\n",
       "        vertical-align: middle;\n",
       "    }\n",
       "\n",
       "    .dataframe tbody tr th {\n",
       "        vertical-align: top;\n",
       "    }\n",
       "\n",
       "    .dataframe thead th {\n",
       "        text-align: right;\n",
       "    }\n",
       "</style>\n",
       "<table border=\"1\" class=\"dataframe\">\n",
       "  <thead>\n",
       "    <tr style=\"text-align: right;\">\n",
       "      <th></th>\n",
       "      <th>TeamId</th>\n",
       "      <th>TeamName</th>\n",
       "      <th>SubmissionDate</th>\n",
       "      <th>Score</th>\n",
       "      <th>dScore</th>\n",
       "    </tr>\n",
       "  </thead>\n",
       "  <tbody>\n",
       "    <tr>\n",
       "      <td>0.639531</td>\n",
       "      <td>3805168</td>\n",
       "      <td>BobKraft</td>\n",
       "      <td>2019-10-18 19:11:07</td>\n",
       "      <td>0.77511</td>\n",
       "      <td>0.0</td>\n",
       "    </tr>\n",
       "    <tr>\n",
       "      <td>0.700003</td>\n",
       "      <td>3805168</td>\n",
       "      <td>BobKraft</td>\n",
       "      <td>2019-10-21 19:33:54</td>\n",
       "      <td>0.77990</td>\n",
       "      <td>0.0</td>\n",
       "    </tr>\n",
       "    <tr>\n",
       "      <td>0.793689</td>\n",
       "      <td>3805168</td>\n",
       "      <td>BobKraft</td>\n",
       "      <td>2019-10-28 18:44:33</td>\n",
       "      <td>0.78468</td>\n",
       "      <td>0.0</td>\n",
       "    </tr>\n",
       "    <tr>\n",
       "      <td>0.905762</td>\n",
       "      <td>3805168</td>\n",
       "      <td>BobKraft</td>\n",
       "      <td>2019-10-28 19:07:52</td>\n",
       "      <td>0.79425</td>\n",
       "      <td>0.0</td>\n",
       "    </tr>\n",
       "  </tbody>\n",
       "</table>\n",
       "</div>"
      ],
      "text/plain": [
       "           TeamId  TeamName       SubmissionDate    Score  dScore\n",
       "0.639531  3805168  BobKraft  2019-10-18 19:11:07  0.77511     0.0\n",
       "0.700003  3805168  BobKraft  2019-10-21 19:33:54  0.77990     0.0\n",
       "0.793689  3805168  BobKraft  2019-10-28 18:44:33  0.78468     0.0\n",
       "0.905762  3805168  BobKraft  2019-10-28 19:07:52  0.79425     0.0"
      ]
     },
     "execution_count": 21,
     "metadata": {},
     "output_type": "execute_result"
    },
    {
     "data": {
      "text/html": [
       "<div>\n",
       "<style scoped>\n",
       "    .dataframe tbody tr th:only-of-type {\n",
       "        vertical-align: middle;\n",
       "    }\n",
       "\n",
       "    .dataframe tbody tr th {\n",
       "        vertical-align: top;\n",
       "    }\n",
       "\n",
       "    .dataframe thead th {\n",
       "        text-align: right;\n",
       "    }\n",
       "</style>\n",
       "<table border=\"1\" class=\"dataframe\">\n",
       "  <thead>\n",
       "    <tr style=\"text-align: right;\">\n",
       "      <th></th>\n",
       "      <th>TeamId</th>\n",
       "      <th>TeamName</th>\n",
       "      <th>SubmissionDate</th>\n",
       "      <th>Score</th>\n",
       "      <th>dScore</th>\n",
       "    </tr>\n",
       "  </thead>\n",
       "  <tbody>\n",
       "    <tr>\n",
       "      <td>0.905762</td>\n",
       "      <td>3805168</td>\n",
       "      <td>BobKraft</td>\n",
       "      <td>2019-10-28 19:07:52</td>\n",
       "      <td>0.79425</td>\n",
       "      <td>0.0</td>\n",
       "    </tr>\n",
       "  </tbody>\n",
       "</table>\n",
       "</div>"
      ],
      "text/plain": [
       "           TeamId  TeamName       SubmissionDate    Score  dScore\n",
       "0.905762  3805168  BobKraft  2019-10-28 19:07:52  0.79425     0.0"
      ]
     },
     "execution_count": 21,
     "metadata": {},
     "output_type": "execute_result"
    }
   ],
   "source": [
    "gom = df[df.Score == score['gender_only_model']]\n",
    "df_kraft = df[df['TeamName'].str.contains('BobKraft')]\n",
    "df_kraft_best  = df_kraft[df_kraft.Score == df_kraft.Score.max()]\n",
    "\n",
    "gom\n",
    "df_kraft\n",
    "df_kraft_best"
   ]
  },
  {
   "cell_type": "code",
   "execution_count": 18,
   "metadata": {},
   "outputs": [
    {
     "data": {
      "text/html": [
       "<div>\n",
       "<style scoped>\n",
       "    .dataframe tbody tr th:only-of-type {\n",
       "        vertical-align: middle;\n",
       "    }\n",
       "\n",
       "    .dataframe tbody tr th {\n",
       "        vertical-align: top;\n",
       "    }\n",
       "\n",
       "    .dataframe thead th {\n",
       "        text-align: right;\n",
       "    }\n",
       "</style>\n",
       "<table border=\"1\" class=\"dataframe\">\n",
       "  <thead>\n",
       "    <tr style=\"text-align: right;\">\n",
       "      <th></th>\n",
       "      <th>TeamId</th>\n",
       "      <th>TeamName</th>\n",
       "      <th>SubmissionDate</th>\n",
       "      <th>Score</th>\n",
       "      <th>dScore</th>\n",
       "    </tr>\n",
       "  </thead>\n",
       "  <tbody>\n",
       "    <tr>\n",
       "      <td>0.639531</td>\n",
       "      <td>3805168</td>\n",
       "      <td>BobKraft</td>\n",
       "      <td>2019-10-18 19:11:07</td>\n",
       "      <td>0.77511</td>\n",
       "      <td>0.0</td>\n",
       "    </tr>\n",
       "    <tr>\n",
       "      <td>0.700003</td>\n",
       "      <td>3805168</td>\n",
       "      <td>BobKraft</td>\n",
       "      <td>2019-10-21 19:33:54</td>\n",
       "      <td>0.77990</td>\n",
       "      <td>0.0</td>\n",
       "    </tr>\n",
       "    <tr>\n",
       "      <td>0.793689</td>\n",
       "      <td>3805168</td>\n",
       "      <td>BobKraft</td>\n",
       "      <td>2019-10-28 18:44:33</td>\n",
       "      <td>0.78468</td>\n",
       "      <td>0.0</td>\n",
       "    </tr>\n",
       "    <tr>\n",
       "      <td>0.905762</td>\n",
       "      <td>3805168</td>\n",
       "      <td>BobKraft</td>\n",
       "      <td>2019-10-28 19:07:52</td>\n",
       "      <td>0.79425</td>\n",
       "      <td>0.0</td>\n",
       "    </tr>\n",
       "  </tbody>\n",
       "</table>\n",
       "</div>"
      ],
      "text/plain": [
       "           TeamId  TeamName       SubmissionDate    Score  dScore\n",
       "0.639531  3805168  BobKraft  2019-10-18 19:11:07  0.77511     0.0\n",
       "0.700003  3805168  BobKraft  2019-10-21 19:33:54  0.77990     0.0\n",
       "0.793689  3805168  BobKraft  2019-10-28 18:44:33  0.78468     0.0\n",
       "0.905762  3805168  BobKraft  2019-10-28 19:07:52  0.79425     0.0"
      ]
     },
     "execution_count": 18,
     "metadata": {},
     "output_type": "execute_result"
    }
   ],
   "source": [
    "df[ df['TeamName'].str.contains('Kraft')]"
   ]
  },
  {
   "cell_type": "code",
   "execution_count": 52,
   "metadata": {},
   "outputs": [
    {
     "data": {
      "image/png": "[encoded data removed]",
      "text/plain": [
       "<Figure size 864x864 with 1 Axes>"
      ]
     },
     "metadata": {
      "needs_background": "light"
     },
     "output_type": "display_data"
    }
   ],
   "source": [
    "plt.clf()\n",
    "ax1 = df.Score.plot(figsize=(12,12));\n",
    "ax1.tick_params(axis=\"x\", labelsize=16);\n",
    "ax1.tick_params(axis=\"y\", labelsize=16);\n",
    "\n",
    "plt.xlabel('Normalized Submissions', fontsize=30);\n",
    "plt.ylabel('Accuracy', fontsize=30);\n",
    "plt.title('Kaggle Public Leader Board (2019-11-22)', fontsize=30)\n",
    "\n",
    "df_kraft_best.Score.plot(marker='o', c='red',markersize=20, alpha=0.5);\n",
    "\n",
    "df[df.Score == score['gender_only_model']].Score.plot(marker='o', c='blue', markersize=20, alpha=0.5);\n",
    "\n",
    "plt.text(gom.index.values+.005, gom.Score.values-.005, 'GOM', fontsize=20);\n",
    "plt.text(df_kraft_best.index.values-.05, df_kraft_best.Score.values-.008, 'BK Best', fontsize=20);\n",
    "\n",
    "plt.axis([0.25,1,0.7,0.85]);\n",
    "plt.savefig('../docs/_images/public_leader_board.png')\n",
    "plt.show();\n",
    "\n"
   ]
  }
 ],
 "metadata": {
  "kernelspec": {
   "display_name": "Python 3",
   "language": "python",
   "name": "python3"
  },
  "language_info": {
   "codemirror_mode": {
    "name": "ipython",
    "version": 3
   },
   "file_extension": ".py",
   "mimetype": "text/x-python",
   "name": "python",
   "nbconvert_exporter": "python",
   "pygments_lexer": "ipython3",
   "version": "3.7.3"
  }
 },
 "nbformat": 4,
 "nbformat_minor": 4
}
